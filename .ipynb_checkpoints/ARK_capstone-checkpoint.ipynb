{
 "cells": [
  {
   "cell_type": "markdown",
   "id": "f177ed03",
   "metadata": {},
   "source": [
    "## <center> Capstone Project: Articles Categorization </center>"
   ]
  },
  {
   "cell_type": "markdown",
   "id": "5294d7db",
   "metadata": {},
   "source": [
    "### Table of Contents\n",
    "\n",
    "- [Problem Statement:](#Problem-Statement:)\n",
    "- [Articles category dataset](#Articles-category-dataset)\n",
    "    - [Data Dictionary](#Data-Dictionary)\n",
    "    \n",
    "    <br>\n",
    "    \n",
    "- [Exploratory Data Analysis (EDA)](#Exploratory-Data-Analysis-(EDA))\n",
    "    - [Missing Data](#Missing-Data)\n",
    "    - [Duplicate Data](#Duplicate-Data)\n",
    "    - [Are the authors equally popular?](#Are-the-authors-equally-popular?)\n",
    "    - [Article trends by month](#Article-trends-by-month)\n",
    "    - [Article trends by year](#Article-trends-by-year)\n",
    "    - [Articles distribution by category](#Articles-distribution-by-category)\n",
    "\n",
    "    <br>\n",
    " \n",
    "- [Preprocessing for modelling](#Preprocessing-for-modelling)\n",
    "    - [Grouping similar categories](#Grouping-similar-categories)\n",
    "    - [Custom Tokenizer](#Custom-Tokenizer)\n",
    "\n",
    "    <br>\n",
    " \n",
    "- [Modelling and evaluation](#Modelling-and-evaluation)\n",
    "    - [Logistic Regression - baseline model](#Logistic-Regression---baseline-model)            \n",
    "        - [CountVectorizer using custom tokenizer](#CountVectorizer-using-custom-tokenizer)\n",
    "        - [CountVectorizer using custom vectorizer and upsampling \"train set\"](#CountVectorizer-using-custom-vectorizer-and-upsampling-\"train-set\")\n",
    "        - [TF-IDF using custom tokenizer](#TF-IDF-using-custom-tokenizer)\n",
    "        - [TF-IDF using custom vectorizer and upsampling \"train set\"](#TF-IDF-using-custom-vectorizer-and-upsampling-\"train-set\")\n",
    "\n",
    "    <br>\n",
    "\n",
    "- [Next steps:](#Next-steps:)\n"
   ]
  },
  {
   "cell_type": "markdown",
   "id": "2523a13f",
   "metadata": {},
   "source": [
    "#### Problem Statement: \n",
    "\n",
    "Navigating the Future: Contextual Ad Targeting as the New Frontier in Privacy-Compliant Advertising\n",
    "\n",
    "\n",
    "\n",
    "#### The Problem area: \n",
    "\n",
    "How can we use machine learning to help advertisers reach their target audiences in the digital marketing world post cookie depreciation? Google and other major digital tech companies are going through a transition in finding better ways to help brands connect with their potential customers in a privacy centric way.\n",
    "\n",
    "#### The Big Idea:  \n",
    "\n",
    "What if there is a way to understand/classify the content that the user is interacting? This signal can then be capitalized to serve ads effectively, especially in a world where there is no personal identifiers (cookies, Mobile IDs). Example: A user browsing through articles on travel is most likely going to make that trip and it would only make sense to show ads relevant travel ads next to those articles. "
   ]
  },
  {
   "cell_type": "markdown",
   "id": "7a408280",
   "metadata": {},
   "source": [
    "#### Articles category dataset\n",
    "This dataset contains around 210k news headlines from 2012 to 2022 from HuffPost. This is one of the biggest news datasets and can serve as a benchmark for a variety of computational linguistic tasks. HuffPost stopped maintaining an extensive archive of news articles sometime after this dataset was first collected in 2018, so it is not possible to collect such a dataset in the present day. Due to changes in the website, there are about 200k headlines between 2012 and May 2018 and 10k headlines between May 2018 and 2022."
   ]
  },
  {
   "cell_type": "code",
   "execution_count": 52,
   "id": "d690e460",
   "metadata": {},
   "outputs": [
    {
     "data": {
      "application/javascript": [
       "\n",
       "            setTimeout(function() {\n",
       "                var nbb_cell_id = 52;\n",
       "                var nbb_unformatted_code = \"# Importing necessary libraries and packages\\n\\nimport numpy as np\\nimport pandas as pd\\nimport matplotlib.pyplot as plt\\nimport seaborn as sns\\nimport plotly.express as px\\nimport string\\nimport re\\nfrom sklearn.model_selection import train_test_split\\nfrom sklearn.linear_model import LogisticRegression\\nfrom sklearn.metrics import accuracy_score\\nfrom sklearn.metrics import classification_report\\nfrom sklearn.metrics import confusion_matrix\\nfrom sklearn.feature_extraction.text import TfidfVectorizer\";\n",
       "                var nbb_formatted_code = \"# Importing necessary libraries and packages\\n\\nimport numpy as np\\nimport pandas as pd\\nimport matplotlib.pyplot as plt\\nimport seaborn as sns\\nimport plotly.express as px\\nimport string\\nimport re\\nfrom sklearn.model_selection import train_test_split\\nfrom sklearn.linear_model import LogisticRegression\\nfrom sklearn.metrics import accuracy_score\\nfrom sklearn.metrics import classification_report\\nfrom sklearn.metrics import confusion_matrix\\nfrom sklearn.feature_extraction.text import TfidfVectorizer\";\n",
       "                var nbb_cells = Jupyter.notebook.get_cells();\n",
       "                for (var i = 0; i < nbb_cells.length; ++i) {\n",
       "                    if (nbb_cells[i].input_prompt_number == nbb_cell_id) {\n",
       "                        if (nbb_cells[i].get_text() == nbb_unformatted_code) {\n",
       "                             nbb_cells[i].set_text(nbb_formatted_code);\n",
       "                        }\n",
       "                        break;\n",
       "                    }\n",
       "                }\n",
       "            }, 500);\n",
       "            "
      ],
      "text/plain": [
       "<IPython.core.display.Javascript object>"
      ]
     },
     "metadata": {},
     "output_type": "display_data"
    }
   ],
   "source": [
    "# Importing necessary libraries and packages\n",
    "\n",
    "import numpy as np\n",
    "import pandas as pd\n",
    "import matplotlib.pyplot as plt\n",
    "import seaborn as sns\n",
    "import plotly.express as px\n",
    "import string\n",
    "import re\n",
    "from sklearn.model_selection import train_test_split\n",
    "from sklearn.linear_model import LogisticRegression\n",
    "from sklearn.metrics import accuracy_score\n",
    "from sklearn.metrics import classification_report\n",
    "from sklearn.metrics import confusion_matrix\n",
    "from sklearn.feature_extraction.text import TfidfVectorizer\n"
   ]
  },
  {
   "cell_type": "code",
   "execution_count": 53,
   "id": "4b1c32f5",
   "metadata": {},
   "outputs": [
    {
     "data": {
      "application/javascript": [
       "\n",
       "            setTimeout(function() {\n",
       "                var nbb_cell_id = 53;\n",
       "                var nbb_unformatted_code = \"# Reading the data from the source json file and writing it into a dataframe\\n\\ndf = pd.read_json('News_Category_Dataset_v3.json',lines=True)\\n\\n\\n# Setting the index to begin from 1\\ndf.reset_index(drop=True, inplace=True)\\ndf.index += 1\";\n",
       "                var nbb_formatted_code = \"# Reading the data from the source json file and writing it into a dataframe\\n\\ndf = pd.read_json(\\\"News_Category_Dataset_v3.json\\\", lines=True)\\n\\n\\n# Setting the index to begin from 1\\ndf.reset_index(drop=True, inplace=True)\\ndf.index += 1\";\n",
       "                var nbb_cells = Jupyter.notebook.get_cells();\n",
       "                for (var i = 0; i < nbb_cells.length; ++i) {\n",
       "                    if (nbb_cells[i].input_prompt_number == nbb_cell_id) {\n",
       "                        if (nbb_cells[i].get_text() == nbb_unformatted_code) {\n",
       "                             nbb_cells[i].set_text(nbb_formatted_code);\n",
       "                        }\n",
       "                        break;\n",
       "                    }\n",
       "                }\n",
       "            }, 500);\n",
       "            "
      ],
      "text/plain": [
       "<IPython.core.display.Javascript object>"
      ]
     },
     "metadata": {},
     "output_type": "display_data"
    }
   ],
   "source": [
    "# Reading the data from the source json file and writing it into a dataframe\n",
    "\n",
    "df = pd.read_json('News_Category_Dataset_v3.json',lines=True)\n",
    "\n",
    "\n",
    "# Setting the index to begin from 1\n",
    "df.reset_index(drop=True, inplace=True)\n",
    "df.index += 1\n"
   ]
  },
  {
   "cell_type": "code",
   "execution_count": 54,
   "id": "355667a2",
   "metadata": {},
   "outputs": [
    {
     "data": {
      "text/html": [
       "<div>\n",
       "<style scoped>\n",
       "    .dataframe tbody tr th:only-of-type {\n",
       "        vertical-align: middle;\n",
       "    }\n",
       "\n",
       "    .dataframe tbody tr th {\n",
       "        vertical-align: top;\n",
       "    }\n",
       "\n",
       "    .dataframe thead th {\n",
       "        text-align: right;\n",
       "    }\n",
       "</style>\n",
       "<table border=\"1\" class=\"dataframe\">\n",
       "  <thead>\n",
       "    <tr style=\"text-align: right;\">\n",
       "      <th></th>\n",
       "      <th>link</th>\n",
       "      <th>headline</th>\n",
       "      <th>category</th>\n",
       "      <th>short_description</th>\n",
       "      <th>authors</th>\n",
       "      <th>date</th>\n",
       "    </tr>\n",
       "  </thead>\n",
       "  <tbody>\n",
       "    <tr>\n",
       "      <th>1</th>\n",
       "      <td>https://www.huffpost.com/entry/covid-boosters-...</td>\n",
       "      <td>Over 4 Million Americans Roll Up Sleeves For O...</td>\n",
       "      <td>U.S. NEWS</td>\n",
       "      <td>Health experts said it is too early to predict...</td>\n",
       "      <td>Carla K. Johnson, AP</td>\n",
       "      <td>2022-09-23</td>\n",
       "    </tr>\n",
       "    <tr>\n",
       "      <th>2</th>\n",
       "      <td>https://www.huffpost.com/entry/american-airlin...</td>\n",
       "      <td>American Airlines Flyer Charged, Banned For Li...</td>\n",
       "      <td>U.S. NEWS</td>\n",
       "      <td>He was subdued by passengers and crew when he ...</td>\n",
       "      <td>Mary Papenfuss</td>\n",
       "      <td>2022-09-23</td>\n",
       "    </tr>\n",
       "    <tr>\n",
       "      <th>3</th>\n",
       "      <td>https://www.huffpost.com/entry/funniest-tweets...</td>\n",
       "      <td>23 Of The Funniest Tweets About Cats And Dogs ...</td>\n",
       "      <td>COMEDY</td>\n",
       "      <td>\"Until you have a dog you don't understand wha...</td>\n",
       "      <td>Elyse Wanshel</td>\n",
       "      <td>2022-09-23</td>\n",
       "    </tr>\n",
       "    <tr>\n",
       "      <th>4</th>\n",
       "      <td>https://www.huffpost.com/entry/funniest-parent...</td>\n",
       "      <td>The Funniest Tweets From Parents This Week (Se...</td>\n",
       "      <td>PARENTING</td>\n",
       "      <td>\"Accidentally put grown-up toothpaste on my to...</td>\n",
       "      <td>Caroline Bologna</td>\n",
       "      <td>2022-09-23</td>\n",
       "    </tr>\n",
       "    <tr>\n",
       "      <th>5</th>\n",
       "      <td>https://www.huffpost.com/entry/amy-cooper-lose...</td>\n",
       "      <td>Woman Who Called Cops On Black Bird-Watcher Lo...</td>\n",
       "      <td>U.S. NEWS</td>\n",
       "      <td>Amy Cooper accused investment firm Franklin Te...</td>\n",
       "      <td>Nina Golgowski</td>\n",
       "      <td>2022-09-22</td>\n",
       "    </tr>\n",
       "    <tr>\n",
       "      <th>6</th>\n",
       "      <td>https://www.huffpost.com/entry/belk-worker-fou...</td>\n",
       "      <td>Cleaner Was Dead In Belk Bathroom For 4 Days B...</td>\n",
       "      <td>U.S. NEWS</td>\n",
       "      <td>The 63-year-old woman was seen working at the ...</td>\n",
       "      <td></td>\n",
       "      <td>2022-09-22</td>\n",
       "    </tr>\n",
       "    <tr>\n",
       "      <th>7</th>\n",
       "      <td>https://www.huffpost.com/entry/reporter-gets-a...</td>\n",
       "      <td>Reporter Gets Adorable Surprise From Her Boyfr...</td>\n",
       "      <td>U.S. NEWS</td>\n",
       "      <td>\"Who's that behind you?\" an anchor for New Yor...</td>\n",
       "      <td>Elyse Wanshel</td>\n",
       "      <td>2022-09-22</td>\n",
       "    </tr>\n",
       "    <tr>\n",
       "      <th>8</th>\n",
       "      <td>https://www.huffpost.com/entry/puerto-rico-wat...</td>\n",
       "      <td>Puerto Ricans Desperate For Water After Hurric...</td>\n",
       "      <td>WORLD NEWS</td>\n",
       "      <td>More than half a million people remained witho...</td>\n",
       "      <td>DÁNICA COTO, AP</td>\n",
       "      <td>2022-09-22</td>\n",
       "    </tr>\n",
       "    <tr>\n",
       "      <th>9</th>\n",
       "      <td>https://www.huffpost.com/entry/mija-documentar...</td>\n",
       "      <td>How A New Documentary Captures The Complexity ...</td>\n",
       "      <td>CULTURE &amp; ARTS</td>\n",
       "      <td>In \"Mija,\" director Isabel Castro combined mus...</td>\n",
       "      <td>Marina Fang</td>\n",
       "      <td>2022-09-22</td>\n",
       "    </tr>\n",
       "    <tr>\n",
       "      <th>10</th>\n",
       "      <td>https://www.huffpost.com/entry/biden-un-russia...</td>\n",
       "      <td>Biden At UN To Call Russian War An Affront To ...</td>\n",
       "      <td>WORLD NEWS</td>\n",
       "      <td>White House officials say the crux of the pres...</td>\n",
       "      <td>Aamer Madhani, AP</td>\n",
       "      <td>2022-09-21</td>\n",
       "    </tr>\n",
       "  </tbody>\n",
       "</table>\n",
       "</div>"
      ],
      "text/plain": [
       "                                                 link  \\\n",
       "1   https://www.huffpost.com/entry/covid-boosters-...   \n",
       "2   https://www.huffpost.com/entry/american-airlin...   \n",
       "3   https://www.huffpost.com/entry/funniest-tweets...   \n",
       "4   https://www.huffpost.com/entry/funniest-parent...   \n",
       "5   https://www.huffpost.com/entry/amy-cooper-lose...   \n",
       "6   https://www.huffpost.com/entry/belk-worker-fou...   \n",
       "7   https://www.huffpost.com/entry/reporter-gets-a...   \n",
       "8   https://www.huffpost.com/entry/puerto-rico-wat...   \n",
       "9   https://www.huffpost.com/entry/mija-documentar...   \n",
       "10  https://www.huffpost.com/entry/biden-un-russia...   \n",
       "\n",
       "                                             headline        category  \\\n",
       "1   Over 4 Million Americans Roll Up Sleeves For O...       U.S. NEWS   \n",
       "2   American Airlines Flyer Charged, Banned For Li...       U.S. NEWS   \n",
       "3   23 Of The Funniest Tweets About Cats And Dogs ...          COMEDY   \n",
       "4   The Funniest Tweets From Parents This Week (Se...       PARENTING   \n",
       "5   Woman Who Called Cops On Black Bird-Watcher Lo...       U.S. NEWS   \n",
       "6   Cleaner Was Dead In Belk Bathroom For 4 Days B...       U.S. NEWS   \n",
       "7   Reporter Gets Adorable Surprise From Her Boyfr...       U.S. NEWS   \n",
       "8   Puerto Ricans Desperate For Water After Hurric...      WORLD NEWS   \n",
       "9   How A New Documentary Captures The Complexity ...  CULTURE & ARTS   \n",
       "10  Biden At UN To Call Russian War An Affront To ...      WORLD NEWS   \n",
       "\n",
       "                                    short_description               authors  \\\n",
       "1   Health experts said it is too early to predict...  Carla K. Johnson, AP   \n",
       "2   He was subdued by passengers and crew when he ...        Mary Papenfuss   \n",
       "3   \"Until you have a dog you don't understand wha...         Elyse Wanshel   \n",
       "4   \"Accidentally put grown-up toothpaste on my to...      Caroline Bologna   \n",
       "5   Amy Cooper accused investment firm Franklin Te...        Nina Golgowski   \n",
       "6   The 63-year-old woman was seen working at the ...                         \n",
       "7   \"Who's that behind you?\" an anchor for New Yor...         Elyse Wanshel   \n",
       "8   More than half a million people remained witho...       DÁNICA COTO, AP   \n",
       "9   In \"Mija,\" director Isabel Castro combined mus...           Marina Fang   \n",
       "10  White House officials say the crux of the pres...     Aamer Madhani, AP   \n",
       "\n",
       "         date  \n",
       "1  2022-09-23  \n",
       "2  2022-09-23  \n",
       "3  2022-09-23  \n",
       "4  2022-09-23  \n",
       "5  2022-09-22  \n",
       "6  2022-09-22  \n",
       "7  2022-09-22  \n",
       "8  2022-09-22  \n",
       "9  2022-09-22  \n",
       "10 2022-09-21  "
      ]
     },
     "execution_count": 54,
     "metadata": {},
     "output_type": "execute_result"
    },
    {
     "data": {
      "application/javascript": [
       "\n",
       "            setTimeout(function() {\n",
       "                var nbb_cell_id = 54;\n",
       "                var nbb_unformatted_code = \"# First look at the loaded dataset\\n\\ndf.head(10)\";\n",
       "                var nbb_formatted_code = \"# First look at the loaded dataset\\n\\ndf.head(10)\";\n",
       "                var nbb_cells = Jupyter.notebook.get_cells();\n",
       "                for (var i = 0; i < nbb_cells.length; ++i) {\n",
       "                    if (nbb_cells[i].input_prompt_number == nbb_cell_id) {\n",
       "                        if (nbb_cells[i].get_text() == nbb_unformatted_code) {\n",
       "                             nbb_cells[i].set_text(nbb_formatted_code);\n",
       "                        }\n",
       "                        break;\n",
       "                    }\n",
       "                }\n",
       "            }, 500);\n",
       "            "
      ],
      "text/plain": [
       "<IPython.core.display.Javascript object>"
      ]
     },
     "metadata": {},
     "output_type": "display_data"
    }
   ],
   "source": [
    "# First look at the loaded dataset\n",
    "\n",
    "df.head(10)"
   ]
  },
  {
   "cell_type": "markdown",
   "id": "68d87d5e",
   "metadata": {},
   "source": [
    "From the first look, we can see that there is a blank cell in row 6 under `authors` column."
   ]
  },
  {
   "cell_type": "markdown",
   "id": "059309a1",
   "metadata": {},
   "source": [
    "#### Data Dictionary:\n",
    "\n",
    "| Feature      | Description                               |\n",
    "|:--------------------|:------------------------------------------|\n",
    "| category          | Category in which the article was published. |\n",
    "| headline          | The headline of the news article.         |\n",
    "| authors           | List of authors who contributed to the article. |\n",
    "| link              | Link to the original news article.       |\n",
    "| short_description | Abstract of the news article.            |\n",
    "| date              | Publication date of the article.         |\n"
   ]
  },
  {
   "cell_type": "markdown",
   "id": "137d8aa0",
   "metadata": {},
   "source": [
    "### Exploratory Data Analysis (EDA)"
   ]
  },
  {
   "cell_type": "code",
   "execution_count": 55,
   "id": "9053fafc",
   "metadata": {},
   "outputs": [
    {
     "name": "stdout",
     "output_type": "stream",
     "text": [
      "<class 'pandas.core.frame.DataFrame'>\n",
      "RangeIndex: 209527 entries, 1 to 209527\n",
      "Data columns (total 6 columns):\n",
      " #   Column             Non-Null Count   Dtype         \n",
      "---  ------             --------------   -----         \n",
      " 0   link               209527 non-null  object        \n",
      " 1   headline           209527 non-null  object        \n",
      " 2   category           209527 non-null  object        \n",
      " 3   short_description  209527 non-null  object        \n",
      " 4   authors            209527 non-null  object        \n",
      " 5   date               209527 non-null  datetime64[ns]\n",
      "dtypes: datetime64[ns](1), object(5)\n",
      "memory usage: 9.6+ MB\n"
     ]
    },
    {
     "data": {
      "application/javascript": [
       "\n",
       "            setTimeout(function() {\n",
       "                var nbb_cell_id = 55;\n",
       "                var nbb_unformatted_code = \"# Understanding the datatypes and missing values\\ndf.info()\";\n",
       "                var nbb_formatted_code = \"# Understanding the datatypes and missing values\\ndf.info()\";\n",
       "                var nbb_cells = Jupyter.notebook.get_cells();\n",
       "                for (var i = 0; i < nbb_cells.length; ++i) {\n",
       "                    if (nbb_cells[i].input_prompt_number == nbb_cell_id) {\n",
       "                        if (nbb_cells[i].get_text() == nbb_unformatted_code) {\n",
       "                             nbb_cells[i].set_text(nbb_formatted_code);\n",
       "                        }\n",
       "                        break;\n",
       "                    }\n",
       "                }\n",
       "            }, 500);\n",
       "            "
      ],
      "text/plain": [
       "<IPython.core.display.Javascript object>"
      ]
     },
     "metadata": {},
     "output_type": "display_data"
    }
   ],
   "source": [
    "# Understanding the datatypes and missing values\n",
    "df.info()"
   ]
  },
  {
   "cell_type": "code",
   "execution_count": 56,
   "id": "22e621a3",
   "metadata": {},
   "outputs": [
    {
     "data": {
      "text/plain": [
       "(209527, 6)"
      ]
     },
     "execution_count": 56,
     "metadata": {},
     "output_type": "execute_result"
    },
    {
     "data": {
      "application/javascript": [
       "\n",
       "            setTimeout(function() {\n",
       "                var nbb_cell_id = 56;\n",
       "                var nbb_unformatted_code = \"# overall dimension\\ndf.shape\";\n",
       "                var nbb_formatted_code = \"# overall dimension\\ndf.shape\";\n",
       "                var nbb_cells = Jupyter.notebook.get_cells();\n",
       "                for (var i = 0; i < nbb_cells.length; ++i) {\n",
       "                    if (nbb_cells[i].input_prompt_number == nbb_cell_id) {\n",
       "                        if (nbb_cells[i].get_text() == nbb_unformatted_code) {\n",
       "                             nbb_cells[i].set_text(nbb_formatted_code);\n",
       "                        }\n",
       "                        break;\n",
       "                    }\n",
       "                }\n",
       "            }, 500);\n",
       "            "
      ],
      "text/plain": [
       "<IPython.core.display.Javascript object>"
      ]
     },
     "metadata": {},
     "output_type": "display_data"
    }
   ],
   "source": [
    "# overall dimension\n",
    "df.shape"
   ]
  },
  {
   "cell_type": "markdown",
   "id": "02fd053b",
   "metadata": {},
   "source": [
    "**Note:** When we first looked at the data, we noticed that the \"authors\" column appeared to have some empty spots. These spots aren't necessarily missing data; they might actually contain empty spaces or extra spaces between words."
   ]
  },
  {
   "cell_type": "code",
   "execution_count": 57,
   "id": "bdc9d1f0",
   "metadata": {},
   "outputs": [
    {
     "data": {
      "application/javascript": [
       "\n",
       "            setTimeout(function() {\n",
       "                var nbb_cell_id = 57;\n",
       "                var nbb_unformatted_code = \"# replacing blanks with nan\\n\\ndf.replace(\\\"\\\", np.nan, inplace=True)\\ndf.replace(\\\" \\\", np.nan, inplace=True)\";\n",
       "                var nbb_formatted_code = \"# replacing blanks with nan\\n\\ndf.replace(\\\"\\\", np.nan, inplace=True)\\ndf.replace(\\\" \\\", np.nan, inplace=True)\";\n",
       "                var nbb_cells = Jupyter.notebook.get_cells();\n",
       "                for (var i = 0; i < nbb_cells.length; ++i) {\n",
       "                    if (nbb_cells[i].input_prompt_number == nbb_cell_id) {\n",
       "                        if (nbb_cells[i].get_text() == nbb_unformatted_code) {\n",
       "                             nbb_cells[i].set_text(nbb_formatted_code);\n",
       "                        }\n",
       "                        break;\n",
       "                    }\n",
       "                }\n",
       "            }, 500);\n",
       "            "
      ],
      "text/plain": [
       "<IPython.core.display.Javascript object>"
      ]
     },
     "metadata": {},
     "output_type": "display_data"
    }
   ],
   "source": [
    "# replacing blanks with nan\n",
    "\n",
    "df.replace(\"\", np.nan, inplace=True)\n",
    "df.replace(\" \", np.nan, inplace=True)"
   ]
  },
  {
   "cell_type": "markdown",
   "id": "d12f9d09",
   "metadata": {},
   "source": [
    "### Missing Data"
   ]
  },
  {
   "cell_type": "code",
   "execution_count": 58,
   "id": "ca63086d",
   "metadata": {},
   "outputs": [
    {
     "name": "stdout",
     "output_type": "stream",
     "text": [
      "Number of missing values in each variable:\n",
      "\n"
     ]
    },
    {
     "data": {
      "text/plain": [
       "link                     0\n",
       "headline                 6\n",
       "category                 0\n",
       "short_description    19712\n",
       "authors              37418\n",
       "date                     0\n",
       "dtype: int64"
      ]
     },
     "execution_count": 58,
     "metadata": {},
     "output_type": "execute_result"
    },
    {
     "data": {
      "application/javascript": [
       "\n",
       "            setTimeout(function() {\n",
       "                var nbb_cell_id = 58;\n",
       "                var nbb_unformatted_code = \"# Checking for null values throughout our dataset\\nprint(\\\"Number of missing values in each variable:\\\\n\\\")\\ndf.isna().sum()\";\n",
       "                var nbb_formatted_code = \"# Checking for null values throughout our dataset\\nprint(\\\"Number of missing values in each variable:\\\\n\\\")\\ndf.isna().sum()\";\n",
       "                var nbb_cells = Jupyter.notebook.get_cells();\n",
       "                for (var i = 0; i < nbb_cells.length; ++i) {\n",
       "                    if (nbb_cells[i].input_prompt_number == nbb_cell_id) {\n",
       "                        if (nbb_cells[i].get_text() == nbb_unformatted_code) {\n",
       "                             nbb_cells[i].set_text(nbb_formatted_code);\n",
       "                        }\n",
       "                        break;\n",
       "                    }\n",
       "                }\n",
       "            }, 500);\n",
       "            "
      ],
      "text/plain": [
       "<IPython.core.display.Javascript object>"
      ]
     },
     "metadata": {},
     "output_type": "display_data"
    }
   ],
   "source": [
    "# Checking for null values throughout our dataset\n",
    "print(\"Number of missing values in each variable:\\n\")\n",
    "df.isna().sum()"
   ]
  },
  {
   "cell_type": "markdown",
   "id": "870fb3d0",
   "metadata": {},
   "source": [
    "In the dataset, there are 19,712 instances where the `short_description` column has missing values. Similarly, the `authors` column has 37,418 missing values, and the `Headline` column has 6 missing values.\n",
    "\n",
    "Now, let's start by examining the short_description column."
   ]
  },
  {
   "cell_type": "code",
   "execution_count": 59,
   "id": "05e61018",
   "metadata": {},
   "outputs": [
    {
     "name": "stdout",
     "output_type": "stream",
     "text": [
      "Percentage missing values in each variable:\n",
      "\n",
      "link                  0.00\n",
      "headline              0.00\n",
      "category              0.00\n",
      "short_description     9.41\n",
      "authors              17.86\n",
      "date                  0.00\n",
      "dtype: float64\n"
     ]
    },
    {
     "data": {
      "application/javascript": [
       "\n",
       "            setTimeout(function() {\n",
       "                var nbb_cell_id = 59;\n",
       "                var nbb_unformatted_code = \"# Percent missing data:\\n\\nprint(\\\"Percentage missing values in each variable:\\\\n\\\")\\nprint(f\\\"{round(df.isna().sum() / df.shape[0] * 100, 2)}\\\")\";\n",
       "                var nbb_formatted_code = \"# Percent missing data:\\n\\nprint(\\\"Percentage missing values in each variable:\\\\n\\\")\\nprint(f\\\"{round(df.isna().sum() / df.shape[0] * 100, 2)}\\\")\";\n",
       "                var nbb_cells = Jupyter.notebook.get_cells();\n",
       "                for (var i = 0; i < nbb_cells.length; ++i) {\n",
       "                    if (nbb_cells[i].input_prompt_number == nbb_cell_id) {\n",
       "                        if (nbb_cells[i].get_text() == nbb_unformatted_code) {\n",
       "                             nbb_cells[i].set_text(nbb_formatted_code);\n",
       "                        }\n",
       "                        break;\n",
       "                    }\n",
       "                }\n",
       "            }, 500);\n",
       "            "
      ],
      "text/plain": [
       "<IPython.core.display.Javascript object>"
      ]
     },
     "metadata": {},
     "output_type": "display_data"
    }
   ],
   "source": [
    "# Percent missing data:\n",
    "\n",
    "print(\"Percentage missing values in each variable:\\n\")\n",
    "print(f\"{round(df.isna().sum() / df.shape[0] * 100, 2)}\")"
   ]
  },
  {
   "cell_type": "markdown",
   "id": "54c01c60",
   "metadata": {},
   "source": [
    "In percentage terms, the `short_description` column contains 9.41% missing values, while the `authors` column has 17.86% missing values."
   ]
  },
  {
   "cell_type": "code",
   "execution_count": 60,
   "id": "9e6edb7e",
   "metadata": {},
   "outputs": [
    {
     "data": {
      "application/javascript": [
       "\n",
       "            setTimeout(function() {\n",
       "                var nbb_cell_id = 60;\n",
       "                var nbb_unformatted_code = \"# Creating a filter for null values under 'short description'\\n\\nmissing_sd = df[\\\"short_description\\\"].isna()\";\n",
       "                var nbb_formatted_code = \"# Creating a filter for null values under 'short description'\\n\\nmissing_sd = df[\\\"short_description\\\"].isna()\";\n",
       "                var nbb_cells = Jupyter.notebook.get_cells();\n",
       "                for (var i = 0; i < nbb_cells.length; ++i) {\n",
       "                    if (nbb_cells[i].input_prompt_number == nbb_cell_id) {\n",
       "                        if (nbb_cells[i].get_text() == nbb_unformatted_code) {\n",
       "                             nbb_cells[i].set_text(nbb_formatted_code);\n",
       "                        }\n",
       "                        break;\n",
       "                    }\n",
       "                }\n",
       "            }, 500);\n",
       "            "
      ],
      "text/plain": [
       "<IPython.core.display.Javascript object>"
      ]
     },
     "metadata": {},
     "output_type": "display_data"
    }
   ],
   "source": [
    "# Creating a filter for null values under 'short description'\n",
    "\n",
    "missing_sd = df[\"short_description\"].isna()"
   ]
  },
  {
   "cell_type": "code",
   "execution_count": 61,
   "id": "68cf6a3d",
   "metadata": {
    "scrolled": false
   },
   "outputs": [
    {
     "data": {
      "application/javascript": [
       "\n",
       "            setTimeout(function() {\n",
       "                var nbb_cell_id = 61;\n",
       "                var nbb_unformatted_code = \"# Grouping them by category\\n\\nmissing_value_by_category = df[missing_sd].groupby(\\\"category\\\").size()\";\n",
       "                var nbb_formatted_code = \"# Grouping them by category\\n\\nmissing_value_by_category = df[missing_sd].groupby(\\\"category\\\").size()\";\n",
       "                var nbb_cells = Jupyter.notebook.get_cells();\n",
       "                for (var i = 0; i < nbb_cells.length; ++i) {\n",
       "                    if (nbb_cells[i].input_prompt_number == nbb_cell_id) {\n",
       "                        if (nbb_cells[i].get_text() == nbb_unformatted_code) {\n",
       "                             nbb_cells[i].set_text(nbb_formatted_code);\n",
       "                        }\n",
       "                        break;\n",
       "                    }\n",
       "                }\n",
       "            }, 500);\n",
       "            "
      ],
      "text/plain": [
       "<IPython.core.display.Javascript object>"
      ]
     },
     "metadata": {},
     "output_type": "display_data"
    }
   ],
   "source": [
    "# Grouping them by category\n",
    "\n",
    "missing_value_by_category = df[missing_sd].groupby(\"category\").size()"
   ]
  },
  {
   "cell_type": "code",
   "execution_count": 62,
   "id": "cab384b8",
   "metadata": {},
   "outputs": [
    {
     "data": {
      "text/plain": [
       "category\n",
       "ARTS            646\n",
       "BLACK VOICES    406\n",
       "BUSINESS        860\n",
       "COLLEGE         223\n",
       "COMEDY          758\n",
       "dtype: int64"
      ]
     },
     "execution_count": 62,
     "metadata": {},
     "output_type": "execute_result"
    },
    {
     "data": {
      "application/javascript": [
       "\n",
       "            setTimeout(function() {\n",
       "                var nbb_cell_id = 62;\n",
       "                var nbb_unformatted_code = \"# Quick check on the data to confirm if the codes work as expected\\n\\nmissing_value_by_category.head()\";\n",
       "                var nbb_formatted_code = \"# Quick check on the data to confirm if the codes work as expected\\n\\nmissing_value_by_category.head()\";\n",
       "                var nbb_cells = Jupyter.notebook.get_cells();\n",
       "                for (var i = 0; i < nbb_cells.length; ++i) {\n",
       "                    if (nbb_cells[i].input_prompt_number == nbb_cell_id) {\n",
       "                        if (nbb_cells[i].get_text() == nbb_unformatted_code) {\n",
       "                             nbb_cells[i].set_text(nbb_formatted_code);\n",
       "                        }\n",
       "                        break;\n",
       "                    }\n",
       "                }\n",
       "            }, 500);\n",
       "            "
      ],
      "text/plain": [
       "<IPython.core.display.Javascript object>"
      ]
     },
     "metadata": {},
     "output_type": "display_data"
    }
   ],
   "source": [
    "# Quick check on the data to confirm if the codes work as expected\n",
    "\n",
    "missing_value_by_category.head()"
   ]
  },
  {
   "cell_type": "code",
   "execution_count": 63,
   "id": "5df7cd82",
   "metadata": {},
   "outputs": [
    {
     "data": {
      "application/javascript": [
       "\n",
       "            setTimeout(function() {\n",
       "                var nbb_cell_id = 63;\n",
       "                var nbb_unformatted_code = \"# Arranging them by ascending order of missing counts\\n\\nmissing_value_by_category = missing_value_by_category.sort_values(ascending=True)\";\n",
       "                var nbb_formatted_code = \"# Arranging them by ascending order of missing counts\\n\\nmissing_value_by_category = missing_value_by_category.sort_values(ascending=True)\";\n",
       "                var nbb_cells = Jupyter.notebook.get_cells();\n",
       "                for (var i = 0; i < nbb_cells.length; ++i) {\n",
       "                    if (nbb_cells[i].input_prompt_number == nbb_cell_id) {\n",
       "                        if (nbb_cells[i].get_text() == nbb_unformatted_code) {\n",
       "                             nbb_cells[i].set_text(nbb_formatted_code);\n",
       "                        }\n",
       "                        break;\n",
       "                    }\n",
       "                }\n",
       "            }, 500);\n",
       "            "
      ],
      "text/plain": [
       "<IPython.core.display.Javascript object>"
      ]
     },
     "metadata": {},
     "output_type": "display_data"
    }
   ],
   "source": [
    "# Arranging them by ascending order of missing counts\n",
    "\n",
    "missing_value_by_category = missing_value_by_category.sort_values(ascending=True)"
   ]
  },
  {
   "cell_type": "code",
   "execution_count": 64,
   "id": "1e00e2ec",
   "metadata": {
    "scrolled": false
   },
   "outputs": [
    {
     "data": {
      "image/png": "[encoded data removed]",
      "text/plain": [
       "<Figure size 1000x1000 with 1 Axes>"
      ]
     },
     "metadata": {},
     "output_type": "display_data"
    },
    {
     "data": {
      "application/javascript": [
       "\n",
       "            setTimeout(function() {\n",
       "                var nbb_cell_id = 64;\n",
       "                var nbb_unformatted_code = \"# plotting the missing counts in short description by category\\n\\nplt.figure(figsize=(10, 10))\\nplt.barh(missing_value_by_category.index, missing_value_by_category.values)\\nplt.xlabel(\\\"Number of Missing Values\\\")\\nplt.ylabel(\\\"Category\\\")\\nplt.title(\\\"Count of Missing Values in short_description by Category\\\")\\nplt.tight_layout\\nplt.show()\";\n",
       "                var nbb_formatted_code = \"# plotting the missing counts in short description by category\\n\\nplt.figure(figsize=(10, 10))\\nplt.barh(missing_value_by_category.index, missing_value_by_category.values)\\nplt.xlabel(\\\"Number of Missing Values\\\")\\nplt.ylabel(\\\"Category\\\")\\nplt.title(\\\"Count of Missing Values in short_description by Category\\\")\\nplt.tight_layout\\nplt.show()\";\n",
       "                var nbb_cells = Jupyter.notebook.get_cells();\n",
       "                for (var i = 0; i < nbb_cells.length; ++i) {\n",
       "                    if (nbb_cells[i].input_prompt_number == nbb_cell_id) {\n",
       "                        if (nbb_cells[i].get_text() == nbb_unformatted_code) {\n",
       "                             nbb_cells[i].set_text(nbb_formatted_code);\n",
       "                        }\n",
       "                        break;\n",
       "                    }\n",
       "                }\n",
       "            }, 500);\n",
       "            "
      ],
      "text/plain": [
       "<IPython.core.display.Javascript object>"
      ]
     },
     "metadata": {},
     "output_type": "display_data"
    }
   ],
   "source": [
    "# plotting the missing counts in short description by category\n",
    "\n",
    "plt.figure(figsize=(10, 10))\n",
    "plt.barh(missing_value_by_category.index, missing_value_by_category.values)\n",
    "plt.xlabel(\"Number of Missing Values\")\n",
    "plt.ylabel(\"Category\")\n",
    "plt.title(\"Count of Missing Values in short_description by Category\")\n",
    "plt.tight_layout\n",
    "plt.show()"
   ]
  },
  {
   "cell_type": "markdown",
   "id": "53ece17e",
   "metadata": {},
   "source": [
    "Visually, we can conclude that Politics, entertainment and healthy living have the highest counts of missing values among the categories."
   ]
  },
  {
   "cell_type": "code",
   "execution_count": 65,
   "id": "71ecc84c",
   "metadata": {},
   "outputs": [
    {
     "name": "stdout",
     "output_type": "stream",
     "text": [
      "                Total Count  Missing Values  Percent SD Missing\n",
      "category                                                       \n",
      "ARTS                   1509           646.0                42.8\n",
      "ARTS & CULTURE         1339             NaN                 NaN\n",
      "BLACK VOICES           4583           406.0                 8.9\n",
      "BUSINESS               5992           860.0                14.4\n",
      "COLLEGE                1144           223.0                19.5\n",
      "COMEDY                 5400           758.0                14.0\n",
      "CRIME                  3562           730.0                20.5\n",
      "CULTURE & ARTS         1074            11.0                 1.0\n",
      "DIVORCE                3426             NaN                 NaN\n",
      "EDUCATION              1014           112.0                11.0\n",
      "ENTERTAINMENT         17362          2588.0                14.9\n",
      "ENVIRONMENT            1444             2.0                 0.1\n",
      "FIFTY                  1401           359.0                25.6\n",
      "FOOD & DRINK           6340             9.0                 0.1\n",
      "GOOD NEWS              1398           359.0                25.7\n",
      "GREEN                  2622           576.0                22.0\n",
      "HEALTHY LIVING         6694          1429.0                21.3\n",
      "HOME & LIVING          4320             3.0                 0.1\n",
      "IMPACT                 3484           398.0                11.4\n",
      "LATINO VOICES          1130           108.0                 9.6\n",
      "MEDIA                  2944           540.0                18.3\n",
      "MONEY                  1756             1.0                 0.1\n",
      "PARENTING              8791             1.0                 0.0\n",
      "PARENTS                3955           399.0                10.1\n",
      "POLITICS              35602          3161.0                 8.9\n",
      "QUEER VOICES           6347           744.0                11.7\n",
      "RELIGION               2577           698.0                27.1\n",
      "SCIENCE                2206           403.0                18.3\n",
      "SPORTS                 5077           663.0                13.1\n",
      "STYLE                  2254           687.0                30.5\n",
      "STYLE & BEAUTY         9814            12.0                 0.1\n",
      "TASTE                  2096           156.0                 7.4\n",
      "TECH                   2104             1.0                 0.0\n",
      "THE WORLDPOST          3664             NaN                 NaN\n",
      "TRAVEL                 9900           479.0                 4.8\n",
      "U.S. NEWS              1377             NaN                 NaN\n",
      "WEDDINGS               3653             NaN                 NaN\n",
      "WEIRD NEWS             2777           461.0                16.6\n",
      "WELLNESS              17945             2.0                 0.0\n",
      "WOMEN                  3572           388.0                10.9\n",
      "WORLD NEWS             3299             2.0                 0.1\n",
      "WORLDPOST              2579          1337.0                51.8\n"
     ]
    },
    {
     "data": {
      "application/javascript": [
       "\n",
       "            setTimeout(function() {\n",
       "                var nbb_cell_id = 65;\n",
       "                var nbb_unformatted_code = \"# Calculate the percentage of missing values for each category and round it to two decimal places\\n\\nresult = pd.concat(\\n    [df.groupby(\\\"category\\\").size(), df[missing_sd].groupby(\\\"category\\\").size()], axis=1\\n)\\n\\nresult.columns = [\\\"Total Count\\\", \\\"Missing Values\\\"]\\n\\nresult[\\\"Percent SD Missing\\\"] = round(\\n    (result[\\\"Missing Values\\\"] / result[\\\"Total Count\\\"]) * 100, 1\\n)\\n\\nprint(result)\";\n",
       "                var nbb_formatted_code = \"# Calculate the percentage of missing values for each category and round it to two decimal places\\n\\nresult = pd.concat(\\n    [df.groupby(\\\"category\\\").size(), df[missing_sd].groupby(\\\"category\\\").size()], axis=1\\n)\\n\\nresult.columns = [\\\"Total Count\\\", \\\"Missing Values\\\"]\\n\\nresult[\\\"Percent SD Missing\\\"] = round(\\n    (result[\\\"Missing Values\\\"] / result[\\\"Total Count\\\"]) * 100, 1\\n)\\n\\nprint(result)\";\n",
       "                var nbb_cells = Jupyter.notebook.get_cells();\n",
       "                for (var i = 0; i < nbb_cells.length; ++i) {\n",
       "                    if (nbb_cells[i].input_prompt_number == nbb_cell_id) {\n",
       "                        if (nbb_cells[i].get_text() == nbb_unformatted_code) {\n",
       "                             nbb_cells[i].set_text(nbb_formatted_code);\n",
       "                        }\n",
       "                        break;\n",
       "                    }\n",
       "                }\n",
       "            }, 500);\n",
       "            "
      ],
      "text/plain": [
       "<IPython.core.display.Javascript object>"
      ]
     },
     "metadata": {},
     "output_type": "display_data"
    }
   ],
   "source": [
    "# Calculate the percentage of missing values for each category and round it to two decimal places\n",
    "\n",
    "result = pd.concat(\n",
    "    [df.groupby(\"category\").size(), df[missing_sd].groupby(\"category\").size()], axis=1\n",
    ")\n",
    "\n",
    "result.columns = [\"Total Count\", \"Missing Values\"]\n",
    "\n",
    "result[\"Percent SD Missing\"] = round(\n",
    "    (result[\"Missing Values\"] / result[\"Total Count\"]) * 100, 1\n",
    ")\n",
    "\n",
    "print(result)"
   ]
  },
  {
   "cell_type": "markdown",
   "id": "73536af5",
   "metadata": {},
   "source": [
    "Also, categories like \"WORLDPOST,\" \"RELIGION,\" and \"STYLE\" have high percentages of missing data (more than 25%)."
   ]
  },
  {
   "cell_type": "code",
   "execution_count": 66,
   "id": "d76b0f7c",
   "metadata": {},
   "outputs": [
    {
     "name": "stdout",
     "output_type": "stream",
     "text": [
      "Number of missing values in each variable:\n",
      "\n"
     ]
    },
    {
     "data": {
      "text/plain": [
       "link                     0\n",
       "headline                 6\n",
       "category                 0\n",
       "short_description    19712\n",
       "authors              37418\n",
       "date                     0\n",
       "dtype: int64"
      ]
     },
     "execution_count": 66,
     "metadata": {},
     "output_type": "execute_result"
    },
    {
     "data": {
      "application/javascript": [
       "\n",
       "            setTimeout(function() {\n",
       "                var nbb_cell_id = 66;\n",
       "                var nbb_unformatted_code = \"# Checking for null values throughout our dataset\\nprint(\\\"Number of missing values in each variable:\\\\n\\\")\\ndf.isna().sum()\";\n",
       "                var nbb_formatted_code = \"# Checking for null values throughout our dataset\\nprint(\\\"Number of missing values in each variable:\\\\n\\\")\\ndf.isna().sum()\";\n",
       "                var nbb_cells = Jupyter.notebook.get_cells();\n",
       "                for (var i = 0; i < nbb_cells.length; ++i) {\n",
       "                    if (nbb_cells[i].input_prompt_number == nbb_cell_id) {\n",
       "                        if (nbb_cells[i].get_text() == nbb_unformatted_code) {\n",
       "                             nbb_cells[i].set_text(nbb_formatted_code);\n",
       "                        }\n",
       "                        break;\n",
       "                    }\n",
       "                }\n",
       "            }, 500);\n",
       "            "
      ],
      "text/plain": [
       "<IPython.core.display.Javascript object>"
      ]
     },
     "metadata": {},
     "output_type": "display_data"
    }
   ],
   "source": [
    "# Checking for null values throughout our dataset\n",
    "print(\"Number of missing values in each variable:\\n\")\n",
    "df.isna().sum()"
   ]
  },
  {
   "cell_type": "markdown",
   "id": "26964613",
   "metadata": {},
   "source": [
    "As observed earlier, the count of missing values in the \"authors\" column is approximately double that of the \"short descriptions\" column. However, since our primary predictor for the \"category\" is the \"short description,\" removing all rows with missing values in \"authors\" could result in the loss of valuable information in the \"short description\" as well. Given this, it's important to conduct a more thorough analysis of the features before making decisions about how to handle or eliminate any rows."
   ]
  },
  {
   "cell_type": "markdown",
   "id": "6d86c063",
   "metadata": {},
   "source": [
    "### Duplicate Data"
   ]
  },
  {
   "cell_type": "code",
   "execution_count": 67,
   "id": "710e88c0",
   "metadata": {},
   "outputs": [
    {
     "data": {
      "text/plain": [
       "13"
      ]
     },
     "execution_count": 67,
     "metadata": {},
     "output_type": "execute_result"
    },
    {
     "data": {
      "application/javascript": [
       "\n",
       "            setTimeout(function() {\n",
       "                var nbb_cell_id = 67;\n",
       "                var nbb_unformatted_code = \"# Checking for duplicates and if any, finding their count\\n\\ndf.duplicated().sum()\";\n",
       "                var nbb_formatted_code = \"# Checking for duplicates and if any, finding their count\\n\\ndf.duplicated().sum()\";\n",
       "                var nbb_cells = Jupyter.notebook.get_cells();\n",
       "                for (var i = 0; i < nbb_cells.length; ++i) {\n",
       "                    if (nbb_cells[i].input_prompt_number == nbb_cell_id) {\n",
       "                        if (nbb_cells[i].get_text() == nbb_unformatted_code) {\n",
       "                             nbb_cells[i].set_text(nbb_formatted_code);\n",
       "                        }\n",
       "                        break;\n",
       "                    }\n",
       "                }\n",
       "            }, 500);\n",
       "            "
      ],
      "text/plain": [
       "<IPython.core.display.Javascript object>"
      ]
     },
     "metadata": {},
     "output_type": "display_data"
    }
   ],
   "source": [
    "# Checking for duplicates and if any, finding their count\n",
    "\n",
    "df.duplicated().sum()"
   ]
  },
  {
   "cell_type": "markdown",
   "id": "8fb727d6",
   "metadata": {},
   "source": [
    "There are 13 duplicated records in our dataset. Let's check the percent duplicates so that we can understand our data quality. "
   ]
  },
  {
   "cell_type": "code",
   "execution_count": 68,
   "id": "fc2bf335",
   "metadata": {},
   "outputs": [
    {
     "name": "stdout",
     "output_type": "stream",
     "text": [
      "The percentage of duplicated data is 0.01%\n"
     ]
    },
    {
     "data": {
      "application/javascript": [
       "\n",
       "            setTimeout(function() {\n",
       "                var nbb_cell_id = 68;\n",
       "                var nbb_unformatted_code = \"# Calculate the percentage of duplicated data\\npercentage_duplicated = df.duplicated().sum() / df.shape[0] * 100\\n\\nprint(f\\\"The percentage of duplicated data is {percentage_duplicated:.2f}%\\\")\";\n",
       "                var nbb_formatted_code = \"# Calculate the percentage of duplicated data\\npercentage_duplicated = df.duplicated().sum() / df.shape[0] * 100\\n\\nprint(f\\\"The percentage of duplicated data is {percentage_duplicated:.2f}%\\\")\";\n",
       "                var nbb_cells = Jupyter.notebook.get_cells();\n",
       "                for (var i = 0; i < nbb_cells.length; ++i) {\n",
       "                    if (nbb_cells[i].input_prompt_number == nbb_cell_id) {\n",
       "                        if (nbb_cells[i].get_text() == nbb_unformatted_code) {\n",
       "                             nbb_cells[i].set_text(nbb_formatted_code);\n",
       "                        }\n",
       "                        break;\n",
       "                    }\n",
       "                }\n",
       "            }, 500);\n",
       "            "
      ],
      "text/plain": [
       "<IPython.core.display.Javascript object>"
      ]
     },
     "metadata": {},
     "output_type": "display_data"
    }
   ],
   "source": [
    "# Calculate the percentage of duplicated data\n",
    "percentage_duplicated = df.duplicated().sum() / df.shape[0] * 100\n",
    "\n",
    "print(f\"The percentage of duplicated data is {percentage_duplicated:.2f}%\")\n"
   ]
  },
  {
   "cell_type": "code",
   "execution_count": 69,
   "id": "8e884cac",
   "metadata": {
    "scrolled": false
   },
   "outputs": [
    {
     "data": {
      "text/html": [
       "<div>\n",
       "<style scoped>\n",
       "    .dataframe tbody tr th:only-of-type {\n",
       "        vertical-align: middle;\n",
       "    }\n",
       "\n",
       "    .dataframe tbody tr th {\n",
       "        vertical-align: top;\n",
       "    }\n",
       "\n",
       "    .dataframe thead th {\n",
       "        text-align: right;\n",
       "    }\n",
       "</style>\n",
       "<table border=\"1\" class=\"dataframe\">\n",
       "  <thead>\n",
       "    <tr style=\"text-align: right;\">\n",
       "      <th></th>\n",
       "      <th>link</th>\n",
       "      <th>headline</th>\n",
       "      <th>category</th>\n",
       "      <th>short_description</th>\n",
       "      <th>authors</th>\n",
       "      <th>date</th>\n",
       "    </tr>\n",
       "  </thead>\n",
       "  <tbody>\n",
       "    <tr>\n",
       "      <th>67678</th>\n",
       "      <td>https://www.huffingtonpost.comhttp://www.mothe...</td>\n",
       "      <td>On Facebook, Trump's Longtime Butler Calls For...</td>\n",
       "      <td>POLITICS</td>\n",
       "      <td>Anthony Senecal, who worked as Donald Trump's ...</td>\n",
       "      <td>NaN</td>\n",
       "      <td>2016-05-12</td>\n",
       "    </tr>\n",
       "    <tr>\n",
       "      <th>67924</th>\n",
       "      <td>https://www.huffingtonpost.comhttp://gizmodo.c...</td>\n",
       "      <td>Former Facebook Workers: We Routinely Suppress...</td>\n",
       "      <td>TECH</td>\n",
       "      <td>Facebook workers routinely suppressed news sto...</td>\n",
       "      <td>NaN</td>\n",
       "      <td>2016-05-09</td>\n",
       "    </tr>\n",
       "    <tr>\n",
       "      <th>70240</th>\n",
       "      <td>https://www.huffingtonpost.comhttp://www.cnbc....</td>\n",
       "      <td>On Equal Pay Day, The Gap Is Still Too Wide</td>\n",
       "      <td>WOMEN</td>\n",
       "      <td>Equal Pay Day falls on April 12 in 2016. It's ...</td>\n",
       "      <td>NaN</td>\n",
       "      <td>2016-04-12</td>\n",
       "    </tr>\n",
       "    <tr>\n",
       "      <th>139831</th>\n",
       "      <td>https://www.huffingtonpost.comhttp://www.cnn.c...</td>\n",
       "      <td>The World's Most Dangerous Workout?</td>\n",
       "      <td>WELLNESS</td>\n",
       "      <td>Is the \"sport of fitness\" the world's most dan...</td>\n",
       "      <td>NaN</td>\n",
       "      <td>2014-02-10</td>\n",
       "    </tr>\n",
       "    <tr>\n",
       "      <th>144410</th>\n",
       "      <td>https://www.huffingtonpost.comhttp://www.upwor...</td>\n",
       "      <td>Some People Call It 'The Best Anti-Smoking Ad ...</td>\n",
       "      <td>WELLNESS</td>\n",
       "      <td>Almost all smokers know cigarettes are bad for...</td>\n",
       "      <td>NaN</td>\n",
       "      <td>2013-12-22</td>\n",
       "    </tr>\n",
       "    <tr>\n",
       "      <th>145143</th>\n",
       "      <td>https://www.huffingtonpost.comhttp://www.weath...</td>\n",
       "      <td>10 Cities That Could Run Out Of Water - Weathe...</td>\n",
       "      <td>ENVIRONMENT</td>\n",
       "      <td>Securing access to plentiful, renewable source...</td>\n",
       "      <td>NaN</td>\n",
       "      <td>2013-12-15</td>\n",
       "    </tr>\n",
       "    <tr>\n",
       "      <th>178156</th>\n",
       "      <td>https://www.huffingtonpost.comhttp://www.busin...</td>\n",
       "      <td>Google Is Attacking Apple From The Inside Out ...</td>\n",
       "      <td>TECH</td>\n",
       "      <td>After years of hammering away at Apple's share...</td>\n",
       "      <td>NaN</td>\n",
       "      <td>2013-01-01</td>\n",
       "    </tr>\n",
       "    <tr>\n",
       "      <th>187330</th>\n",
       "      <td>https://www.huffingtonpost.comhttp://www.nytim...</td>\n",
       "      <td>Eating For Health, Not Weight</td>\n",
       "      <td>WELLNESS</td>\n",
       "      <td>Almost half of Americans are on a diet -- not ...</td>\n",
       "      <td>NaN</td>\n",
       "      <td>2012-09-23</td>\n",
       "    </tr>\n",
       "    <tr>\n",
       "      <th>194597</th>\n",
       "      <td>https://www.huffingtonpost.comhttp://blogs.wsj...</td>\n",
       "      <td>Apple Removes Green EPEAT Electronics Certific...</td>\n",
       "      <td>TECH</td>\n",
       "      <td>Apple has pulled its products off the U.S. gov...</td>\n",
       "      <td>NaN</td>\n",
       "      <td>2012-07-07</td>\n",
       "    </tr>\n",
       "    <tr>\n",
       "      <th>194599</th>\n",
       "      <td>https://www.huffingtonpost.comhttp://www.theda...</td>\n",
       "      <td>Microsoft's $6.2 Billion Writedown Shows It's ...</td>\n",
       "      <td>TECH</td>\n",
       "      <td>Fighting for online advertising dominance with...</td>\n",
       "      <td>NaN</td>\n",
       "      <td>2012-07-07</td>\n",
       "    </tr>\n",
       "    <tr>\n",
       "      <th>207123</th>\n",
       "      <td>https://www.huffingtonpost.comhttp://d.repubbl...</td>\n",
       "      <td>Versace Atelier Worker Reflects On The Glory &amp;...</td>\n",
       "      <td>STYLE &amp; BEAUTY</td>\n",
       "      <td>Twenty-four hours before the fashion show, Don...</td>\n",
       "      <td>NaN</td>\n",
       "      <td>2012-02-23</td>\n",
       "    </tr>\n",
       "    <tr>\n",
       "      <th>207209</th>\n",
       "      <td>https://www.huffingtonpost.comhttp://d.repubbl...</td>\n",
       "      <td>Behind-The-Scenes Look At Prada's Workshop (VI...</td>\n",
       "      <td>STYLE &amp; BEAUTY</td>\n",
       "      <td>Exclusive worldwide and for the first time in ...</td>\n",
       "      <td>NaN</td>\n",
       "      <td>2012-02-22</td>\n",
       "    </tr>\n",
       "    <tr>\n",
       "      <th>207319</th>\n",
       "      <td>https://www.huffingtonpost.comhttp://d.repubbl...</td>\n",
       "      <td>Gucci's Frida Giannini Reveals Fashion Week Di...</td>\n",
       "      <td>STYLE &amp; BEAUTY</td>\n",
       "      <td>Frida Giannini reveals in this worldwide exclu...</td>\n",
       "      <td>NaN</td>\n",
       "      <td>2012-02-21</td>\n",
       "    </tr>\n",
       "  </tbody>\n",
       "</table>\n",
       "</div>"
      ],
      "text/plain": [
       "                                                     link  \\\n",
       "67678   https://www.huffingtonpost.comhttp://www.mothe...   \n",
       "67924   https://www.huffingtonpost.comhttp://gizmodo.c...   \n",
       "70240   https://www.huffingtonpost.comhttp://www.cnbc....   \n",
       "139831  https://www.huffingtonpost.comhttp://www.cnn.c...   \n",
       "144410  https://www.huffingtonpost.comhttp://www.upwor...   \n",
       "145143  https://www.huffingtonpost.comhttp://www.weath...   \n",
       "178156  https://www.huffingtonpost.comhttp://www.busin...   \n",
       "187330  https://www.huffingtonpost.comhttp://www.nytim...   \n",
       "194597  https://www.huffingtonpost.comhttp://blogs.wsj...   \n",
       "194599  https://www.huffingtonpost.comhttp://www.theda...   \n",
       "207123  https://www.huffingtonpost.comhttp://d.repubbl...   \n",
       "207209  https://www.huffingtonpost.comhttp://d.repubbl...   \n",
       "207319  https://www.huffingtonpost.comhttp://d.repubbl...   \n",
       "\n",
       "                                                 headline        category  \\\n",
       "67678   On Facebook, Trump's Longtime Butler Calls For...        POLITICS   \n",
       "67924   Former Facebook Workers: We Routinely Suppress...            TECH   \n",
       "70240         On Equal Pay Day, The Gap Is Still Too Wide           WOMEN   \n",
       "139831                The World's Most Dangerous Workout?        WELLNESS   \n",
       "144410  Some People Call It 'The Best Anti-Smoking Ad ...        WELLNESS   \n",
       "145143  10 Cities That Could Run Out Of Water - Weathe...     ENVIRONMENT   \n",
       "178156  Google Is Attacking Apple From The Inside Out ...            TECH   \n",
       "187330                      Eating For Health, Not Weight        WELLNESS   \n",
       "194597  Apple Removes Green EPEAT Electronics Certific...            TECH   \n",
       "194599  Microsoft's $6.2 Billion Writedown Shows It's ...            TECH   \n",
       "207123  Versace Atelier Worker Reflects On The Glory &...  STYLE & BEAUTY   \n",
       "207209  Behind-The-Scenes Look At Prada's Workshop (VI...  STYLE & BEAUTY   \n",
       "207319  Gucci's Frida Giannini Reveals Fashion Week Di...  STYLE & BEAUTY   \n",
       "\n",
       "                                        short_description authors       date  \n",
       "67678   Anthony Senecal, who worked as Donald Trump's ...     NaN 2016-05-12  \n",
       "67924   Facebook workers routinely suppressed news sto...     NaN 2016-05-09  \n",
       "70240   Equal Pay Day falls on April 12 in 2016. It's ...     NaN 2016-04-12  \n",
       "139831  Is the \"sport of fitness\" the world's most dan...     NaN 2014-02-10  \n",
       "144410  Almost all smokers know cigarettes are bad for...     NaN 2013-12-22  \n",
       "145143  Securing access to plentiful, renewable source...     NaN 2013-12-15  \n",
       "178156  After years of hammering away at Apple's share...     NaN 2013-01-01  \n",
       "187330  Almost half of Americans are on a diet -- not ...     NaN 2012-09-23  \n",
       "194597  Apple has pulled its products off the U.S. gov...     NaN 2012-07-07  \n",
       "194599  Fighting for online advertising dominance with...     NaN 2012-07-07  \n",
       "207123  Twenty-four hours before the fashion show, Don...     NaN 2012-02-23  \n",
       "207209  Exclusive worldwide and for the first time in ...     NaN 2012-02-22  \n",
       "207319  Frida Giannini reveals in this worldwide exclu...     NaN 2012-02-21  "
      ]
     },
     "execution_count": 69,
     "metadata": {},
     "output_type": "execute_result"
    },
    {
     "data": {
      "application/javascript": [
       "\n",
       "            setTimeout(function() {\n",
       "                var nbb_cell_id = 69;\n",
       "                var nbb_unformatted_code = \"# which rows are duplicates?\\n\\ndf[df.duplicated()]\";\n",
       "                var nbb_formatted_code = \"# which rows are duplicates?\\n\\ndf[df.duplicated()]\";\n",
       "                var nbb_cells = Jupyter.notebook.get_cells();\n",
       "                for (var i = 0; i < nbb_cells.length; ++i) {\n",
       "                    if (nbb_cells[i].input_prompt_number == nbb_cell_id) {\n",
       "                        if (nbb_cells[i].get_text() == nbb_unformatted_code) {\n",
       "                             nbb_cells[i].set_text(nbb_formatted_code);\n",
       "                        }\n",
       "                        break;\n",
       "                    }\n",
       "                }\n",
       "            }, 500);\n",
       "            "
      ],
      "text/plain": [
       "<IPython.core.display.Javascript object>"
      ]
     },
     "metadata": {},
     "output_type": "display_data"
    }
   ],
   "source": [
    "# which rows are duplicates?\n",
    "\n",
    "df[df.duplicated()]"
   ]
  },
  {
   "cell_type": "markdown",
   "id": "c4810b4a",
   "metadata": {},
   "source": [
    "These are the 13 duplicated rows. Let's move on to drop these duplicated rows (~0.01%)"
   ]
  },
  {
   "cell_type": "code",
   "execution_count": 70,
   "id": "ccfeb2f9",
   "metadata": {},
   "outputs": [
    {
     "data": {
      "text/plain": [
       "(209527, 6)"
      ]
     },
     "execution_count": 70,
     "metadata": {},
     "output_type": "execute_result"
    },
    {
     "data": {
      "application/javascript": [
       "\n",
       "            setTimeout(function() {\n",
       "                var nbb_cell_id = 70;\n",
       "                var nbb_unformatted_code = \"# checking the current dataframe shape\\n\\ndf.shape\";\n",
       "                var nbb_formatted_code = \"# checking the current dataframe shape\\n\\ndf.shape\";\n",
       "                var nbb_cells = Jupyter.notebook.get_cells();\n",
       "                for (var i = 0; i < nbb_cells.length; ++i) {\n",
       "                    if (nbb_cells[i].input_prompt_number == nbb_cell_id) {\n",
       "                        if (nbb_cells[i].get_text() == nbb_unformatted_code) {\n",
       "                             nbb_cells[i].set_text(nbb_formatted_code);\n",
       "                        }\n",
       "                        break;\n",
       "                    }\n",
       "                }\n",
       "            }, 500);\n",
       "            "
      ],
      "text/plain": [
       "<IPython.core.display.Javascript object>"
      ]
     },
     "metadata": {},
     "output_type": "display_data"
    }
   ],
   "source": [
    "# checking the current dataframe shape\n",
    "\n",
    "df.shape"
   ]
  },
  {
   "cell_type": "code",
   "execution_count": 71,
   "id": "c04265bb",
   "metadata": {},
   "outputs": [
    {
     "data": {
      "application/javascript": [
       "\n",
       "            setTimeout(function() {\n",
       "                var nbb_cell_id = 71;\n",
       "                var nbb_unformatted_code = \"# Drop duplicated rows from the DataFrame\\n\\ndf.drop_duplicates(inplace=True)\";\n",
       "                var nbb_formatted_code = \"# Drop duplicated rows from the DataFrame\\n\\ndf.drop_duplicates(inplace=True)\";\n",
       "                var nbb_cells = Jupyter.notebook.get_cells();\n",
       "                for (var i = 0; i < nbb_cells.length; ++i) {\n",
       "                    if (nbb_cells[i].input_prompt_number == nbb_cell_id) {\n",
       "                        if (nbb_cells[i].get_text() == nbb_unformatted_code) {\n",
       "                             nbb_cells[i].set_text(nbb_formatted_code);\n",
       "                        }\n",
       "                        break;\n",
       "                    }\n",
       "                }\n",
       "            }, 500);\n",
       "            "
      ],
      "text/plain": [
       "<IPython.core.display.Javascript object>"
      ]
     },
     "metadata": {},
     "output_type": "display_data"
    }
   ],
   "source": [
    "# Drop duplicated rows from the DataFrame\n",
    "\n",
    "df.drop_duplicates(inplace=True)"
   ]
  },
  {
   "cell_type": "code",
   "execution_count": 72,
   "id": "9752e14a",
   "metadata": {},
   "outputs": [
    {
     "data": {
      "text/plain": [
       "(209514, 6)"
      ]
     },
     "execution_count": 72,
     "metadata": {},
     "output_type": "execute_result"
    },
    {
     "data": {
      "application/javascript": [
       "\n",
       "            setTimeout(function() {\n",
       "                var nbb_cell_id = 72;\n",
       "                var nbb_unformatted_code = \"# Sanity check on the dataset after dropping the duplicates\\n\\ndf.shape\";\n",
       "                var nbb_formatted_code = \"# Sanity check on the dataset after dropping the duplicates\\n\\ndf.shape\";\n",
       "                var nbb_cells = Jupyter.notebook.get_cells();\n",
       "                for (var i = 0; i < nbb_cells.length; ++i) {\n",
       "                    if (nbb_cells[i].input_prompt_number == nbb_cell_id) {\n",
       "                        if (nbb_cells[i].get_text() == nbb_unformatted_code) {\n",
       "                             nbb_cells[i].set_text(nbb_formatted_code);\n",
       "                        }\n",
       "                        break;\n",
       "                    }\n",
       "                }\n",
       "            }, 500);\n",
       "            "
      ],
      "text/plain": [
       "<IPython.core.display.Javascript object>"
      ]
     },
     "metadata": {},
     "output_type": "display_data"
    }
   ],
   "source": [
    "# Sanity check on the dataset after dropping the duplicates\n",
    "\n",
    "df.shape"
   ]
  },
  {
   "cell_type": "markdown",
   "id": "53e60ee0",
   "metadata": {},
   "source": [
    "After eliminating the 13 duplicated rows, our dataset now consists of approximately 209,514 unique rows of information."
   ]
  },
  {
   "cell_type": "code",
   "execution_count": 73,
   "id": "60eb910a",
   "metadata": {},
   "outputs": [
    {
     "data": {
      "text/plain": [
       "link                 False\n",
       "headline             False\n",
       "category             False\n",
       "short_description    False\n",
       "authors              False\n",
       "date                 False\n",
       "dtype: bool"
      ]
     },
     "execution_count": 73,
     "metadata": {},
     "output_type": "execute_result"
    },
    {
     "data": {
      "application/javascript": [
       "\n",
       "            setTimeout(function() {\n",
       "                var nbb_cell_id = 73;\n",
       "                var nbb_unformatted_code = \"# Checking for duplicates across columns.\\n\\ndf.T.duplicated()\";\n",
       "                var nbb_formatted_code = \"# Checking for duplicates across columns.\\n\\ndf.T.duplicated()\";\n",
       "                var nbb_cells = Jupyter.notebook.get_cells();\n",
       "                for (var i = 0; i < nbb_cells.length; ++i) {\n",
       "                    if (nbb_cells[i].input_prompt_number == nbb_cell_id) {\n",
       "                        if (nbb_cells[i].get_text() == nbb_unformatted_code) {\n",
       "                             nbb_cells[i].set_text(nbb_formatted_code);\n",
       "                        }\n",
       "                        break;\n",
       "                    }\n",
       "                }\n",
       "            }, 500);\n",
       "            "
      ],
      "text/plain": [
       "<IPython.core.display.Javascript object>"
      ]
     },
     "metadata": {},
     "output_type": "display_data"
    }
   ],
   "source": [
    "# Checking for duplicates across columns.\n",
    "\n",
    "df.T.duplicated()"
   ]
  },
  {
   "cell_type": "markdown",
   "id": "87130e45",
   "metadata": {},
   "source": [
    "We can conclude that there are no duplicated columns. So we are good to proceed."
   ]
  },
  {
   "cell_type": "markdown",
   "id": "e596bb7f",
   "metadata": {},
   "source": [
    "### Are the authors equally popular?"
   ]
  },
  {
   "cell_type": "code",
   "execution_count": 74,
   "id": "68f76e6c",
   "metadata": {},
   "outputs": [
    {
     "data": {
      "text/plain": [
       "Lee Moran                                                                 2954\n",
       "Ron Dicker                                                                2219\n",
       "Ed Mazza                                                                  1590\n",
       "Mary Papenfuss                                                            1566\n",
       "Reuters, Reuters                                                          1563\n",
       "                                                                          ... \n",
       "Gina Carey, The Huffington Post                                              1\n",
       "Randall Chase, Associated Press                                              1\n",
       "Stephen Ohlemacher, AP                                                       1\n",
       "Damian Carrington, The Guardian                                              1\n",
       "John Giacobbi, Contributor\\nTales from the Interweb by The Web Sheriff       1\n",
       "Name: authors, Length: 29168, dtype: int64"
      ]
     },
     "execution_count": 74,
     "metadata": {},
     "output_type": "execute_result"
    },
    {
     "data": {
      "application/javascript": [
       "\n",
       "            setTimeout(function() {\n",
       "                var nbb_cell_id = 74;\n",
       "                var nbb_unformatted_code = \"df[\\\"authors\\\"].value_counts()\";\n",
       "                var nbb_formatted_code = \"df[\\\"authors\\\"].value_counts()\";\n",
       "                var nbb_cells = Jupyter.notebook.get_cells();\n",
       "                for (var i = 0; i < nbb_cells.length; ++i) {\n",
       "                    if (nbb_cells[i].input_prompt_number == nbb_cell_id) {\n",
       "                        if (nbb_cells[i].get_text() == nbb_unformatted_code) {\n",
       "                             nbb_cells[i].set_text(nbb_formatted_code);\n",
       "                        }\n",
       "                        break;\n",
       "                    }\n",
       "                }\n",
       "            }, 500);\n",
       "            "
      ],
      "text/plain": [
       "<IPython.core.display.Javascript object>"
      ]
     },
     "metadata": {},
     "output_type": "display_data"
    }
   ],
   "source": [
    "df[\"authors\"].value_counts()"
   ]
  },
  {
   "cell_type": "code",
   "execution_count": 75,
   "id": "1db83fc7",
   "metadata": {},
   "outputs": [
    {
     "data": {
      "text/plain": [
       "37405"
      ]
     },
     "execution_count": 75,
     "metadata": {},
     "output_type": "execute_result"
    },
    {
     "data": {
      "application/javascript": [
       "\n",
       "            setTimeout(function() {\n",
       "                var nbb_cell_id = 75;\n",
       "                var nbb_unformatted_code = \"df[\\\"authors\\\"].isna().sum()\";\n",
       "                var nbb_formatted_code = \"df[\\\"authors\\\"].isna().sum()\";\n",
       "                var nbb_cells = Jupyter.notebook.get_cells();\n",
       "                for (var i = 0; i < nbb_cells.length; ++i) {\n",
       "                    if (nbb_cells[i].input_prompt_number == nbb_cell_id) {\n",
       "                        if (nbb_cells[i].get_text() == nbb_unformatted_code) {\n",
       "                             nbb_cells[i].set_text(nbb_formatted_code);\n",
       "                        }\n",
       "                        break;\n",
       "                    }\n",
       "                }\n",
       "            }, 500);\n",
       "            "
      ],
      "text/plain": [
       "<IPython.core.display.Javascript object>"
      ]
     },
     "metadata": {},
     "output_type": "display_data"
    }
   ],
   "source": [
    "df[\"authors\"].isna().sum()"
   ]
  },
  {
   "cell_type": "code",
   "execution_count": 76,
   "id": "e58e9d15",
   "metadata": {},
   "outputs": [
    {
     "data": {
      "application/javascript": [
       "\n",
       "            setTimeout(function() {\n",
       "                var nbb_cell_id = 76;\n",
       "                var nbb_unformatted_code = \"df_authors = df.dropna(subset=[\\\"authors\\\"]).copy()\";\n",
       "                var nbb_formatted_code = \"df_authors = df.dropna(subset=[\\\"authors\\\"]).copy()\";\n",
       "                var nbb_cells = Jupyter.notebook.get_cells();\n",
       "                for (var i = 0; i < nbb_cells.length; ++i) {\n",
       "                    if (nbb_cells[i].input_prompt_number == nbb_cell_id) {\n",
       "                        if (nbb_cells[i].get_text() == nbb_unformatted_code) {\n",
       "                             nbb_cells[i].set_text(nbb_formatted_code);\n",
       "                        }\n",
       "                        break;\n",
       "                    }\n",
       "                }\n",
       "            }, 500);\n",
       "            "
      ],
      "text/plain": [
       "<IPython.core.display.Javascript object>"
      ]
     },
     "metadata": {},
     "output_type": "display_data"
    }
   ],
   "source": [
    "df_authors = df.dropna(subset=[\"authors\"]).copy()"
   ]
  },
  {
   "cell_type": "code",
   "execution_count": 77,
   "id": "3287d5c8",
   "metadata": {},
   "outputs": [
    {
     "data": {
      "text/plain": [
       "(172109, 6)"
      ]
     },
     "execution_count": 77,
     "metadata": {},
     "output_type": "execute_result"
    },
    {
     "data": {
      "application/javascript": [
       "\n",
       "            setTimeout(function() {\n",
       "                var nbb_cell_id = 77;\n",
       "                var nbb_unformatted_code = \"# How many rows of data do we have with authors information:\\n\\ndf_authors.shape\";\n",
       "                var nbb_formatted_code = \"# How many rows of data do we have with authors information:\\n\\ndf_authors.shape\";\n",
       "                var nbb_cells = Jupyter.notebook.get_cells();\n",
       "                for (var i = 0; i < nbb_cells.length; ++i) {\n",
       "                    if (nbb_cells[i].input_prompt_number == nbb_cell_id) {\n",
       "                        if (nbb_cells[i].get_text() == nbb_unformatted_code) {\n",
       "                             nbb_cells[i].set_text(nbb_formatted_code);\n",
       "                        }\n",
       "                        break;\n",
       "                    }\n",
       "                }\n",
       "            }, 500);\n",
       "            "
      ],
      "text/plain": [
       "<IPython.core.display.Javascript object>"
      ]
     },
     "metadata": {},
     "output_type": "display_data"
    }
   ],
   "source": [
    "# How many rows of data do we have with authors information:\n",
    "\n",
    "df_authors.shape"
   ]
  },
  {
   "cell_type": "code",
   "execution_count": 78,
   "id": "78c08aac",
   "metadata": {},
   "outputs": [
    {
     "data": {
      "text/plain": [
       "Lee Moran           2954\n",
       "Ron Dicker          2219\n",
       "Ed Mazza            1590\n",
       "Mary Papenfuss      1566\n",
       "Reuters, Reuters    1563\n",
       "Cole Delbyck        1266\n",
       "Carly Ledbetter     1170\n",
       "Curtis M. Wong      1146\n",
       "Andy McDonald       1100\n",
       "David Moye          1067\n",
       "Name: authors, dtype: int64"
      ]
     },
     "execution_count": 78,
     "metadata": {},
     "output_type": "execute_result"
    },
    {
     "data": {
      "application/javascript": [
       "\n",
       "            setTimeout(function() {\n",
       "                var nbb_cell_id = 78;\n",
       "                var nbb_unformatted_code = \"df_authors[\\\"authors\\\"].value_counts().sort_values(ascending=False).head(10)\";\n",
       "                var nbb_formatted_code = \"df_authors[\\\"authors\\\"].value_counts().sort_values(ascending=False).head(10)\";\n",
       "                var nbb_cells = Jupyter.notebook.get_cells();\n",
       "                for (var i = 0; i < nbb_cells.length; ++i) {\n",
       "                    if (nbb_cells[i].input_prompt_number == nbb_cell_id) {\n",
       "                        if (nbb_cells[i].get_text() == nbb_unformatted_code) {\n",
       "                             nbb_cells[i].set_text(nbb_formatted_code);\n",
       "                        }\n",
       "                        break;\n",
       "                    }\n",
       "                }\n",
       "            }, 500);\n",
       "            "
      ],
      "text/plain": [
       "<IPython.core.display.Javascript object>"
      ]
     },
     "metadata": {},
     "output_type": "display_data"
    }
   ],
   "source": [
    "df_authors[\"authors\"].value_counts().sort_values(ascending=False).head(10)"
   ]
  },
  {
   "cell_type": "code",
   "execution_count": 79,
   "id": "c16b38c1",
   "metadata": {
    "scrolled": false
   },
   "outputs": [
    {
     "data": {
      "image/png": "[encoded data removed]",
      "text/plain": [
       "<Figure size 1000x500 with 1 Axes>"
      ]
     },
     "metadata": {},
     "output_type": "display_data"
    },
    {
     "data": {
      "application/javascript": [
       "\n",
       "            setTimeout(function() {\n",
       "                var nbb_cell_id = 79;\n",
       "                var nbb_unformatted_code = \"# Plot horizontal bar charts to visualize the count of each category:\\n\\nplt.figure(figsize=(10, 5))\\ndf_authors[\\\"authors\\\"].value_counts().sort_values(ascending=True).tail(10).plot(\\n    kind=\\\"barh\\\"\\n)\\nplt.xlabel(\\\"Number of Articles\\\")\\nplt.ylabel(\\\"Authors\\\")\\nplt.title(\\\"Count of number of Articles by Authors\\\")\\nplt.tight_layout()\\nplt.show()\";\n",
       "                var nbb_formatted_code = \"# Plot horizontal bar charts to visualize the count of each category:\\n\\nplt.figure(figsize=(10, 5))\\ndf_authors[\\\"authors\\\"].value_counts().sort_values(ascending=True).tail(10).plot(\\n    kind=\\\"barh\\\"\\n)\\nplt.xlabel(\\\"Number of Articles\\\")\\nplt.ylabel(\\\"Authors\\\")\\nplt.title(\\\"Count of number of Articles by Authors\\\")\\nplt.tight_layout()\\nplt.show()\";\n",
       "                var nbb_cells = Jupyter.notebook.get_cells();\n",
       "                for (var i = 0; i < nbb_cells.length; ++i) {\n",
       "                    if (nbb_cells[i].input_prompt_number == nbb_cell_id) {\n",
       "                        if (nbb_cells[i].get_text() == nbb_unformatted_code) {\n",
       "                             nbb_cells[i].set_text(nbb_formatted_code);\n",
       "                        }\n",
       "                        break;\n",
       "                    }\n",
       "                }\n",
       "            }, 500);\n",
       "            "
      ],
      "text/plain": [
       "<IPython.core.display.Javascript object>"
      ]
     },
     "metadata": {},
     "output_type": "display_data"
    }
   ],
   "source": [
    "# Plot horizontal bar charts to visualize the count of each category:\n",
    "\n",
    "plt.figure(figsize=(10, 5))\n",
    "df_authors[\"authors\"].value_counts().sort_values(ascending=True).tail(10).plot(\n",
    "    kind=\"barh\"\n",
    ")\n",
    "plt.xlabel(\"Number of Articles\")\n",
    "plt.ylabel(\"Authors\")\n",
    "plt.title(\"Count of number of Articles by Authors\")\n",
    "plt.tight_layout()\n",
    "plt.show()"
   ]
  },
  {
   "cell_type": "markdown",
   "id": "4b578a41",
   "metadata": {},
   "source": [
    "Among the authors, Lee Moran, Ron Dicker, and Ed Mazza stand out as the top three article writers, with 2954, 2219, and 1590 articles respectively."
   ]
  },
  {
   "cell_type": "markdown",
   "id": "3700d9fd",
   "metadata": {},
   "source": [
    "### Article trends by month"
   ]
  },
  {
   "cell_type": "code",
   "execution_count": 80,
   "id": "95e09023",
   "metadata": {},
   "outputs": [
    {
     "data": {
      "text/plain": [
       "1         9\n",
       "2         9\n",
       "3         9\n",
       "4         9\n",
       "5         9\n",
       "         ..\n",
       "209523    1\n",
       "209524    1\n",
       "209525    1\n",
       "209526    1\n",
       "209527    1\n",
       "Name: date, Length: 209514, dtype: int64"
      ]
     },
     "execution_count": 80,
     "metadata": {},
     "output_type": "execute_result"
    },
    {
     "data": {
      "application/javascript": [
       "\n",
       "            setTimeout(function() {\n",
       "                var nbb_cell_id = 80;\n",
       "                var nbb_unformatted_code = \"# Deriving month from date\\n\\ndf[\\\"date\\\"].dt.month\";\n",
       "                var nbb_formatted_code = \"# Deriving month from date\\n\\ndf[\\\"date\\\"].dt.month\";\n",
       "                var nbb_cells = Jupyter.notebook.get_cells();\n",
       "                for (var i = 0; i < nbb_cells.length; ++i) {\n",
       "                    if (nbb_cells[i].input_prompt_number == nbb_cell_id) {\n",
       "                        if (nbb_cells[i].get_text() == nbb_unformatted_code) {\n",
       "                             nbb_cells[i].set_text(nbb_formatted_code);\n",
       "                        }\n",
       "                        break;\n",
       "                    }\n",
       "                }\n",
       "            }, 500);\n",
       "            "
      ],
      "text/plain": [
       "<IPython.core.display.Javascript object>"
      ]
     },
     "metadata": {},
     "output_type": "display_data"
    }
   ],
   "source": [
    "# Deriving month from date\n",
    "\n",
    "df[\"date\"].dt.month"
   ]
  },
  {
   "cell_type": "code",
   "execution_count": 81,
   "id": "e4471bdb",
   "metadata": {},
   "outputs": [
    {
     "data": {
      "application/javascript": [
       "\n",
       "            setTimeout(function() {\n",
       "                var nbb_cell_id = 81;\n",
       "                var nbb_unformatted_code = \"# Creating a new column to have the derived month\\n\\ndf[\\\"month_num\\\"] = df[\\\"date\\\"].dt.month\";\n",
       "                var nbb_formatted_code = \"# Creating a new column to have the derived month\\n\\ndf[\\\"month_num\\\"] = df[\\\"date\\\"].dt.month\";\n",
       "                var nbb_cells = Jupyter.notebook.get_cells();\n",
       "                for (var i = 0; i < nbb_cells.length; ++i) {\n",
       "                    if (nbb_cells[i].input_prompt_number == nbb_cell_id) {\n",
       "                        if (nbb_cells[i].get_text() == nbb_unformatted_code) {\n",
       "                             nbb_cells[i].set_text(nbb_formatted_code);\n",
       "                        }\n",
       "                        break;\n",
       "                    }\n",
       "                }\n",
       "            }, 500);\n",
       "            "
      ],
      "text/plain": [
       "<IPython.core.display.Javascript object>"
      ]
     },
     "metadata": {},
     "output_type": "display_data"
    }
   ],
   "source": [
    "# Creating a new column to have the derived month\n",
    "\n",
    "df[\"month_num\"] = df[\"date\"].dt.month"
   ]
  },
  {
   "cell_type": "code",
   "execution_count": 82,
   "id": "e1f641cd",
   "metadata": {
    "scrolled": true
   },
   "outputs": [
    {
     "data": {
      "text/plain": [
       "3     19099\n",
       "5     18625\n",
       "4     18292\n",
       "2     17875\n",
       "8     17397\n",
       "7     17295\n",
       "10    17221\n",
       "1     17161\n",
       "6     16977\n",
       "9     16589\n",
       "12    16529\n",
       "11    16454\n",
       "Name: month_num, dtype: int64"
      ]
     },
     "execution_count": 82,
     "metadata": {},
     "output_type": "execute_result"
    },
    {
     "data": {
      "application/javascript": [
       "\n",
       "            setTimeout(function() {\n",
       "                var nbb_cell_id = 82;\n",
       "                var nbb_unformatted_code = \"df[\\\"month_num\\\"].value_counts()\";\n",
       "                var nbb_formatted_code = \"df[\\\"month_num\\\"].value_counts()\";\n",
       "                var nbb_cells = Jupyter.notebook.get_cells();\n",
       "                for (var i = 0; i < nbb_cells.length; ++i) {\n",
       "                    if (nbb_cells[i].input_prompt_number == nbb_cell_id) {\n",
       "                        if (nbb_cells[i].get_text() == nbb_unformatted_code) {\n",
       "                             nbb_cells[i].set_text(nbb_formatted_code);\n",
       "                        }\n",
       "                        break;\n",
       "                    }\n",
       "                }\n",
       "            }, 500);\n",
       "            "
      ],
      "text/plain": [
       "<IPython.core.display.Javascript object>"
      ]
     },
     "metadata": {},
     "output_type": "display_data"
    }
   ],
   "source": [
    "df[\"month_num\"].value_counts()"
   ]
  },
  {
   "cell_type": "markdown",
   "id": "b5ecffaa",
   "metadata": {},
   "source": [
    "March is the month with the highest number of articles."
   ]
  },
  {
   "cell_type": "code",
   "execution_count": 83,
   "id": "60b9ffdb",
   "metadata": {},
   "outputs": [
    {
     "data": {
      "application/javascript": [
       "\n",
       "            setTimeout(function() {\n",
       "                var nbb_cell_id = 83;\n",
       "                var nbb_unformatted_code = \"trial = df.groupby([\\\"month_num\\\", \\\"category\\\"]).count().unstack()\";\n",
       "                var nbb_formatted_code = \"trial = df.groupby([\\\"month_num\\\", \\\"category\\\"]).count().unstack()\";\n",
       "                var nbb_cells = Jupyter.notebook.get_cells();\n",
       "                for (var i = 0; i < nbb_cells.length; ++i) {\n",
       "                    if (nbb_cells[i].input_prompt_number == nbb_cell_id) {\n",
       "                        if (nbb_cells[i].get_text() == nbb_unformatted_code) {\n",
       "                             nbb_cells[i].set_text(nbb_formatted_code);\n",
       "                        }\n",
       "                        break;\n",
       "                    }\n",
       "                }\n",
       "            }, 500);\n",
       "            "
      ],
      "text/plain": [
       "<IPython.core.display.Javascript object>"
      ]
     },
     "metadata": {},
     "output_type": "display_data"
    }
   ],
   "source": [
    "trial = df.groupby([\"month_num\", \"category\"]).count().unstack()"
   ]
  },
  {
   "cell_type": "code",
   "execution_count": 84,
   "id": "c665a84b",
   "metadata": {
    "scrolled": true
   },
   "outputs": [
    {
     "data": {
      "text/html": [
       "<div>\n",
       "<style scoped>\n",
       "    .dataframe tbody tr th:only-of-type {\n",
       "        vertical-align: middle;\n",
       "    }\n",
       "\n",
       "    .dataframe tbody tr th {\n",
       "        vertical-align: top;\n",
       "    }\n",
       "\n",
       "    .dataframe thead th {\n",
       "        text-align: right;\n",
       "    }\n",
       "</style>\n",
       "<table border=\"1\" class=\"dataframe\">\n",
       "  <thead>\n",
       "    <tr style=\"text-align: right;\">\n",
       "      <th>category</th>\n",
       "      <th>ARTS</th>\n",
       "      <th>ARTS &amp; CULTURE</th>\n",
       "      <th>BLACK VOICES</th>\n",
       "      <th>BUSINESS</th>\n",
       "      <th>COLLEGE</th>\n",
       "      <th>COMEDY</th>\n",
       "      <th>CRIME</th>\n",
       "      <th>CULTURE &amp; ARTS</th>\n",
       "      <th>DIVORCE</th>\n",
       "      <th>EDUCATION</th>\n",
       "      <th>...</th>\n",
       "      <th>TECH</th>\n",
       "      <th>THE WORLDPOST</th>\n",
       "      <th>TRAVEL</th>\n",
       "      <th>U.S. NEWS</th>\n",
       "      <th>WEDDINGS</th>\n",
       "      <th>WEIRD NEWS</th>\n",
       "      <th>WELLNESS</th>\n",
       "      <th>WOMEN</th>\n",
       "      <th>WORLD NEWS</th>\n",
       "      <th>WORLDPOST</th>\n",
       "    </tr>\n",
       "    <tr>\n",
       "      <th>month_num</th>\n",
       "      <th></th>\n",
       "      <th></th>\n",
       "      <th></th>\n",
       "      <th></th>\n",
       "      <th></th>\n",
       "      <th></th>\n",
       "      <th></th>\n",
       "      <th></th>\n",
       "      <th></th>\n",
       "      <th></th>\n",
       "      <th></th>\n",
       "      <th></th>\n",
       "      <th></th>\n",
       "      <th></th>\n",
       "      <th></th>\n",
       "      <th></th>\n",
       "      <th></th>\n",
       "      <th></th>\n",
       "      <th></th>\n",
       "      <th></th>\n",
       "      <th></th>\n",
       "    </tr>\n",
       "  </thead>\n",
       "  <tbody>\n",
       "    <tr>\n",
       "      <th>1</th>\n",
       "      <td>92</td>\n",
       "      <td>130</td>\n",
       "      <td>414</td>\n",
       "      <td>499</td>\n",
       "      <td>79</td>\n",
       "      <td>462</td>\n",
       "      <td>309</td>\n",
       "      <td>74</td>\n",
       "      <td>250</td>\n",
       "      <td>60</td>\n",
       "      <td>...</td>\n",
       "      <td>168</td>\n",
       "      <td>286</td>\n",
       "      <td>794</td>\n",
       "      <td>68</td>\n",
       "      <td>246</td>\n",
       "      <td>272</td>\n",
       "      <td>1546</td>\n",
       "      <td>303</td>\n",
       "      <td>240</td>\n",
       "      <td>239</td>\n",
       "    </tr>\n",
       "    <tr>\n",
       "      <th>2</th>\n",
       "      <td>97</td>\n",
       "      <td>94</td>\n",
       "      <td>404</td>\n",
       "      <td>478</td>\n",
       "      <td>77</td>\n",
       "      <td>473</td>\n",
       "      <td>244</td>\n",
       "      <td>100</td>\n",
       "      <td>314</td>\n",
       "      <td>64</td>\n",
       "      <td>...</td>\n",
       "      <td>195</td>\n",
       "      <td>258</td>\n",
       "      <td>872</td>\n",
       "      <td>157</td>\n",
       "      <td>362</td>\n",
       "      <td>197</td>\n",
       "      <td>1877</td>\n",
       "      <td>244</td>\n",
       "      <td>230</td>\n",
       "      <td>172</td>\n",
       "    </tr>\n",
       "    <tr>\n",
       "      <th>3</th>\n",
       "      <td>117</td>\n",
       "      <td>126</td>\n",
       "      <td>433</td>\n",
       "      <td>477</td>\n",
       "      <td>58</td>\n",
       "      <td>518</td>\n",
       "      <td>287</td>\n",
       "      <td>138</td>\n",
       "      <td>361</td>\n",
       "      <td>55</td>\n",
       "      <td>...</td>\n",
       "      <td>200</td>\n",
       "      <td>336</td>\n",
       "      <td>1060</td>\n",
       "      <td>179</td>\n",
       "      <td>401</td>\n",
       "      <td>204</td>\n",
       "      <td>2027</td>\n",
       "      <td>326</td>\n",
       "      <td>233</td>\n",
       "      <td>196</td>\n",
       "    </tr>\n",
       "    <tr>\n",
       "      <th>4</th>\n",
       "      <td>169</td>\n",
       "      <td>105</td>\n",
       "      <td>365</td>\n",
       "      <td>555</td>\n",
       "      <td>103</td>\n",
       "      <td>450</td>\n",
       "      <td>295</td>\n",
       "      <td>108</td>\n",
       "      <td>355</td>\n",
       "      <td>114</td>\n",
       "      <td>...</td>\n",
       "      <td>173</td>\n",
       "      <td>362</td>\n",
       "      <td>930</td>\n",
       "      <td>97</td>\n",
       "      <td>395</td>\n",
       "      <td>239</td>\n",
       "      <td>1753</td>\n",
       "      <td>336</td>\n",
       "      <td>204</td>\n",
       "      <td>226</td>\n",
       "    </tr>\n",
       "    <tr>\n",
       "      <th>5</th>\n",
       "      <td>204</td>\n",
       "      <td>107</td>\n",
       "      <td>413</td>\n",
       "      <td>624</td>\n",
       "      <td>153</td>\n",
       "      <td>469</td>\n",
       "      <td>266</td>\n",
       "      <td>106</td>\n",
       "      <td>332</td>\n",
       "      <td>153</td>\n",
       "      <td>...</td>\n",
       "      <td>131</td>\n",
       "      <td>336</td>\n",
       "      <td>801</td>\n",
       "      <td>109</td>\n",
       "      <td>381</td>\n",
       "      <td>225</td>\n",
       "      <td>1284</td>\n",
       "      <td>400</td>\n",
       "      <td>272</td>\n",
       "      <td>299</td>\n",
       "    </tr>\n",
       "    <tr>\n",
       "      <th>6</th>\n",
       "      <td>162</td>\n",
       "      <td>102</td>\n",
       "      <td>349</td>\n",
       "      <td>600</td>\n",
       "      <td>110</td>\n",
       "      <td>314</td>\n",
       "      <td>253</td>\n",
       "      <td>71</td>\n",
       "      <td>340</td>\n",
       "      <td>110</td>\n",
       "      <td>...</td>\n",
       "      <td>133</td>\n",
       "      <td>205</td>\n",
       "      <td>794</td>\n",
       "      <td>158</td>\n",
       "      <td>321</td>\n",
       "      <td>137</td>\n",
       "      <td>1333</td>\n",
       "      <td>320</td>\n",
       "      <td>419</td>\n",
       "      <td>289</td>\n",
       "    </tr>\n",
       "    <tr>\n",
       "      <th>7</th>\n",
       "      <td>128</td>\n",
       "      <td>114</td>\n",
       "      <td>386</td>\n",
       "      <td>499</td>\n",
       "      <td>102</td>\n",
       "      <td>393</td>\n",
       "      <td>313</td>\n",
       "      <td>82</td>\n",
       "      <td>269</td>\n",
       "      <td>92</td>\n",
       "      <td>...</td>\n",
       "      <td>204</td>\n",
       "      <td>296</td>\n",
       "      <td>837</td>\n",
       "      <td>173</td>\n",
       "      <td>309</td>\n",
       "      <td>216</td>\n",
       "      <td>1344</td>\n",
       "      <td>245</td>\n",
       "      <td>401</td>\n",
       "      <td>267</td>\n",
       "    </tr>\n",
       "    <tr>\n",
       "      <th>8</th>\n",
       "      <td>114</td>\n",
       "      <td>112</td>\n",
       "      <td>401</td>\n",
       "      <td>413</td>\n",
       "      <td>122</td>\n",
       "      <td>389</td>\n",
       "      <td>338</td>\n",
       "      <td>70</td>\n",
       "      <td>323</td>\n",
       "      <td>75</td>\n",
       "      <td>...</td>\n",
       "      <td>139</td>\n",
       "      <td>329</td>\n",
       "      <td>847</td>\n",
       "      <td>198</td>\n",
       "      <td>307</td>\n",
       "      <td>236</td>\n",
       "      <td>1285</td>\n",
       "      <td>266</td>\n",
       "      <td>384</td>\n",
       "      <td>189</td>\n",
       "    </tr>\n",
       "    <tr>\n",
       "      <th>9</th>\n",
       "      <td>104</td>\n",
       "      <td>90</td>\n",
       "      <td>391</td>\n",
       "      <td>471</td>\n",
       "      <td>80</td>\n",
       "      <td>444</td>\n",
       "      <td>295</td>\n",
       "      <td>81</td>\n",
       "      <td>210</td>\n",
       "      <td>76</td>\n",
       "      <td>...</td>\n",
       "      <td>162</td>\n",
       "      <td>297</td>\n",
       "      <td>675</td>\n",
       "      <td>130</td>\n",
       "      <td>233</td>\n",
       "      <td>236</td>\n",
       "      <td>1326</td>\n",
       "      <td>238</td>\n",
       "      <td>326</td>\n",
       "      <td>205</td>\n",
       "    </tr>\n",
       "    <tr>\n",
       "      <th>10</th>\n",
       "      <td>113</td>\n",
       "      <td>122</td>\n",
       "      <td>323</td>\n",
       "      <td>440</td>\n",
       "      <td>88</td>\n",
       "      <td>491</td>\n",
       "      <td>276</td>\n",
       "      <td>71</td>\n",
       "      <td>236</td>\n",
       "      <td>65</td>\n",
       "      <td>...</td>\n",
       "      <td>190</td>\n",
       "      <td>288</td>\n",
       "      <td>773</td>\n",
       "      <td>27</td>\n",
       "      <td>235</td>\n",
       "      <td>270</td>\n",
       "      <td>1429</td>\n",
       "      <td>357</td>\n",
       "      <td>197</td>\n",
       "      <td>176</td>\n",
       "    </tr>\n",
       "    <tr>\n",
       "      <th>11</th>\n",
       "      <td>98</td>\n",
       "      <td>105</td>\n",
       "      <td>355</td>\n",
       "      <td>469</td>\n",
       "      <td>105</td>\n",
       "      <td>515</td>\n",
       "      <td>317</td>\n",
       "      <td>96</td>\n",
       "      <td>229</td>\n",
       "      <td>72</td>\n",
       "      <td>...</td>\n",
       "      <td>188</td>\n",
       "      <td>326</td>\n",
       "      <td>741</td>\n",
       "      <td>32</td>\n",
       "      <td>230</td>\n",
       "      <td>255</td>\n",
       "      <td>1331</td>\n",
       "      <td>261</td>\n",
       "      <td>215</td>\n",
       "      <td>152</td>\n",
       "    </tr>\n",
       "    <tr>\n",
       "      <th>12</th>\n",
       "      <td>111</td>\n",
       "      <td>132</td>\n",
       "      <td>349</td>\n",
       "      <td>467</td>\n",
       "      <td>67</td>\n",
       "      <td>482</td>\n",
       "      <td>369</td>\n",
       "      <td>77</td>\n",
       "      <td>207</td>\n",
       "      <td>78</td>\n",
       "      <td>...</td>\n",
       "      <td>217</td>\n",
       "      <td>345</td>\n",
       "      <td>776</td>\n",
       "      <td>49</td>\n",
       "      <td>233</td>\n",
       "      <td>290</td>\n",
       "      <td>1407</td>\n",
       "      <td>275</td>\n",
       "      <td>178</td>\n",
       "      <td>169</td>\n",
       "    </tr>\n",
       "  </tbody>\n",
       "</table>\n",
       "<p>12 rows × 42 columns</p>\n",
       "</div>"
      ],
      "text/plain": [
       "category   ARTS  ARTS & CULTURE  BLACK VOICES  BUSINESS  COLLEGE  COMEDY  \\\n",
       "month_num                                                                  \n",
       "1            92             130           414       499       79     462   \n",
       "2            97              94           404       478       77     473   \n",
       "3           117             126           433       477       58     518   \n",
       "4           169             105           365       555      103     450   \n",
       "5           204             107           413       624      153     469   \n",
       "6           162             102           349       600      110     314   \n",
       "7           128             114           386       499      102     393   \n",
       "8           114             112           401       413      122     389   \n",
       "9           104              90           391       471       80     444   \n",
       "10          113             122           323       440       88     491   \n",
       "11           98             105           355       469      105     515   \n",
       "12          111             132           349       467       67     482   \n",
       "\n",
       "category   CRIME  CULTURE & ARTS  DIVORCE  EDUCATION  ...  TECH  \\\n",
       "month_num                                             ...         \n",
       "1            309              74      250         60  ...   168   \n",
       "2            244             100      314         64  ...   195   \n",
       "3            287             138      361         55  ...   200   \n",
       "4            295             108      355        114  ...   173   \n",
       "5            266             106      332        153  ...   131   \n",
       "6            253              71      340        110  ...   133   \n",
       "7            313              82      269         92  ...   204   \n",
       "8            338              70      323         75  ...   139   \n",
       "9            295              81      210         76  ...   162   \n",
       "10           276              71      236         65  ...   190   \n",
       "11           317              96      229         72  ...   188   \n",
       "12           369              77      207         78  ...   217   \n",
       "\n",
       "category   THE WORLDPOST  TRAVEL  U.S. NEWS  WEDDINGS  WEIRD NEWS  WELLNESS  \\\n",
       "month_num                                                                     \n",
       "1                    286     794         68       246         272      1546   \n",
       "2                    258     872        157       362         197      1877   \n",
       "3                    336    1060        179       401         204      2027   \n",
       "4                    362     930         97       395         239      1753   \n",
       "5                    336     801        109       381         225      1284   \n",
       "6                    205     794        158       321         137      1333   \n",
       "7                    296     837        173       309         216      1344   \n",
       "8                    329     847        198       307         236      1285   \n",
       "9                    297     675        130       233         236      1326   \n",
       "10                   288     773         27       235         270      1429   \n",
       "11                   326     741         32       230         255      1331   \n",
       "12                   345     776         49       233         290      1407   \n",
       "\n",
       "category   WOMEN  WORLD NEWS  WORLDPOST  \n",
       "month_num                                \n",
       "1            303         240        239  \n",
       "2            244         230        172  \n",
       "3            326         233        196  \n",
       "4            336         204        226  \n",
       "5            400         272        299  \n",
       "6            320         419        289  \n",
       "7            245         401        267  \n",
       "8            266         384        189  \n",
       "9            238         326        205  \n",
       "10           357         197        176  \n",
       "11           261         215        152  \n",
       "12           275         178        169  \n",
       "\n",
       "[12 rows x 42 columns]"
      ]
     },
     "execution_count": 84,
     "metadata": {},
     "output_type": "execute_result"
    },
    {
     "data": {
      "application/javascript": [
       "\n",
       "            setTimeout(function() {\n",
       "                var nbb_cell_id = 84;\n",
       "                var nbb_unformatted_code = \"trial[\\\"link\\\"]\";\n",
       "                var nbb_formatted_code = \"trial[\\\"link\\\"]\";\n",
       "                var nbb_cells = Jupyter.notebook.get_cells();\n",
       "                for (var i = 0; i < nbb_cells.length; ++i) {\n",
       "                    if (nbb_cells[i].input_prompt_number == nbb_cell_id) {\n",
       "                        if (nbb_cells[i].get_text() == nbb_unformatted_code) {\n",
       "                             nbb_cells[i].set_text(nbb_formatted_code);\n",
       "                        }\n",
       "                        break;\n",
       "                    }\n",
       "                }\n",
       "            }, 500);\n",
       "            "
      ],
      "text/plain": [
       "<IPython.core.display.Javascript object>"
      ]
     },
     "metadata": {},
     "output_type": "display_data"
    }
   ],
   "source": [
    "trial[\"link\"]"
   ]
  },
  {
   "cell_type": "code",
   "execution_count": 85,
   "id": "d44db531",
   "metadata": {
    "scrolled": false
   },
   "outputs": [
    {
     "data": {
      "application/vnd.plotly.v1+json": {
       "config": {
        "plotlyServerURL": "https://plot.ly"
       },
       "data": [
        {
         "alignmentgroup": "True",
         "hovertemplate": "variable=month_num<br>index=%{x}<br>value=%{y}<extra></extra>",
         "legendgroup": "month_num",
         "marker": {
          "color": "#636efa",
          "pattern": {
           "shape": ""
          }
         },
         "name": "month_num",
         "offsetgroup": "month_num",
         "orientation": "v",
         "showlegend": true,
         "textposition": "auto",
         "type": "bar",
         "x": [
          11,
          12,
          9,
          6,
          1,
          10,
          7,
          8,
          2,
          4,
          5,
          3
         ],
         "xaxis": "x",
         "y": [
          16454,
          16529,
          16589,
          16977,
          17161,
          17221,
          17295,
          17397,
          17875,
          18292,
          18625,
          19099
         ],
         "yaxis": "y"
        }
       ],
       "layout": {
        "barmode": "relative",
        "legend": {
         "title": {
          "text": "variable"
         },
         "tracegroupgap": 0
        },
        "margin": {
         "t": 60
        },
        "showlegend": false,
        "template": {
         "data": {
          "bar": [
           {
            "error_x": {
             "color": "#2a3f5f"
            },
            "error_y": {
             "color": "#2a3f5f"
            },
            "marker": {
             "line": {
              "color": "#E5ECF6",
              "width": 0.5
             },
             "pattern": {
              "fillmode": "overlay",
              "size": 10,
              "solidity": 0.2
             }
            },
            "type": "bar"
           }
          ],
          "barpolar": [
           {
            "marker": {
             "line": {
              "color": "#E5ECF6",
              "width": 0.5
             },
             "pattern": {
              "fillmode": "overlay",
              "size": 10,
              "solidity": 0.2
             }
            },
            "type": "barpolar"
           }
          ],
          "carpet": [
           {
            "aaxis": {
             "endlinecolor": "#2a3f5f",
             "gridcolor": "white",
             "linecolor": "white",
             "minorgridcolor": "white",
             "startlinecolor": "#2a3f5f"
            },
            "baxis": {
             "endlinecolor": "#2a3f5f",
             "gridcolor": "white",
             "linecolor": "white",
             "minorgridcolor": "white",
             "startlinecolor": "#2a3f5f"
            },
            "type": "carpet"
           }
          ],
          "choropleth": [
           {
            "colorbar": {
             "outlinewidth": 0,
             "ticks": ""
            },
            "type": "choropleth"
           }
          ],
          "contour": [
           {
            "colorbar": {
             "outlinewidth": 0,
             "ticks": ""
            },
            "colorscale": [
             [
              0,
              "#0d0887"
             ],
             [
              0.1111111111111111,
              "#46039f"
             ],
             [
              0.2222222222222222,
              "#7201a8"
             ],
             [
              0.3333333333333333,
              "#9c179e"
             ],
             [
              0.4444444444444444,
              "#bd3786"
             ],
             [
              0.5555555555555556,
              "#d8576b"
             ],
             [
              0.6666666666666666,
              "#ed7953"
             ],
             [
              0.7777777777777778,
              "#fb9f3a"
             ],
             [
              0.8888888888888888,
              "#fdca26"
             ],
             [
              1,
              "#f0f921"
             ]
            ],
            "type": "contour"
           }
          ],
          "contourcarpet": [
           {
            "colorbar": {
             "outlinewidth": 0,
             "ticks": ""
            },
            "type": "contourcarpet"
           }
          ],
          "heatmap": [
           {
            "colorbar": {
             "outlinewidth": 0,
             "ticks": ""
            },
            "colorscale": [
             [
              0,
              "#0d0887"
             ],
             [
              0.1111111111111111,
              "#46039f"
             ],
             [
              0.2222222222222222,
              "#7201a8"
             ],
             [
              0.3333333333333333,
              "#9c179e"
             ],
             [
              0.4444444444444444,
              "#bd3786"
             ],
             [
              0.5555555555555556,
              "#d8576b"
             ],
             [
              0.6666666666666666,
              "#ed7953"
             ],
             [
              0.7777777777777778,
              "#fb9f3a"
             ],
             [
              0.8888888888888888,
              "#fdca26"
             ],
             [
              1,
              "#f0f921"
             ]
            ],
            "type": "heatmap"
           }
          ],
          "heatmapgl": [
           {
            "colorbar": {
             "outlinewidth": 0,
             "ticks": ""
            },
            "colorscale": [
             [
              0,
              "#0d0887"
             ],
             [
              0.1111111111111111,
              "#46039f"
             ],
             [
              0.2222222222222222,
              "#7201a8"
             ],
             [
              0.3333333333333333,
              "#9c179e"
             ],
             [
              0.4444444444444444,
              "#bd3786"
             ],
             [
              0.5555555555555556,
              "#d8576b"
             ],
             [
              0.6666666666666666,
              "#ed7953"
             ],
             [
              0.7777777777777778,
              "#fb9f3a"
             ],
             [
              0.8888888888888888,
              "#fdca26"
             ],
             [
              1,
              "#f0f921"
             ]
            ],
            "type": "heatmapgl"
           }
          ],
          "histogram": [
           {
            "marker": {
             "pattern": {
              "fillmode": "overlay",
              "size": 10,
              "solidity": 0.2
             }
            },
            "type": "histogram"
           }
          ],
          "histogram2d": [
           {
            "colorbar": {
             "outlinewidth": 0,
             "ticks": ""
            },
            "colorscale": [
             [
              0,
              "#0d0887"
             ],
             [
              0.1111111111111111,
              "#46039f"
             ],
             [
              0.2222222222222222,
              "#7201a8"
             ],
             [
              0.3333333333333333,
              "#9c179e"
             ],
             [
              0.4444444444444444,
              "#bd3786"
             ],
             [
              0.5555555555555556,
              "#d8576b"
             ],
             [
              0.6666666666666666,
              "#ed7953"
             ],
             [
              0.7777777777777778,
              "#fb9f3a"
             ],
             [
              0.8888888888888888,
              "#fdca26"
             ],
             [
              1,
              "#f0f921"
             ]
            ],
            "type": "histogram2d"
           }
          ],
          "histogram2dcontour": [
           {
            "colorbar": {
             "outlinewidth": 0,
             "ticks": ""
            },
            "colorscale": [
             [
              0,
              "#0d0887"
             ],
             [
              0.1111111111111111,
              "#46039f"
             ],
             [
              0.2222222222222222,
              "#7201a8"
             ],
             [
              0.3333333333333333,
              "#9c179e"
             ],
             [
              0.4444444444444444,
              "#bd3786"
             ],
             [
              0.5555555555555556,
              "#d8576b"
             ],
             [
              0.6666666666666666,
              "#ed7953"
             ],
             [
              0.7777777777777778,
              "#fb9f3a"
             ],
             [
              0.8888888888888888,
              "#fdca26"
             ],
             [
              1,
              "#f0f921"
             ]
            ],
            "type": "histogram2dcontour"
           }
          ],
          "mesh3d": [
           {
            "colorbar": {
             "outlinewidth": 0,
             "ticks": ""
            },
            "type": "mesh3d"
           }
          ],
          "parcoords": [
           {
            "line": {
             "colorbar": {
              "outlinewidth": 0,
              "ticks": ""
             }
            },
            "type": "parcoords"
           }
          ],
          "pie": [
           {
            "automargin": true,
            "type": "pie"
           }
          ],
          "scatter": [
           {
            "fillpattern": {
             "fillmode": "overlay",
             "size": 10,
             "solidity": 0.2
            },
            "type": "scatter"
           }
          ],
          "scatter3d": [
           {
            "line": {
             "colorbar": {
              "outlinewidth": 0,
              "ticks": ""
             }
            },
            "marker": {
             "colorbar": {
              "outlinewidth": 0,
              "ticks": ""
             }
            },
            "type": "scatter3d"
           }
          ],
          "scattercarpet": [
           {
            "marker": {
             "colorbar": {
              "outlinewidth": 0,
              "ticks": ""
             }
            },
            "type": "scattercarpet"
           }
          ],
          "scattergeo": [
           {
            "marker": {
             "colorbar": {
              "outlinewidth": 0,
              "ticks": ""
             }
            },
            "type": "scattergeo"
           }
          ],
          "scattergl": [
           {
            "marker": {
             "colorbar": {
              "outlinewidth": 0,
              "ticks": ""
             }
            },
            "type": "scattergl"
           }
          ],
          "scattermapbox": [
           {
            "marker": {
             "colorbar": {
              "outlinewidth": 0,
              "ticks": ""
             }
            },
            "type": "scattermapbox"
           }
          ],
          "scatterpolar": [
           {
            "marker": {
             "colorbar": {
              "outlinewidth": 0,
              "ticks": ""
             }
            },
            "type": "scatterpolar"
           }
          ],
          "scatterpolargl": [
           {
            "marker": {
             "colorbar": {
              "outlinewidth": 0,
              "ticks": ""
             }
            },
            "type": "scatterpolargl"
           }
          ],
          "scatterternary": [
           {
            "marker": {
             "colorbar": {
              "outlinewidth": 0,
              "ticks": ""
             }
            },
            "type": "scatterternary"
           }
          ],
          "surface": [
           {
            "colorbar": {
             "outlinewidth": 0,
             "ticks": ""
            },
            "colorscale": [
             [
              0,
              "#0d0887"
             ],
             [
              0.1111111111111111,
              "#46039f"
             ],
             [
              0.2222222222222222,
              "#7201a8"
             ],
             [
              0.3333333333333333,
              "#9c179e"
             ],
             [
              0.4444444444444444,
              "#bd3786"
             ],
             [
              0.5555555555555556,
              "#d8576b"
             ],
             [
              0.6666666666666666,
              "#ed7953"
             ],
             [
              0.7777777777777778,
              "#fb9f3a"
             ],
             [
              0.8888888888888888,
              "#fdca26"
             ],
             [
              1,
              "#f0f921"
             ]
            ],
            "type": "surface"
           }
          ],
          "table": [
           {
            "cells": {
             "fill": {
              "color": "#EBF0F8"
             },
             "line": {
              "color": "white"
             }
            },
            "header": {
             "fill": {
              "color": "#C8D4E3"
             },
             "line": {
              "color": "white"
             }
            },
            "type": "table"
           }
          ]
         },
         "layout": {
          "annotationdefaults": {
           "arrowcolor": "#2a3f5f",
           "arrowhead": 0,
           "arrowwidth": 1
          },
          "autotypenumbers": "strict",
          "coloraxis": {
           "colorbar": {
            "outlinewidth": 0,
            "ticks": ""
           }
          },
          "colorscale": {
           "diverging": [
            [
             0,
             "#8e0152"
            ],
            [
             0.1,
             "#c51b7d"
            ],
            [
             0.2,
             "#de77ae"
            ],
            [
             0.3,
             "#f1b6da"
            ],
            [
             0.4,
             "#fde0ef"
            ],
            [
             0.5,
             "#f7f7f7"
            ],
            [
             0.6,
             "#e6f5d0"
            ],
            [
             0.7,
             "#b8e186"
            ],
            [
             0.8,
             "#7fbc41"
            ],
            [
             0.9,
             "#4d9221"
            ],
            [
             1,
             "#276419"
            ]
           ],
           "sequential": [
            [
             0,
             "#0d0887"
            ],
            [
             0.1111111111111111,
             "#46039f"
            ],
            [
             0.2222222222222222,
             "#7201a8"
            ],
            [
             0.3333333333333333,
             "#9c179e"
            ],
            [
             0.4444444444444444,
             "#bd3786"
            ],
            [
             0.5555555555555556,
             "#d8576b"
            ],
            [
             0.6666666666666666,
             "#ed7953"
            ],
            [
             0.7777777777777778,
             "#fb9f3a"
            ],
            [
             0.8888888888888888,
             "#fdca26"
            ],
            [
             1,
             "#f0f921"
            ]
           ],
           "sequentialminus": [
            [
             0,
             "#0d0887"
            ],
            [
             0.1111111111111111,
             "#46039f"
            ],
            [
             0.2222222222222222,
             "#7201a8"
            ],
            [
             0.3333333333333333,
             "#9c179e"
            ],
            [
             0.4444444444444444,
             "#bd3786"
            ],
            [
             0.5555555555555556,
             "#d8576b"
            ],
            [
             0.6666666666666666,
             "#ed7953"
            ],
            [
             0.7777777777777778,
             "#fb9f3a"
            ],
            [
             0.8888888888888888,
             "#fdca26"
            ],
            [
             1,
             "#f0f921"
            ]
           ]
          },
          "colorway": [
           "#636efa",
           "#EF553B",
           "#00cc96",
           "#ab63fa",
           "#FFA15A",
           "#19d3f3",
           "#FF6692",
           "#B6E880",
           "#FF97FF",
           "#FECB52"
          ],
          "font": {
           "color": "#2a3f5f"
          },
          "geo": {
           "bgcolor": "white",
           "lakecolor": "white",
           "landcolor": "#E5ECF6",
           "showlakes": true,
           "showland": true,
           "subunitcolor": "white"
          },
          "hoverlabel": {
           "align": "left"
          },
          "hovermode": "closest",
          "mapbox": {
           "style": "light"
          },
          "paper_bgcolor": "white",
          "plot_bgcolor": "#E5ECF6",
          "polar": {
           "angularaxis": {
            "gridcolor": "white",
            "linecolor": "white",
            "ticks": ""
           },
           "bgcolor": "#E5ECF6",
           "radialaxis": {
            "gridcolor": "white",
            "linecolor": "white",
            "ticks": ""
           }
          },
          "scene": {
           "xaxis": {
            "backgroundcolor": "#E5ECF6",
            "gridcolor": "white",
            "gridwidth": 2,
            "linecolor": "white",
            "showbackground": true,
            "ticks": "",
            "zerolinecolor": "white"
           },
           "yaxis": {
            "backgroundcolor": "#E5ECF6",
            "gridcolor": "white",
            "gridwidth": 2,
            "linecolor": "white",
            "showbackground": true,
            "ticks": "",
            "zerolinecolor": "white"
           },
           "zaxis": {
            "backgroundcolor": "#E5ECF6",
            "gridcolor": "white",
            "gridwidth": 2,
            "linecolor": "white",
            "showbackground": true,
            "ticks": "",
            "zerolinecolor": "white"
           }
          },
          "shapedefaults": {
           "line": {
            "color": "#2a3f5f"
           }
          },
          "ternary": {
           "aaxis": {
            "gridcolor": "white",
            "linecolor": "white",
            "ticks": ""
           },
           "baxis": {
            "gridcolor": "white",
            "linecolor": "white",
            "ticks": ""
           },
           "bgcolor": "#E5ECF6",
           "caxis": {
            "gridcolor": "white",
            "linecolor": "white",
            "ticks": ""
           }
          },
          "title": {
           "x": 0.05
          },
          "xaxis": {
           "automargin": true,
           "gridcolor": "white",
           "linecolor": "white",
           "ticks": "",
           "title": {
            "standoff": 15
           },
           "zerolinecolor": "white",
           "zerolinewidth": 2
          },
          "yaxis": {
           "automargin": true,
           "gridcolor": "white",
           "linecolor": "white",
           "ticks": "",
           "title": {
            "standoff": 15
           },
           "zerolinecolor": "white",
           "zerolinewidth": 2
          }
         }
        },
        "title": {
         "text": "Number of Articles by Month"
        },
        "xaxis": {
         "anchor": "y",
         "domain": [
          0,
          1
         ],
         "title": {
          "text": "Month Number"
         }
        },
        "yaxis": {
         "anchor": "x",
         "domain": [
          0,
          1
         ],
         "title": {
          "text": "Number of Articles"
         }
        }
       }
      },
      "text/html": [
       "<div>                            <div id=\"b2150bc6-f208-4a3d-a142-38a1e5e39f20\" class=\"plotly-graph-div\" style=\"height:525px; width:100%;\"></div>            <script type=\"text/javascript\">                require([\"plotly\"], function(Plotly) {                    window.PLOTLYENV=window.PLOTLYENV || {};                                    if (document.getElementById(\"b2150bc6-f208-4a3d-a142-38a1e5e39f20\")) {                    Plotly.newPlot(                        \"b2150bc6-f208-4a3d-a142-38a1e5e39f20\",                        [{\"alignmentgroup\":\"True\",\"hovertemplate\":\"variable=month_num\\u003cbr\\u003eindex=%{x}\\u003cbr\\u003evalue=%{y}\\u003cextra\\u003e\\u003c\\u002fextra\\u003e\",\"legendgroup\":\"month_num\",\"marker\":{\"color\":\"#636efa\",\"pattern\":{\"shape\":\"\"}},\"name\":\"month_num\",\"offsetgroup\":\"month_num\",\"orientation\":\"v\",\"showlegend\":true,\"textposition\":\"auto\",\"x\":[11,12,9,6,1,10,7,8,2,4,5,3],\"xaxis\":\"x\",\"y\":[16454,16529,16589,16977,17161,17221,17295,17397,17875,18292,18625,19099],\"yaxis\":\"y\",\"type\":\"bar\"}],                        {\"template\":{\"data\":{\"histogram2dcontour\":[{\"type\":\"histogram2dcontour\",\"colorbar\":{\"outlinewidth\":0,\"ticks\":\"\"},\"colorscale\":[[0.0,\"#0d0887\"],[0.1111111111111111,\"#46039f\"],[0.2222222222222222,\"#7201a8\"],[0.3333333333333333,\"#9c179e\"],[0.4444444444444444,\"#bd3786\"],[0.5555555555555556,\"#d8576b\"],[0.6666666666666666,\"#ed7953\"],[0.7777777777777778,\"#fb9f3a\"],[0.8888888888888888,\"#fdca26\"],[1.0,\"#f0f921\"]]}],\"choropleth\":[{\"type\":\"choropleth\",\"colorbar\":{\"outlinewidth\":0,\"ticks\":\"\"}}],\"histogram2d\":[{\"type\":\"histogram2d\",\"colorbar\":{\"outlinewidth\":0,\"ticks\":\"\"},\"colorscale\":[[0.0,\"#0d0887\"],[0.1111111111111111,\"#46039f\"],[0.2222222222222222,\"#7201a8\"],[0.3333333333333333,\"#9c179e\"],[0.4444444444444444,\"#bd3786\"],[0.5555555555555556,\"#d8576b\"],[0.6666666666666666,\"#ed7953\"],[0.7777777777777778,\"#fb9f3a\"],[0.8888888888888888,\"#fdca26\"],[1.0,\"#f0f921\"]]}],\"heatmap\":[{\"type\":\"heatmap\",\"colorbar\":{\"outlinewidth\":0,\"ticks\":\"\"},\"colorscale\":[[0.0,\"#0d0887\"],[0.1111111111111111,\"#46039f\"],[0.2222222222222222,\"#7201a8\"],[0.3333333333333333,\"#9c179e\"],[0.4444444444444444,\"#bd3786\"],[0.5555555555555556,\"#d8576b\"],[0.6666666666666666,\"#ed7953\"],[0.7777777777777778,\"#fb9f3a\"],[0.8888888888888888,\"#fdca26\"],[1.0,\"#f0f921\"]]}],\"heatmapgl\":[{\"type\":\"heatmapgl\",\"colorbar\":{\"outlinewidth\":0,\"ticks\":\"\"},\"colorscale\":[[0.0,\"#0d0887\"],[0.1111111111111111,\"#46039f\"],[0.2222222222222222,\"#7201a8\"],[0.3333333333333333,\"#9c179e\"],[0.4444444444444444,\"#bd3786\"],[0.5555555555555556,\"#d8576b\"],[0.6666666666666666,\"#ed7953\"],[0.7777777777777778,\"#fb9f3a\"],[0.8888888888888888,\"#fdca26\"],[1.0,\"#f0f921\"]]}],\"contourcarpet\":[{\"type\":\"contourcarpet\",\"colorbar\":{\"outlinewidth\":0,\"ticks\":\"\"}}],\"contour\":[{\"type\":\"contour\",\"colorbar\":{\"outlinewidth\":0,\"ticks\":\"\"},\"colorscale\":[[0.0,\"#0d0887\"],[0.1111111111111111,\"#46039f\"],[0.2222222222222222,\"#7201a8\"],[0.3333333333333333,\"#9c179e\"],[0.4444444444444444,\"#bd3786\"],[0.5555555555555556,\"#d8576b\"],[0.6666666666666666,\"#ed7953\"],[0.7777777777777778,\"#fb9f3a\"],[0.8888888888888888,\"#fdca26\"],[1.0,\"#f0f921\"]]}],\"surface\":[{\"type\":\"surface\",\"colorbar\":{\"outlinewidth\":0,\"ticks\":\"\"},\"colorscale\":[[0.0,\"#0d0887\"],[0.1111111111111111,\"#46039f\"],[0.2222222222222222,\"#7201a8\"],[0.3333333333333333,\"#9c179e\"],[0.4444444444444444,\"#bd3786\"],[0.5555555555555556,\"#d8576b\"],[0.6666666666666666,\"#ed7953\"],[0.7777777777777778,\"#fb9f3a\"],[0.8888888888888888,\"#fdca26\"],[1.0,\"#f0f921\"]]}],\"mesh3d\":[{\"type\":\"mesh3d\",\"colorbar\":{\"outlinewidth\":0,\"ticks\":\"\"}}],\"scatter\":[{\"fillpattern\":{\"fillmode\":\"overlay\",\"size\":10,\"solidity\":0.2},\"type\":\"scatter\"}],\"parcoords\":[{\"type\":\"parcoords\",\"line\":{\"colorbar\":{\"outlinewidth\":0,\"ticks\":\"\"}}}],\"scatterpolargl\":[{\"type\":\"scatterpolargl\",\"marker\":{\"colorbar\":{\"outlinewidth\":0,\"ticks\":\"\"}}}],\"bar\":[{\"error_x\":{\"color\":\"#2a3f5f\"},\"error_y\":{\"color\":\"#2a3f5f\"},\"marker\":{\"line\":{\"color\":\"#E5ECF6\",\"width\":0.5},\"pattern\":{\"fillmode\":\"overlay\",\"size\":10,\"solidity\":0.2}},\"type\":\"bar\"}],\"scattergeo\":[{\"type\":\"scattergeo\",\"marker\":{\"colorbar\":{\"outlinewidth\":0,\"ticks\":\"\"}}}],\"scatterpolar\":[{\"type\":\"scatterpolar\",\"marker\":{\"colorbar\":{\"outlinewidth\":0,\"ticks\":\"\"}}}],\"histogram\":[{\"marker\":{\"pattern\":{\"fillmode\":\"overlay\",\"size\":10,\"solidity\":0.2}},\"type\":\"histogram\"}],\"scattergl\":[{\"type\":\"scattergl\",\"marker\":{\"colorbar\":{\"outlinewidth\":0,\"ticks\":\"\"}}}],\"scatter3d\":[{\"type\":\"scatter3d\",\"line\":{\"colorbar\":{\"outlinewidth\":0,\"ticks\":\"\"}},\"marker\":{\"colorbar\":{\"outlinewidth\":0,\"ticks\":\"\"}}}],\"scattermapbox\":[{\"type\":\"scattermapbox\",\"marker\":{\"colorbar\":{\"outlinewidth\":0,\"ticks\":\"\"}}}],\"scatterternary\":[{\"type\":\"scatterternary\",\"marker\":{\"colorbar\":{\"outlinewidth\":0,\"ticks\":\"\"}}}],\"scattercarpet\":[{\"type\":\"scattercarpet\",\"marker\":{\"colorbar\":{\"outlinewidth\":0,\"ticks\":\"\"}}}],\"carpet\":[{\"aaxis\":{\"endlinecolor\":\"#2a3f5f\",\"gridcolor\":\"white\",\"linecolor\":\"white\",\"minorgridcolor\":\"white\",\"startlinecolor\":\"#2a3f5f\"},\"baxis\":{\"endlinecolor\":\"#2a3f5f\",\"gridcolor\":\"white\",\"linecolor\":\"white\",\"minorgridcolor\":\"white\",\"startlinecolor\":\"#2a3f5f\"},\"type\":\"carpet\"}],\"table\":[{\"cells\":{\"fill\":{\"color\":\"#EBF0F8\"},\"line\":{\"color\":\"white\"}},\"header\":{\"fill\":{\"color\":\"#C8D4E3\"},\"line\":{\"color\":\"white\"}},\"type\":\"table\"}],\"barpolar\":[{\"marker\":{\"line\":{\"color\":\"#E5ECF6\",\"width\":0.5},\"pattern\":{\"fillmode\":\"overlay\",\"size\":10,\"solidity\":0.2}},\"type\":\"barpolar\"}],\"pie\":[{\"automargin\":true,\"type\":\"pie\"}]},\"layout\":{\"autotypenumbers\":\"strict\",\"colorway\":[\"#636efa\",\"#EF553B\",\"#00cc96\",\"#ab63fa\",\"#FFA15A\",\"#19d3f3\",\"#FF6692\",\"#B6E880\",\"#FF97FF\",\"#FECB52\"],\"font\":{\"color\":\"#2a3f5f\"},\"hovermode\":\"closest\",\"hoverlabel\":{\"align\":\"left\"},\"paper_bgcolor\":\"white\",\"plot_bgcolor\":\"#E5ECF6\",\"polar\":{\"bgcolor\":\"#E5ECF6\",\"angularaxis\":{\"gridcolor\":\"white\",\"linecolor\":\"white\",\"ticks\":\"\"},\"radialaxis\":{\"gridcolor\":\"white\",\"linecolor\":\"white\",\"ticks\":\"\"}},\"ternary\":{\"bgcolor\":\"#E5ECF6\",\"aaxis\":{\"gridcolor\":\"white\",\"linecolor\":\"white\",\"ticks\":\"\"},\"baxis\":{\"gridcolor\":\"white\",\"linecolor\":\"white\",\"ticks\":\"\"},\"caxis\":{\"gridcolor\":\"white\",\"linecolor\":\"white\",\"ticks\":\"\"}},\"coloraxis\":{\"colorbar\":{\"outlinewidth\":0,\"ticks\":\"\"}},\"colorscale\":{\"sequential\":[[0.0,\"#0d0887\"],[0.1111111111111111,\"#46039f\"],[0.2222222222222222,\"#7201a8\"],[0.3333333333333333,\"#9c179e\"],[0.4444444444444444,\"#bd3786\"],[0.5555555555555556,\"#d8576b\"],[0.6666666666666666,\"#ed7953\"],[0.7777777777777778,\"#fb9f3a\"],[0.8888888888888888,\"#fdca26\"],[1.0,\"#f0f921\"]],\"sequentialminus\":[[0.0,\"#0d0887\"],[0.1111111111111111,\"#46039f\"],[0.2222222222222222,\"#7201a8\"],[0.3333333333333333,\"#9c179e\"],[0.4444444444444444,\"#bd3786\"],[0.5555555555555556,\"#d8576b\"],[0.6666666666666666,\"#ed7953\"],[0.7777777777777778,\"#fb9f3a\"],[0.8888888888888888,\"#fdca26\"],[1.0,\"#f0f921\"]],\"diverging\":[[0,\"#8e0152\"],[0.1,\"#c51b7d\"],[0.2,\"#de77ae\"],[0.3,\"#f1b6da\"],[0.4,\"#fde0ef\"],[0.5,\"#f7f7f7\"],[0.6,\"#e6f5d0\"],[0.7,\"#b8e186\"],[0.8,\"#7fbc41\"],[0.9,\"#4d9221\"],[1,\"#276419\"]]},\"xaxis\":{\"gridcolor\":\"white\",\"linecolor\":\"white\",\"ticks\":\"\",\"title\":{\"standoff\":15},\"zerolinecolor\":\"white\",\"automargin\":true,\"zerolinewidth\":2},\"yaxis\":{\"gridcolor\":\"white\",\"linecolor\":\"white\",\"ticks\":\"\",\"title\":{\"standoff\":15},\"zerolinecolor\":\"white\",\"automargin\":true,\"zerolinewidth\":2},\"scene\":{\"xaxis\":{\"backgroundcolor\":\"#E5ECF6\",\"gridcolor\":\"white\",\"linecolor\":\"white\",\"showbackground\":true,\"ticks\":\"\",\"zerolinecolor\":\"white\",\"gridwidth\":2},\"yaxis\":{\"backgroundcolor\":\"#E5ECF6\",\"gridcolor\":\"white\",\"linecolor\":\"white\",\"showbackground\":true,\"ticks\":\"\",\"zerolinecolor\":\"white\",\"gridwidth\":2},\"zaxis\":{\"backgroundcolor\":\"#E5ECF6\",\"gridcolor\":\"white\",\"linecolor\":\"white\",\"showbackground\":true,\"ticks\":\"\",\"zerolinecolor\":\"white\",\"gridwidth\":2}},\"shapedefaults\":{\"line\":{\"color\":\"#2a3f5f\"}},\"annotationdefaults\":{\"arrowcolor\":\"#2a3f5f\",\"arrowhead\":0,\"arrowwidth\":1},\"geo\":{\"bgcolor\":\"white\",\"landcolor\":\"#E5ECF6\",\"subunitcolor\":\"white\",\"showland\":true,\"showlakes\":true,\"lakecolor\":\"white\"},\"title\":{\"x\":0.05},\"mapbox\":{\"style\":\"light\"}}},\"xaxis\":{\"anchor\":\"y\",\"domain\":[0.0,1.0],\"title\":{\"text\":\"Month Number\"}},\"yaxis\":{\"anchor\":\"x\",\"domain\":[0.0,1.0],\"title\":{\"text\":\"Number of Articles\"}},\"legend\":{\"title\":{\"text\":\"variable\"},\"tracegroupgap\":0},\"margin\":{\"t\":60},\"barmode\":\"relative\",\"title\":{\"text\":\"Number of Articles by Month\"},\"showlegend\":false},                        {\"responsive\": true}                    ).then(function(){\n",
       "                            \n",
       "var gd = document.getElementById('b2150bc6-f208-4a3d-a142-38a1e5e39f20');\n",
       "var x = new MutationObserver(function (mutations, observer) {{\n",
       "        var display = window.getComputedStyle(gd).display;\n",
       "        if (!display || display === 'none') {{\n",
       "            console.log([gd, 'removed!']);\n",
       "            Plotly.purge(gd);\n",
       "            observer.disconnect();\n",
       "        }}\n",
       "}});\n",
       "\n",
       "// Listen for the removal of the full notebook cells\n",
       "var notebookContainer = gd.closest('#notebook-container');\n",
       "if (notebookContainer) {{\n",
       "    x.observe(notebookContainer, {childList: true});\n",
       "}}\n",
       "\n",
       "// Listen for the clearing of the current output cell\n",
       "var outputEl = gd.closest('.output');\n",
       "if (outputEl) {{\n",
       "    x.observe(outputEl, {childList: true});\n",
       "}}\n",
       "\n",
       "                        })                };                });            </script>        </div>"
      ]
     },
     "metadata": {},
     "output_type": "display_data"
    },
    {
     "data": {
      "application/javascript": [
       "\n",
       "            setTimeout(function() {\n",
       "                var nbb_cell_id = 85;\n",
       "                var nbb_unformatted_code = \"# Visualizing the number of articles trends by month\\n\\nfig = px.bar(df[\\\"month_num\\\"].value_counts().sort_values())\\n\\nfig.update_layout(\\n    xaxis_title=\\\"Month Number\\\",\\n    yaxis_title=\\\"Number of Articles\\\",\\n    title=\\\"Number of Articles by Month\\\",\\n    showlegend=False,\\n)\\n\\nfig.show()\";\n",
       "                var nbb_formatted_code = \"# Visualizing the number of articles trends by month\\n\\nfig = px.bar(df[\\\"month_num\\\"].value_counts().sort_values())\\n\\nfig.update_layout(\\n    xaxis_title=\\\"Month Number\\\",\\n    yaxis_title=\\\"Number of Articles\\\",\\n    title=\\\"Number of Articles by Month\\\",\\n    showlegend=False,\\n)\\n\\nfig.show()\";\n",
       "                var nbb_cells = Jupyter.notebook.get_cells();\n",
       "                for (var i = 0; i < nbb_cells.length; ++i) {\n",
       "                    if (nbb_cells[i].input_prompt_number == nbb_cell_id) {\n",
       "                        if (nbb_cells[i].get_text() == nbb_unformatted_code) {\n",
       "                             nbb_cells[i].set_text(nbb_formatted_code);\n",
       "                        }\n",
       "                        break;\n",
       "                    }\n",
       "                }\n",
       "            }, 500);\n",
       "            "
      ],
      "text/plain": [
       "<IPython.core.display.Javascript object>"
      ]
     },
     "metadata": {},
     "output_type": "display_data"
    }
   ],
   "source": [
    "# Visualizing the number of articles trends by month\n",
    "\n",
    "fig = px.bar(df[\"month_num\"].value_counts().sort_values())\n",
    "\n",
    "fig.update_layout(\n",
    "    xaxis_title=\"Month Number\",\n",
    "    yaxis_title=\"Number of Articles\",\n",
    "    title=\"Number of Articles by Month\",\n",
    "    showlegend=False,\n",
    ")\n",
    "\n",
    "fig.show()"
   ]
  },
  {
   "cell_type": "markdown",
   "id": "f29b5003",
   "metadata": {},
   "source": [
    "Overall, there is fairly an equal distribution of articles through the months with the highest being March with 19,000 articles and the least being November with 16,450 articles."
   ]
  },
  {
   "cell_type": "markdown",
   "id": "d06d6c11",
   "metadata": {},
   "source": [
    "### Article trends by year"
   ]
  },
  {
   "cell_type": "code",
   "execution_count": 86,
   "id": "36d79923",
   "metadata": {},
   "outputs": [
    {
     "data": {
      "application/javascript": [
       "\n",
       "            setTimeout(function() {\n",
       "                var nbb_cell_id = 86;\n",
       "                var nbb_unformatted_code = \"# Creating a new columnn to derive year values from date field.\\n\\ndf[\\\"year\\\"] = df[\\\"date\\\"].dt.year\";\n",
       "                var nbb_formatted_code = \"# Creating a new columnn to derive year values from date field.\\n\\ndf[\\\"year\\\"] = df[\\\"date\\\"].dt.year\";\n",
       "                var nbb_cells = Jupyter.notebook.get_cells();\n",
       "                for (var i = 0; i < nbb_cells.length; ++i) {\n",
       "                    if (nbb_cells[i].input_prompt_number == nbb_cell_id) {\n",
       "                        if (nbb_cells[i].get_text() == nbb_unformatted_code) {\n",
       "                             nbb_cells[i].set_text(nbb_formatted_code);\n",
       "                        }\n",
       "                        break;\n",
       "                    }\n",
       "                }\n",
       "            }, 500);\n",
       "            "
      ],
      "text/plain": [
       "<IPython.core.display.Javascript object>"
      ]
     },
     "metadata": {},
     "output_type": "display_data"
    }
   ],
   "source": [
    "# Creating a new columnn to derive year values from date field.\n",
    "\n",
    "df[\"year\"] = df[\"date\"].dt.year"
   ]
  },
  {
   "cell_type": "code",
   "execution_count": 87,
   "id": "a6e0fa83",
   "metadata": {},
   "outputs": [
    {
     "data": {
      "text/plain": [
       "1    2022\n",
       "2    2022\n",
       "3    2022\n",
       "4    2022\n",
       "5    2022\n",
       "Name: year, dtype: int64"
      ]
     },
     "execution_count": 87,
     "metadata": {},
     "output_type": "execute_result"
    },
    {
     "data": {
      "application/javascript": [
       "\n",
       "            setTimeout(function() {\n",
       "                var nbb_cell_id = 87;\n",
       "                var nbb_unformatted_code = \"# Sanity check to confirm years are derived\\n\\ndf[\\\"year\\\"].head()\";\n",
       "                var nbb_formatted_code = \"# Sanity check to confirm years are derived\\n\\ndf[\\\"year\\\"].head()\";\n",
       "                var nbb_cells = Jupyter.notebook.get_cells();\n",
       "                for (var i = 0; i < nbb_cells.length; ++i) {\n",
       "                    if (nbb_cells[i].input_prompt_number == nbb_cell_id) {\n",
       "                        if (nbb_cells[i].get_text() == nbb_unformatted_code) {\n",
       "                             nbb_cells[i].set_text(nbb_formatted_code);\n",
       "                        }\n",
       "                        break;\n",
       "                    }\n",
       "                }\n",
       "            }, 500);\n",
       "            "
      ],
      "text/plain": [
       "<IPython.core.display.Javascript object>"
      ]
     },
     "metadata": {},
     "output_type": "display_data"
    }
   ],
   "source": [
    "# Sanity check to confirm years are derived\n",
    "\n",
    "df[\"year\"].head()"
   ]
  },
  {
   "cell_type": "code",
   "execution_count": 88,
   "id": "185d9e8c",
   "metadata": {},
   "outputs": [
    {
     "data": {
      "application/javascript": [
       "\n",
       "            setTimeout(function() {\n",
       "                var nbb_cell_id = 88;\n",
       "                var nbb_unformatted_code = \"# Grouping the data by year and adding the number of records in each year under 'count'\\n\\narticles_by_year = df.groupby(\\\"year\\\").size().reset_index(name=\\\"count\\\")\";\n",
       "                var nbb_formatted_code = \"# Grouping the data by year and adding the number of records in each year under 'count'\\n\\narticles_by_year = df.groupby(\\\"year\\\").size().reset_index(name=\\\"count\\\")\";\n",
       "                var nbb_cells = Jupyter.notebook.get_cells();\n",
       "                for (var i = 0; i < nbb_cells.length; ++i) {\n",
       "                    if (nbb_cells[i].input_prompt_number == nbb_cell_id) {\n",
       "                        if (nbb_cells[i].get_text() == nbb_unformatted_code) {\n",
       "                             nbb_cells[i].set_text(nbb_formatted_code);\n",
       "                        }\n",
       "                        break;\n",
       "                    }\n",
       "                }\n",
       "            }, 500);\n",
       "            "
      ],
      "text/plain": [
       "<IPython.core.display.Javascript object>"
      ]
     },
     "metadata": {},
     "output_type": "display_data"
    }
   ],
   "source": [
    "# Grouping the data by year and adding the number of records in each year under 'count'\n",
    "\n",
    "articles_by_year = df.groupby(\"year\").size().reset_index(name=\"count\")"
   ]
  },
  {
   "cell_type": "code",
   "execution_count": 89,
   "id": "d0f0033d",
   "metadata": {},
   "outputs": [
    {
     "data": {
      "application/vnd.plotly.v1+json": {
       "config": {
        "plotlyServerURL": "https://plot.ly"
       },
       "data": [
        {
         "hovertemplate": "year=%{x}<br>count=%{y}<extra></extra>",
         "legendgroup": "",
         "line": {
          "color": "#636efa",
          "dash": "solid"
         },
         "marker": {
          "symbol": "circle"
         },
         "mode": "markers+lines",
         "name": "",
         "orientation": "v",
         "showlegend": false,
         "type": "scatter",
         "x": [
          2012,
          2013,
          2014,
          2015,
          2016,
          2017,
          2018,
          2019,
          2020,
          2021,
          2022
         ],
         "xaxis": "x",
         "y": [
          31349,
          34580,
          32338,
          32006,
          32095,
          29889,
          9734,
          2005,
          2054,
          2066,
          1398
         ],
         "yaxis": "y"
        }
       ],
       "layout": {
        "legend": {
         "tracegroupgap": 0
        },
        "margin": {
         "t": 60
        },
        "showlegend": false,
        "template": {
         "data": {
          "bar": [
           {
            "error_x": {
             "color": "#2a3f5f"
            },
            "error_y": {
             "color": "#2a3f5f"
            },
            "marker": {
             "line": {
              "color": "#E5ECF6",
              "width": 0.5
             },
             "pattern": {
              "fillmode": "overlay",
              "size": 10,
              "solidity": 0.2
             }
            },
            "type": "bar"
           }
          ],
          "barpolar": [
           {
            "marker": {
             "line": {
              "color": "#E5ECF6",
              "width": 0.5
             },
             "pattern": {
              "fillmode": "overlay",
              "size": 10,
              "solidity": 0.2
             }
            },
            "type": "barpolar"
           }
          ],
          "carpet": [
           {
            "aaxis": {
             "endlinecolor": "#2a3f5f",
             "gridcolor": "white",
             "linecolor": "white",
             "minorgridcolor": "white",
             "startlinecolor": "#2a3f5f"
            },
            "baxis": {
             "endlinecolor": "#2a3f5f",
             "gridcolor": "white",
             "linecolor": "white",
             "minorgridcolor": "white",
             "startlinecolor": "#2a3f5f"
            },
            "type": "carpet"
           }
          ],
          "choropleth": [
           {
            "colorbar": {
             "outlinewidth": 0,
             "ticks": ""
            },
            "type": "choropleth"
           }
          ],
          "contour": [
           {
            "colorbar": {
             "outlinewidth": 0,
             "ticks": ""
            },
            "colorscale": [
             [
              0,
              "#0d0887"
             ],
             [
              0.1111111111111111,
              "#46039f"
             ],
             [
              0.2222222222222222,
              "#7201a8"
             ],
             [
              0.3333333333333333,
              "#9c179e"
             ],
             [
              0.4444444444444444,
              "#bd3786"
             ],
             [
              0.5555555555555556,
              "#d8576b"
             ],
             [
              0.6666666666666666,
              "#ed7953"
             ],
             [
              0.7777777777777778,
              "#fb9f3a"
             ],
             [
              0.8888888888888888,
              "#fdca26"
             ],
             [
              1,
              "#f0f921"
             ]
            ],
            "type": "contour"
           }
          ],
          "contourcarpet": [
           {
            "colorbar": {
             "outlinewidth": 0,
             "ticks": ""
            },
            "type": "contourcarpet"
           }
          ],
          "heatmap": [
           {
            "colorbar": {
             "outlinewidth": 0,
             "ticks": ""
            },
            "colorscale": [
             [
              0,
              "#0d0887"
             ],
             [
              0.1111111111111111,
              "#46039f"
             ],
             [
              0.2222222222222222,
              "#7201a8"
             ],
             [
              0.3333333333333333,
              "#9c179e"
             ],
             [
              0.4444444444444444,
              "#bd3786"
             ],
             [
              0.5555555555555556,
              "#d8576b"
             ],
             [
              0.6666666666666666,
              "#ed7953"
             ],
             [
              0.7777777777777778,
              "#fb9f3a"
             ],
             [
              0.8888888888888888,
              "#fdca26"
             ],
             [
              1,
              "#f0f921"
             ]
            ],
            "type": "heatmap"
           }
          ],
          "heatmapgl": [
           {
            "colorbar": {
             "outlinewidth": 0,
             "ticks": ""
            },
            "colorscale": [
             [
              0,
              "#0d0887"
             ],
             [
              0.1111111111111111,
              "#46039f"
             ],
             [
              0.2222222222222222,
              "#7201a8"
             ],
             [
              0.3333333333333333,
              "#9c179e"
             ],
             [
              0.4444444444444444,
              "#bd3786"
             ],
             [
              0.5555555555555556,
              "#d8576b"
             ],
             [
              0.6666666666666666,
              "#ed7953"
             ],
             [
              0.7777777777777778,
              "#fb9f3a"
             ],
             [
              0.8888888888888888,
              "#fdca26"
             ],
             [
              1,
              "#f0f921"
             ]
            ],
            "type": "heatmapgl"
           }
          ],
          "histogram": [
           {
            "marker": {
             "pattern": {
              "fillmode": "overlay",
              "size": 10,
              "solidity": 0.2
             }
            },
            "type": "histogram"
           }
          ],
          "histogram2d": [
           {
            "colorbar": {
             "outlinewidth": 0,
             "ticks": ""
            },
            "colorscale": [
             [
              0,
              "#0d0887"
             ],
             [
              0.1111111111111111,
              "#46039f"
             ],
             [
              0.2222222222222222,
              "#7201a8"
             ],
             [
              0.3333333333333333,
              "#9c179e"
             ],
             [
              0.4444444444444444,
              "#bd3786"
             ],
             [
              0.5555555555555556,
              "#d8576b"
             ],
             [
              0.6666666666666666,
              "#ed7953"
             ],
             [
              0.7777777777777778,
              "#fb9f3a"
             ],
             [
              0.8888888888888888,
              "#fdca26"
             ],
             [
              1,
              "#f0f921"
             ]
            ],
            "type": "histogram2d"
           }
          ],
          "histogram2dcontour": [
           {
            "colorbar": {
             "outlinewidth": 0,
             "ticks": ""
            },
            "colorscale": [
             [
              0,
              "#0d0887"
             ],
             [
              0.1111111111111111,
              "#46039f"
             ],
             [
              0.2222222222222222,
              "#7201a8"
             ],
             [
              0.3333333333333333,
              "#9c179e"
             ],
             [
              0.4444444444444444,
              "#bd3786"
             ],
             [
              0.5555555555555556,
              "#d8576b"
             ],
             [
              0.6666666666666666,
              "#ed7953"
             ],
             [
              0.7777777777777778,
              "#fb9f3a"
             ],
             [
              0.8888888888888888,
              "#fdca26"
             ],
             [
              1,
              "#f0f921"
             ]
            ],
            "type": "histogram2dcontour"
           }
          ],
          "mesh3d": [
           {
            "colorbar": {
             "outlinewidth": 0,
             "ticks": ""
            },
            "type": "mesh3d"
           }
          ],
          "parcoords": [
           {
            "line": {
             "colorbar": {
              "outlinewidth": 0,
              "ticks": ""
             }
            },
            "type": "parcoords"
           }
          ],
          "pie": [
           {
            "automargin": true,
            "type": "pie"
           }
          ],
          "scatter": [
           {
            "fillpattern": {
             "fillmode": "overlay",
             "size": 10,
             "solidity": 0.2
            },
            "type": "scatter"
           }
          ],
          "scatter3d": [
           {
            "line": {
             "colorbar": {
              "outlinewidth": 0,
              "ticks": ""
             }
            },
            "marker": {
             "colorbar": {
              "outlinewidth": 0,
              "ticks": ""
             }
            },
            "type": "scatter3d"
           }
          ],
          "scattercarpet": [
           {
            "marker": {
             "colorbar": {
              "outlinewidth": 0,
              "ticks": ""
             }
            },
            "type": "scattercarpet"
           }
          ],
          "scattergeo": [
           {
            "marker": {
             "colorbar": {
              "outlinewidth": 0,
              "ticks": ""
             }
            },
            "type": "scattergeo"
           }
          ],
          "scattergl": [
           {
            "marker": {
             "colorbar": {
              "outlinewidth": 0,
              "ticks": ""
             }
            },
            "type": "scattergl"
           }
          ],
          "scattermapbox": [
           {
            "marker": {
             "colorbar": {
              "outlinewidth": 0,
              "ticks": ""
             }
            },
            "type": "scattermapbox"
           }
          ],
          "scatterpolar": [
           {
            "marker": {
             "colorbar": {
              "outlinewidth": 0,
              "ticks": ""
             }
            },
            "type": "scatterpolar"
           }
          ],
          "scatterpolargl": [
           {
            "marker": {
             "colorbar": {
              "outlinewidth": 0,
              "ticks": ""
             }
            },
            "type": "scatterpolargl"
           }
          ],
          "scatterternary": [
           {
            "marker": {
             "colorbar": {
              "outlinewidth": 0,
              "ticks": ""
             }
            },
            "type": "scatterternary"
           }
          ],
          "surface": [
           {
            "colorbar": {
             "outlinewidth": 0,
             "ticks": ""
            },
            "colorscale": [
             [
              0,
              "#0d0887"
             ],
             [
              0.1111111111111111,
              "#46039f"
             ],
             [
              0.2222222222222222,
              "#7201a8"
             ],
             [
              0.3333333333333333,
              "#9c179e"
             ],
             [
              0.4444444444444444,
              "#bd3786"
             ],
             [
              0.5555555555555556,
              "#d8576b"
             ],
             [
              0.6666666666666666,
              "#ed7953"
             ],
             [
              0.7777777777777778,
              "#fb9f3a"
             ],
             [
              0.8888888888888888,
              "#fdca26"
             ],
             [
              1,
              "#f0f921"
             ]
            ],
            "type": "surface"
           }
          ],
          "table": [
           {
            "cells": {
             "fill": {
              "color": "#EBF0F8"
             },
             "line": {
              "color": "white"
             }
            },
            "header": {
             "fill": {
              "color": "#C8D4E3"
             },
             "line": {
              "color": "white"
             }
            },
            "type": "table"
           }
          ]
         },
         "layout": {
          "annotationdefaults": {
           "arrowcolor": "#2a3f5f",
           "arrowhead": 0,
           "arrowwidth": 1
          },
          "autotypenumbers": "strict",
          "coloraxis": {
           "colorbar": {
            "outlinewidth": 0,
            "ticks": ""
           }
          },
          "colorscale": {
           "diverging": [
            [
             0,
             "#8e0152"
            ],
            [
             0.1,
             "#c51b7d"
            ],
            [
             0.2,
             "#de77ae"
            ],
            [
             0.3,
             "#f1b6da"
            ],
            [
             0.4,
             "#fde0ef"
            ],
            [
             0.5,
             "#f7f7f7"
            ],
            [
             0.6,
             "#e6f5d0"
            ],
            [
             0.7,
             "#b8e186"
            ],
            [
             0.8,
             "#7fbc41"
            ],
            [
             0.9,
             "#4d9221"
            ],
            [
             1,
             "#276419"
            ]
           ],
           "sequential": [
            [
             0,
             "#0d0887"
            ],
            [
             0.1111111111111111,
             "#46039f"
            ],
            [
             0.2222222222222222,
             "#7201a8"
            ],
            [
             0.3333333333333333,
             "#9c179e"
            ],
            [
             0.4444444444444444,
             "#bd3786"
            ],
            [
             0.5555555555555556,
             "#d8576b"
            ],
            [
             0.6666666666666666,
             "#ed7953"
            ],
            [
             0.7777777777777778,
             "#fb9f3a"
            ],
            [
             0.8888888888888888,
             "#fdca26"
            ],
            [
             1,
             "#f0f921"
            ]
           ],
           "sequentialminus": [
            [
             0,
             "#0d0887"
            ],
            [
             0.1111111111111111,
             "#46039f"
            ],
            [
             0.2222222222222222,
             "#7201a8"
            ],
            [
             0.3333333333333333,
             "#9c179e"
            ],
            [
             0.4444444444444444,
             "#bd3786"
            ],
            [
             0.5555555555555556,
             "#d8576b"
            ],
            [
             0.6666666666666666,
             "#ed7953"
            ],
            [
             0.7777777777777778,
             "#fb9f3a"
            ],
            [
             0.8888888888888888,
             "#fdca26"
            ],
            [
             1,
             "#f0f921"
            ]
           ]
          },
          "colorway": [
           "#636efa",
           "#EF553B",
           "#00cc96",
           "#ab63fa",
           "#FFA15A",
           "#19d3f3",
           "#FF6692",
           "#B6E880",
           "#FF97FF",
           "#FECB52"
          ],
          "font": {
           "color": "#2a3f5f"
          },
          "geo": {
           "bgcolor": "white",
           "lakecolor": "white",
           "landcolor": "#E5ECF6",
           "showlakes": true,
           "showland": true,
           "subunitcolor": "white"
          },
          "hoverlabel": {
           "align": "left"
          },
          "hovermode": "closest",
          "mapbox": {
           "style": "light"
          },
          "paper_bgcolor": "white",
          "plot_bgcolor": "#E5ECF6",
          "polar": {
           "angularaxis": {
            "gridcolor": "white",
            "linecolor": "white",
            "ticks": ""
           },
           "bgcolor": "#E5ECF6",
           "radialaxis": {
            "gridcolor": "white",
            "linecolor": "white",
            "ticks": ""
           }
          },
          "scene": {
           "xaxis": {
            "backgroundcolor": "#E5ECF6",
            "gridcolor": "white",
            "gridwidth": 2,
            "linecolor": "white",
            "showbackground": true,
            "ticks": "",
            "zerolinecolor": "white"
           },
           "yaxis": {
            "backgroundcolor": "#E5ECF6",
            "gridcolor": "white",
            "gridwidth": 2,
            "linecolor": "white",
            "showbackground": true,
            "ticks": "",
            "zerolinecolor": "white"
           },
           "zaxis": {
            "backgroundcolor": "#E5ECF6",
            "gridcolor": "white",
            "gridwidth": 2,
            "linecolor": "white",
            "showbackground": true,
            "ticks": "",
            "zerolinecolor": "white"
           }
          },
          "shapedefaults": {
           "line": {
            "color": "#2a3f5f"
           }
          },
          "ternary": {
           "aaxis": {
            "gridcolor": "white",
            "linecolor": "white",
            "ticks": ""
           },
           "baxis": {
            "gridcolor": "white",
            "linecolor": "white",
            "ticks": ""
           },
           "bgcolor": "#E5ECF6",
           "caxis": {
            "gridcolor": "white",
            "linecolor": "white",
            "ticks": ""
           }
          },
          "title": {
           "x": 0.05
          },
          "xaxis": {
           "automargin": true,
           "gridcolor": "white",
           "linecolor": "white",
           "ticks": "",
           "title": {
            "standoff": 15
           },
           "zerolinecolor": "white",
           "zerolinewidth": 2
          },
          "yaxis": {
           "automargin": true,
           "gridcolor": "white",
           "linecolor": "white",
           "ticks": "",
           "title": {
            "standoff": 15
           },
           "zerolinecolor": "white",
           "zerolinewidth": 2
          }
         }
        },
        "title": {
         "text": "Number of Articles by Year"
        },
        "xaxis": {
         "anchor": "y",
         "domain": [
          0,
          1
         ],
         "title": {
          "text": "Year"
         }
        },
        "yaxis": {
         "anchor": "x",
         "domain": [
          0,
          1
         ],
         "title": {
          "text": "Number of Articles"
         }
        }
       }
      },
      "text/html": [
       "<div>                            <div id=\"bcb64ecb-4989-4be7-a230-a35000ca0b0c\" class=\"plotly-graph-div\" style=\"height:525px; width:100%;\"></div>            <script type=\"text/javascript\">                require([\"plotly\"], function(Plotly) {                    window.PLOTLYENV=window.PLOTLYENV || {};                                    if (document.getElementById(\"bcb64ecb-4989-4be7-a230-a35000ca0b0c\")) {                    Plotly.newPlot(                        \"bcb64ecb-4989-4be7-a230-a35000ca0b0c\",                        [{\"hovertemplate\":\"year=%{x}\\u003cbr\\u003ecount=%{y}\\u003cextra\\u003e\\u003c\\u002fextra\\u003e\",\"legendgroup\":\"\",\"line\":{\"color\":\"#636efa\",\"dash\":\"solid\"},\"marker\":{\"symbol\":\"circle\"},\"mode\":\"markers+lines\",\"name\":\"\",\"orientation\":\"v\",\"showlegend\":false,\"x\":[2012,2013,2014,2015,2016,2017,2018,2019,2020,2021,2022],\"xaxis\":\"x\",\"y\":[31349,34580,32338,32006,32095,29889,9734,2005,2054,2066,1398],\"yaxis\":\"y\",\"type\":\"scatter\"}],                        {\"template\":{\"data\":{\"histogram2dcontour\":[{\"type\":\"histogram2dcontour\",\"colorbar\":{\"outlinewidth\":0,\"ticks\":\"\"},\"colorscale\":[[0.0,\"#0d0887\"],[0.1111111111111111,\"#46039f\"],[0.2222222222222222,\"#7201a8\"],[0.3333333333333333,\"#9c179e\"],[0.4444444444444444,\"#bd3786\"],[0.5555555555555556,\"#d8576b\"],[0.6666666666666666,\"#ed7953\"],[0.7777777777777778,\"#fb9f3a\"],[0.8888888888888888,\"#fdca26\"],[1.0,\"#f0f921\"]]}],\"choropleth\":[{\"type\":\"choropleth\",\"colorbar\":{\"outlinewidth\":0,\"ticks\":\"\"}}],\"histogram2d\":[{\"type\":\"histogram2d\",\"colorbar\":{\"outlinewidth\":0,\"ticks\":\"\"},\"colorscale\":[[0.0,\"#0d0887\"],[0.1111111111111111,\"#46039f\"],[0.2222222222222222,\"#7201a8\"],[0.3333333333333333,\"#9c179e\"],[0.4444444444444444,\"#bd3786\"],[0.5555555555555556,\"#d8576b\"],[0.6666666666666666,\"#ed7953\"],[0.7777777777777778,\"#fb9f3a\"],[0.8888888888888888,\"#fdca26\"],[1.0,\"#f0f921\"]]}],\"heatmap\":[{\"type\":\"heatmap\",\"colorbar\":{\"outlinewidth\":0,\"ticks\":\"\"},\"colorscale\":[[0.0,\"#0d0887\"],[0.1111111111111111,\"#46039f\"],[0.2222222222222222,\"#7201a8\"],[0.3333333333333333,\"#9c179e\"],[0.4444444444444444,\"#bd3786\"],[0.5555555555555556,\"#d8576b\"],[0.6666666666666666,\"#ed7953\"],[0.7777777777777778,\"#fb9f3a\"],[0.8888888888888888,\"#fdca26\"],[1.0,\"#f0f921\"]]}],\"heatmapgl\":[{\"type\":\"heatmapgl\",\"colorbar\":{\"outlinewidth\":0,\"ticks\":\"\"},\"colorscale\":[[0.0,\"#0d0887\"],[0.1111111111111111,\"#46039f\"],[0.2222222222222222,\"#7201a8\"],[0.3333333333333333,\"#9c179e\"],[0.4444444444444444,\"#bd3786\"],[0.5555555555555556,\"#d8576b\"],[0.6666666666666666,\"#ed7953\"],[0.7777777777777778,\"#fb9f3a\"],[0.8888888888888888,\"#fdca26\"],[1.0,\"#f0f921\"]]}],\"contourcarpet\":[{\"type\":\"contourcarpet\",\"colorbar\":{\"outlinewidth\":0,\"ticks\":\"\"}}],\"contour\":[{\"type\":\"contour\",\"colorbar\":{\"outlinewidth\":0,\"ticks\":\"\"},\"colorscale\":[[0.0,\"#0d0887\"],[0.1111111111111111,\"#46039f\"],[0.2222222222222222,\"#7201a8\"],[0.3333333333333333,\"#9c179e\"],[0.4444444444444444,\"#bd3786\"],[0.5555555555555556,\"#d8576b\"],[0.6666666666666666,\"#ed7953\"],[0.7777777777777778,\"#fb9f3a\"],[0.8888888888888888,\"#fdca26\"],[1.0,\"#f0f921\"]]}],\"surface\":[{\"type\":\"surface\",\"colorbar\":{\"outlinewidth\":0,\"ticks\":\"\"},\"colorscale\":[[0.0,\"#0d0887\"],[0.1111111111111111,\"#46039f\"],[0.2222222222222222,\"#7201a8\"],[0.3333333333333333,\"#9c179e\"],[0.4444444444444444,\"#bd3786\"],[0.5555555555555556,\"#d8576b\"],[0.6666666666666666,\"#ed7953\"],[0.7777777777777778,\"#fb9f3a\"],[0.8888888888888888,\"#fdca26\"],[1.0,\"#f0f921\"]]}],\"mesh3d\":[{\"type\":\"mesh3d\",\"colorbar\":{\"outlinewidth\":0,\"ticks\":\"\"}}],\"scatter\":[{\"fillpattern\":{\"fillmode\":\"overlay\",\"size\":10,\"solidity\":0.2},\"type\":\"scatter\"}],\"parcoords\":[{\"type\":\"parcoords\",\"line\":{\"colorbar\":{\"outlinewidth\":0,\"ticks\":\"\"}}}],\"scatterpolargl\":[{\"type\":\"scatterpolargl\",\"marker\":{\"colorbar\":{\"outlinewidth\":0,\"ticks\":\"\"}}}],\"bar\":[{\"error_x\":{\"color\":\"#2a3f5f\"},\"error_y\":{\"color\":\"#2a3f5f\"},\"marker\":{\"line\":{\"color\":\"#E5ECF6\",\"width\":0.5},\"pattern\":{\"fillmode\":\"overlay\",\"size\":10,\"solidity\":0.2}},\"type\":\"bar\"}],\"scattergeo\":[{\"type\":\"scattergeo\",\"marker\":{\"colorbar\":{\"outlinewidth\":0,\"ticks\":\"\"}}}],\"scatterpolar\":[{\"type\":\"scatterpolar\",\"marker\":{\"colorbar\":{\"outlinewidth\":0,\"ticks\":\"\"}}}],\"histogram\":[{\"marker\":{\"pattern\":{\"fillmode\":\"overlay\",\"size\":10,\"solidity\":0.2}},\"type\":\"histogram\"}],\"scattergl\":[{\"type\":\"scattergl\",\"marker\":{\"colorbar\":{\"outlinewidth\":0,\"ticks\":\"\"}}}],\"scatter3d\":[{\"type\":\"scatter3d\",\"line\":{\"colorbar\":{\"outlinewidth\":0,\"ticks\":\"\"}},\"marker\":{\"colorbar\":{\"outlinewidth\":0,\"ticks\":\"\"}}}],\"scattermapbox\":[{\"type\":\"scattermapbox\",\"marker\":{\"colorbar\":{\"outlinewidth\":0,\"ticks\":\"\"}}}],\"scatterternary\":[{\"type\":\"scatterternary\",\"marker\":{\"colorbar\":{\"outlinewidth\":0,\"ticks\":\"\"}}}],\"scattercarpet\":[{\"type\":\"scattercarpet\",\"marker\":{\"colorbar\":{\"outlinewidth\":0,\"ticks\":\"\"}}}],\"carpet\":[{\"aaxis\":{\"endlinecolor\":\"#2a3f5f\",\"gridcolor\":\"white\",\"linecolor\":\"white\",\"minorgridcolor\":\"white\",\"startlinecolor\":\"#2a3f5f\"},\"baxis\":{\"endlinecolor\":\"#2a3f5f\",\"gridcolor\":\"white\",\"linecolor\":\"white\",\"minorgridcolor\":\"white\",\"startlinecolor\":\"#2a3f5f\"},\"type\":\"carpet\"}],\"table\":[{\"cells\":{\"fill\":{\"color\":\"#EBF0F8\"},\"line\":{\"color\":\"white\"}},\"header\":{\"fill\":{\"color\":\"#C8D4E3\"},\"line\":{\"color\":\"white\"}},\"type\":\"table\"}],\"barpolar\":[{\"marker\":{\"line\":{\"color\":\"#E5ECF6\",\"width\":0.5},\"pattern\":{\"fillmode\":\"overlay\",\"size\":10,\"solidity\":0.2}},\"type\":\"barpolar\"}],\"pie\":[{\"automargin\":true,\"type\":\"pie\"}]},\"layout\":{\"autotypenumbers\":\"strict\",\"colorway\":[\"#636efa\",\"#EF553B\",\"#00cc96\",\"#ab63fa\",\"#FFA15A\",\"#19d3f3\",\"#FF6692\",\"#B6E880\",\"#FF97FF\",\"#FECB52\"],\"font\":{\"color\":\"#2a3f5f\"},\"hovermode\":\"closest\",\"hoverlabel\":{\"align\":\"left\"},\"paper_bgcolor\":\"white\",\"plot_bgcolor\":\"#E5ECF6\",\"polar\":{\"bgcolor\":\"#E5ECF6\",\"angularaxis\":{\"gridcolor\":\"white\",\"linecolor\":\"white\",\"ticks\":\"\"},\"radialaxis\":{\"gridcolor\":\"white\",\"linecolor\":\"white\",\"ticks\":\"\"}},\"ternary\":{\"bgcolor\":\"#E5ECF6\",\"aaxis\":{\"gridcolor\":\"white\",\"linecolor\":\"white\",\"ticks\":\"\"},\"baxis\":{\"gridcolor\":\"white\",\"linecolor\":\"white\",\"ticks\":\"\"},\"caxis\":{\"gridcolor\":\"white\",\"linecolor\":\"white\",\"ticks\":\"\"}},\"coloraxis\":{\"colorbar\":{\"outlinewidth\":0,\"ticks\":\"\"}},\"colorscale\":{\"sequential\":[[0.0,\"#0d0887\"],[0.1111111111111111,\"#46039f\"],[0.2222222222222222,\"#7201a8\"],[0.3333333333333333,\"#9c179e\"],[0.4444444444444444,\"#bd3786\"],[0.5555555555555556,\"#d8576b\"],[0.6666666666666666,\"#ed7953\"],[0.7777777777777778,\"#fb9f3a\"],[0.8888888888888888,\"#fdca26\"],[1.0,\"#f0f921\"]],\"sequentialminus\":[[0.0,\"#0d0887\"],[0.1111111111111111,\"#46039f\"],[0.2222222222222222,\"#7201a8\"],[0.3333333333333333,\"#9c179e\"],[0.4444444444444444,\"#bd3786\"],[0.5555555555555556,\"#d8576b\"],[0.6666666666666666,\"#ed7953\"],[0.7777777777777778,\"#fb9f3a\"],[0.8888888888888888,\"#fdca26\"],[1.0,\"#f0f921\"]],\"diverging\":[[0,\"#8e0152\"],[0.1,\"#c51b7d\"],[0.2,\"#de77ae\"],[0.3,\"#f1b6da\"],[0.4,\"#fde0ef\"],[0.5,\"#f7f7f7\"],[0.6,\"#e6f5d0\"],[0.7,\"#b8e186\"],[0.8,\"#7fbc41\"],[0.9,\"#4d9221\"],[1,\"#276419\"]]},\"xaxis\":{\"gridcolor\":\"white\",\"linecolor\":\"white\",\"ticks\":\"\",\"title\":{\"standoff\":15},\"zerolinecolor\":\"white\",\"automargin\":true,\"zerolinewidth\":2},\"yaxis\":{\"gridcolor\":\"white\",\"linecolor\":\"white\",\"ticks\":\"\",\"title\":{\"standoff\":15},\"zerolinecolor\":\"white\",\"automargin\":true,\"zerolinewidth\":2},\"scene\":{\"xaxis\":{\"backgroundcolor\":\"#E5ECF6\",\"gridcolor\":\"white\",\"linecolor\":\"white\",\"showbackground\":true,\"ticks\":\"\",\"zerolinecolor\":\"white\",\"gridwidth\":2},\"yaxis\":{\"backgroundcolor\":\"#E5ECF6\",\"gridcolor\":\"white\",\"linecolor\":\"white\",\"showbackground\":true,\"ticks\":\"\",\"zerolinecolor\":\"white\",\"gridwidth\":2},\"zaxis\":{\"backgroundcolor\":\"#E5ECF6\",\"gridcolor\":\"white\",\"linecolor\":\"white\",\"showbackground\":true,\"ticks\":\"\",\"zerolinecolor\":\"white\",\"gridwidth\":2}},\"shapedefaults\":{\"line\":{\"color\":\"#2a3f5f\"}},\"annotationdefaults\":{\"arrowcolor\":\"#2a3f5f\",\"arrowhead\":0,\"arrowwidth\":1},\"geo\":{\"bgcolor\":\"white\",\"landcolor\":\"#E5ECF6\",\"subunitcolor\":\"white\",\"showland\":true,\"showlakes\":true,\"lakecolor\":\"white\"},\"title\":{\"x\":0.05},\"mapbox\":{\"style\":\"light\"}}},\"xaxis\":{\"anchor\":\"y\",\"domain\":[0.0,1.0],\"title\":{\"text\":\"Year\"}},\"yaxis\":{\"anchor\":\"x\",\"domain\":[0.0,1.0],\"title\":{\"text\":\"Number of Articles\"}},\"legend\":{\"tracegroupgap\":0},\"margin\":{\"t\":60},\"title\":{\"text\":\"Number of Articles by Year\"},\"showlegend\":false},                        {\"responsive\": true}                    ).then(function(){\n",
       "                            \n",
       "var gd = document.getElementById('bcb64ecb-4989-4be7-a230-a35000ca0b0c');\n",
       "var x = new MutationObserver(function (mutations, observer) {{\n",
       "        var display = window.getComputedStyle(gd).display;\n",
       "        if (!display || display === 'none') {{\n",
       "            console.log([gd, 'removed!']);\n",
       "            Plotly.purge(gd);\n",
       "            observer.disconnect();\n",
       "        }}\n",
       "}});\n",
       "\n",
       "// Listen for the removal of the full notebook cells\n",
       "var notebookContainer = gd.closest('#notebook-container');\n",
       "if (notebookContainer) {{\n",
       "    x.observe(notebookContainer, {childList: true});\n",
       "}}\n",
       "\n",
       "// Listen for the clearing of the current output cell\n",
       "var outputEl = gd.closest('.output');\n",
       "if (outputEl) {{\n",
       "    x.observe(outputEl, {childList: true});\n",
       "}}\n",
       "\n",
       "                        })                };                });            </script>        </div>"
      ]
     },
     "metadata": {},
     "output_type": "display_data"
    },
    {
     "data": {
      "application/javascript": [
       "\n",
       "            setTimeout(function() {\n",
       "                var nbb_cell_id = 89;\n",
       "                var nbb_unformatted_code = \"# Visualizing the trend in nmber of articles over the years\\n\\nfig = px.line(articles_by_year, x=\\\"year\\\", y=\\\"count\\\", markers=True)\\n\\n# Update the layout\\nfig.update_layout(\\n    xaxis_title=\\\"Year\\\",\\n    yaxis_title=\\\"Number of Articles\\\",\\n    title=\\\"Number of Articles by Year\\\",\\n    showlegend=False,\\n)\\n\\n# Show the plot\\nfig.show()\";\n",
       "                var nbb_formatted_code = \"# Visualizing the trend in nmber of articles over the years\\n\\nfig = px.line(articles_by_year, x=\\\"year\\\", y=\\\"count\\\", markers=True)\\n\\n# Update the layout\\nfig.update_layout(\\n    xaxis_title=\\\"Year\\\",\\n    yaxis_title=\\\"Number of Articles\\\",\\n    title=\\\"Number of Articles by Year\\\",\\n    showlegend=False,\\n)\\n\\n# Show the plot\\nfig.show()\";\n",
       "                var nbb_cells = Jupyter.notebook.get_cells();\n",
       "                for (var i = 0; i < nbb_cells.length; ++i) {\n",
       "                    if (nbb_cells[i].input_prompt_number == nbb_cell_id) {\n",
       "                        if (nbb_cells[i].get_text() == nbb_unformatted_code) {\n",
       "                             nbb_cells[i].set_text(nbb_formatted_code);\n",
       "                        }\n",
       "                        break;\n",
       "                    }\n",
       "                }\n",
       "            }, 500);\n",
       "            "
      ],
      "text/plain": [
       "<IPython.core.display.Javascript object>"
      ]
     },
     "metadata": {},
     "output_type": "display_data"
    }
   ],
   "source": [
    "# Visualizing the trend in nmber of articles over the years\n",
    "\n",
    "fig = px.line(articles_by_year, x=\"year\", y=\"count\", markers=True)\n",
    "\n",
    "# Update the layout\n",
    "fig.update_layout(\n",
    "    xaxis_title=\"Year\",\n",
    "    yaxis_title=\"Number of Articles\",\n",
    "    title=\"Number of Articles by Year\",\n",
    "    showlegend=False,\n",
    ")\n",
    "\n",
    "# Show the plot\n",
    "fig.show()"
   ]
  },
  {
   "cell_type": "markdown",
   "id": "e78b3530",
   "metadata": {},
   "source": [
    "#### According to the provided data, the data collection process was comprehensive from 2012 to 2017. However, after 2018, there was a change in how Huffingpost archived articles, resulting in a decline in the number of articles collected.\n",
    "\n",
    "The key focus of this graph is to analyze the trend between 2012 and 2017. During this period, the year 2013 witnessed the highest publication of articles, with approximately 34,500 articles. In contrast, 2017 had the lowest number of articles published among the six-year timeframe."
   ]
  },
  {
   "cell_type": "markdown",
   "id": "11e5ef24",
   "metadata": {},
   "source": [
    "### Articles distribution by category"
   ]
  },
  {
   "cell_type": "code",
   "execution_count": 90,
   "id": "83f03428",
   "metadata": {},
   "outputs": [
    {
     "data": {
      "image/png": "[encoded data removed]",
      "text/plain": [
       "<Figure size 1000x900 with 1 Axes>"
      ]
     },
     "metadata": {},
     "output_type": "display_data"
    },
    {
     "data": {
      "application/javascript": [
       "\n",
       "            setTimeout(function() {\n",
       "                var nbb_cell_id = 90;\n",
       "                var nbb_unformatted_code = \"# Plot horizontal bar charts to visualize the count of each category:\\n\\nplt.figure(figsize=(10, 9))\\ndf[\\\"category\\\"].value_counts().sort_values().plot(kind=\\\"barh\\\")\\nplt.tight_layout()\\nplt.title(\\\"Count of number of Articles by Categories\\\")\\nplt.show()\";\n",
       "                var nbb_formatted_code = \"# Plot horizontal bar charts to visualize the count of each category:\\n\\nplt.figure(figsize=(10, 9))\\ndf[\\\"category\\\"].value_counts().sort_values().plot(kind=\\\"barh\\\")\\nplt.tight_layout()\\nplt.title(\\\"Count of number of Articles by Categories\\\")\\nplt.show()\";\n",
       "                var nbb_cells = Jupyter.notebook.get_cells();\n",
       "                for (var i = 0; i < nbb_cells.length; ++i) {\n",
       "                    if (nbb_cells[i].input_prompt_number == nbb_cell_id) {\n",
       "                        if (nbb_cells[i].get_text() == nbb_unformatted_code) {\n",
       "                             nbb_cells[i].set_text(nbb_formatted_code);\n",
       "                        }\n",
       "                        break;\n",
       "                    }\n",
       "                }\n",
       "            }, 500);\n",
       "            "
      ],
      "text/plain": [
       "<IPython.core.display.Javascript object>"
      ]
     },
     "metadata": {},
     "output_type": "display_data"
    }
   ],
   "source": [
    "# Plot horizontal bar charts to visualize the count of each category:\n",
    "\n",
    "plt.figure(figsize=(10, 9))\n",
    "df[\"category\"].value_counts().sort_values().plot(kind=\"barh\")\n",
    "plt.tight_layout()\n",
    "plt.title(\"Count of number of Articles by Categories\")\n",
    "plt.show()"
   ]
  },
  {
   "cell_type": "code",
   "execution_count": 91,
   "id": "9bb2bf47",
   "metadata": {},
   "outputs": [
    {
     "data": {
      "text/plain": [
       "42"
      ]
     },
     "execution_count": 91,
     "metadata": {},
     "output_type": "execute_result"
    },
    {
     "data": {
      "application/javascript": [
       "\n",
       "            setTimeout(function() {\n",
       "                var nbb_cell_id = 91;\n",
       "                var nbb_unformatted_code = \"# How many unique categories are there?\\n\\ndf.groupby(\\\"category\\\").ngroups\";\n",
       "                var nbb_formatted_code = \"# How many unique categories are there?\\n\\ndf.groupby(\\\"category\\\").ngroups\";\n",
       "                var nbb_cells = Jupyter.notebook.get_cells();\n",
       "                for (var i = 0; i < nbb_cells.length; ++i) {\n",
       "                    if (nbb_cells[i].input_prompt_number == nbb_cell_id) {\n",
       "                        if (nbb_cells[i].get_text() == nbb_unformatted_code) {\n",
       "                             nbb_cells[i].set_text(nbb_formatted_code);\n",
       "                        }\n",
       "                        break;\n",
       "                    }\n",
       "                }\n",
       "            }, 500);\n",
       "            "
      ],
      "text/plain": [
       "<IPython.core.display.Javascript object>"
      ]
     },
     "metadata": {},
     "output_type": "display_data"
    }
   ],
   "source": [
    "# How many unique categories are there?\n",
    "\n",
    "df.groupby(\"category\").ngroups"
   ]
  },
  {
   "cell_type": "markdown",
   "id": "e6c4af8f",
   "metadata": {},
   "source": [
    "As we can see, there are categories that mean similar themes and can be grouped. Example: `SCIENCE` and `TECH` can be grouped to form `SCIENCE AND TECH`. Also, we can confirm that there are 42 groups in total in the current dataframe. Let's combine the groups that share similar themes in the following section: "
   ]
  },
  {
   "cell_type": "markdown",
   "id": "f2b1970f",
   "metadata": {},
   "source": [
    "## Preprocessing for modelling"
   ]
  },
  {
   "cell_type": "markdown",
   "id": "a876769b",
   "metadata": {},
   "source": [
    "### Grouping similar categories"
   ]
  },
  {
   "cell_type": "code",
   "execution_count": 92,
   "id": "14d90f96",
   "metadata": {},
   "outputs": [
    {
     "data": {
      "application/javascript": [
       "\n",
       "            setTimeout(function() {\n",
       "                var nbb_cell_id = 92;\n",
       "                var nbb_unformatted_code = \"# Creating a separate dataframe to analzye category column in detail:\\n\\ndf_categories = df.copy()\";\n",
       "                var nbb_formatted_code = \"# Creating a separate dataframe to analzye category column in detail:\\n\\ndf_categories = df.copy()\";\n",
       "                var nbb_cells = Jupyter.notebook.get_cells();\n",
       "                for (var i = 0; i < nbb_cells.length; ++i) {\n",
       "                    if (nbb_cells[i].input_prompt_number == nbb_cell_id) {\n",
       "                        if (nbb_cells[i].get_text() == nbb_unformatted_code) {\n",
       "                             nbb_cells[i].set_text(nbb_formatted_code);\n",
       "                        }\n",
       "                        break;\n",
       "                    }\n",
       "                }\n",
       "            }, 500);\n",
       "            "
      ],
      "text/plain": [
       "<IPython.core.display.Javascript object>"
      ]
     },
     "metadata": {},
     "output_type": "display_data"
    }
   ],
   "source": [
    "# Creating a separate dataframe to analzye category column in detail:\n",
    "\n",
    "df_categories = df.copy()"
   ]
  },
  {
   "cell_type": "code",
   "execution_count": 93,
   "id": "4d9fcc37",
   "metadata": {},
   "outputs": [
    {
     "data": {
      "application/javascript": [
       "\n",
       "            setTimeout(function() {\n",
       "                var nbb_cell_id = 93;\n",
       "                var nbb_unformatted_code = \"# Comibining categories that share similar themes\\n\\ndf_categories[\\\"category\\\"] = df_categories[\\\"category\\\"].replace(\\n    {\\n        \\\"HEALTHY LIVING\\\": \\\"WELLNESS\\\",\\n        \\\"QUEER VOICES\\\": \\\"GROUPS VOICES\\\",\\n        \\\"BLACK VOICES\\\": \\\"GROUPS VOICES\\\",\\n        \\\"LATINO VOICES\\\": \\\"GROUPS VOICES\\\",\\n        \\\"BUSINESS\\\": \\\"BUSINESS & FINANCES\\\",\\n        \\\"MONEY\\\": \\\"BUSINESS & FINANCES\\\",\\n        \\\"PARENTS\\\": \\\"PARENTING\\\",\\n        \\\"THE WORLDPOST\\\": \\\"WORLD NEWS\\\",\\n        \\\"WORLDPOST\\\": \\\"WORLD NEWS\\\",\\n        \\\"STYLE\\\": \\\"STYLE & BEAUTY\\\",\\n        \\\"GREEN\\\": \\\"ENVIRONMENT\\\",\\n        \\\"TASTE\\\": \\\"FOOD & DRINK\\\",\\n        \\\"SCIENCE\\\": \\\"SCIENCE & TECH\\\",\\n        \\\"TECH\\\": \\\"SCIENCE & TECH\\\",\\n        \\\"CULTURE & ARTS\\\": \\\"ARTS & CULTURE\\\",\\n        \\\"ARTS\\\": \\\"ARTS & CULTURE\\\",\\n        \\\"COLLEGE\\\": \\\"EDUCATION\\\",\\n        \\\"FIFTY\\\": \\\"MISCELLANEOUS\\\",\\n        \\\"GOOD NEWS\\\": \\\"MISCELLANEOUS\\\",\\n    }\\n)\";\n",
       "                var nbb_formatted_code = \"# Comibining categories that share similar themes\\n\\ndf_categories[\\\"category\\\"] = df_categories[\\\"category\\\"].replace(\\n    {\\n        \\\"HEALTHY LIVING\\\": \\\"WELLNESS\\\",\\n        \\\"QUEER VOICES\\\": \\\"GROUPS VOICES\\\",\\n        \\\"BLACK VOICES\\\": \\\"GROUPS VOICES\\\",\\n        \\\"LATINO VOICES\\\": \\\"GROUPS VOICES\\\",\\n        \\\"BUSINESS\\\": \\\"BUSINESS & FINANCES\\\",\\n        \\\"MONEY\\\": \\\"BUSINESS & FINANCES\\\",\\n        \\\"PARENTS\\\": \\\"PARENTING\\\",\\n        \\\"THE WORLDPOST\\\": \\\"WORLD NEWS\\\",\\n        \\\"WORLDPOST\\\": \\\"WORLD NEWS\\\",\\n        \\\"STYLE\\\": \\\"STYLE & BEAUTY\\\",\\n        \\\"GREEN\\\": \\\"ENVIRONMENT\\\",\\n        \\\"TASTE\\\": \\\"FOOD & DRINK\\\",\\n        \\\"SCIENCE\\\": \\\"SCIENCE & TECH\\\",\\n        \\\"TECH\\\": \\\"SCIENCE & TECH\\\",\\n        \\\"CULTURE & ARTS\\\": \\\"ARTS & CULTURE\\\",\\n        \\\"ARTS\\\": \\\"ARTS & CULTURE\\\",\\n        \\\"COLLEGE\\\": \\\"EDUCATION\\\",\\n        \\\"FIFTY\\\": \\\"MISCELLANEOUS\\\",\\n        \\\"GOOD NEWS\\\": \\\"MISCELLANEOUS\\\",\\n    }\\n)\";\n",
       "                var nbb_cells = Jupyter.notebook.get_cells();\n",
       "                for (var i = 0; i < nbb_cells.length; ++i) {\n",
       "                    if (nbb_cells[i].input_prompt_number == nbb_cell_id) {\n",
       "                        if (nbb_cells[i].get_text() == nbb_unformatted_code) {\n",
       "                             nbb_cells[i].set_text(nbb_formatted_code);\n",
       "                        }\n",
       "                        break;\n",
       "                    }\n",
       "                }\n",
       "            }, 500);\n",
       "            "
      ],
      "text/plain": [
       "<IPython.core.display.Javascript object>"
      ]
     },
     "metadata": {},
     "output_type": "display_data"
    }
   ],
   "source": [
    "# Comibining categories that share similar themes\n",
    "\n",
    "df_categories[\"category\"] = df_categories[\"category\"].replace(\n",
    "    {\n",
    "        \"HEALTHY LIVING\": \"WELLNESS\",\n",
    "        \"QUEER VOICES\": \"GROUPS VOICES\",\n",
    "        \"BLACK VOICES\": \"GROUPS VOICES\",\n",
    "        \"LATINO VOICES\": \"GROUPS VOICES\",\n",
    "        \"BUSINESS\": \"BUSINESS & FINANCES\",\n",
    "        \"MONEY\": \"BUSINESS & FINANCES\",\n",
    "        \"PARENTS\": \"PARENTING\",\n",
    "        \"THE WORLDPOST\": \"WORLD NEWS\",\n",
    "        \"WORLDPOST\": \"WORLD NEWS\",\n",
    "        \"STYLE\": \"STYLE & BEAUTY\",\n",
    "        \"GREEN\": \"ENVIRONMENT\",\n",
    "        \"TASTE\": \"FOOD & DRINK\",\n",
    "        \"SCIENCE\": \"SCIENCE & TECH\",\n",
    "        \"TECH\": \"SCIENCE & TECH\",\n",
    "        \"CULTURE & ARTS\": \"ARTS & CULTURE\",\n",
    "        \"ARTS\": \"ARTS & CULTURE\",\n",
    "        \"COLLEGE\": \"EDUCATION\",\n",
    "        \"FIFTY\": \"MISCELLANEOUS\",\n",
    "        \"GOOD NEWS\": \"MISCELLANEOUS\",\n",
    "    }\n",
    ")"
   ]
  },
  {
   "cell_type": "code",
   "execution_count": 94,
   "id": "a46b23c3",
   "metadata": {},
   "outputs": [
    {
     "data": {
      "text/plain": [
       "27"
      ]
     },
     "execution_count": 94,
     "metadata": {},
     "output_type": "execute_result"
    },
    {
     "data": {
      "application/javascript": [
       "\n",
       "            setTimeout(function() {\n",
       "                var nbb_cell_id = 94;\n",
       "                var nbb_unformatted_code = \"df_categories.groupby(\\\"category\\\").ngroups\";\n",
       "                var nbb_formatted_code = \"df_categories.groupby(\\\"category\\\").ngroups\";\n",
       "                var nbb_cells = Jupyter.notebook.get_cells();\n",
       "                for (var i = 0; i < nbb_cells.length; ++i) {\n",
       "                    if (nbb_cells[i].input_prompt_number == nbb_cell_id) {\n",
       "                        if (nbb_cells[i].get_text() == nbb_unformatted_code) {\n",
       "                             nbb_cells[i].set_text(nbb_formatted_code);\n",
       "                        }\n",
       "                        break;\n",
       "                    }\n",
       "                }\n",
       "            }, 500);\n",
       "            "
      ],
      "text/plain": [
       "<IPython.core.display.Javascript object>"
      ]
     },
     "metadata": {},
     "output_type": "display_data"
    }
   ],
   "source": [
    "df_categories.groupby(\"category\").ngroups"
   ]
  },
  {
   "cell_type": "markdown",
   "id": "757d3968",
   "metadata": {},
   "source": [
    "We just arrived at 27 unique categories by combining categories with similar themes"
   ]
  },
  {
   "cell_type": "code",
   "execution_count": 95,
   "id": "90d5085f",
   "metadata": {},
   "outputs": [
    {
     "data": {
      "image/png": "[encoded data removed]",
      "text/plain": [
       "<Figure size 1000x1000 with 1 Axes>"
      ]
     },
     "metadata": {},
     "output_type": "display_data"
    },
    {
     "data": {
      "application/javascript": [
       "\n",
       "            setTimeout(function() {\n",
       "                var nbb_cell_id = 95;\n",
       "                var nbb_unformatted_code = \"# Plot horizontal bar charts to visualize the count of each category:\\n\\nplt.figure(figsize=(10, 10))\\ndf_categories[\\\"category\\\"].value_counts().sort_values().plot(\\n    kind=\\\"barh\\\",\\n)\\nplt.xlabel(\\\"Number of Articles\\\")\\nplt.ylabel(\\\"Categories\\\")\\nplt.title(\\\"Count of number of Articles by Categories after re-grouping\\\")\\nplt.tight_layout()\\nplt.show()\";\n",
       "                var nbb_formatted_code = \"# Plot horizontal bar charts to visualize the count of each category:\\n\\nplt.figure(figsize=(10, 10))\\ndf_categories[\\\"category\\\"].value_counts().sort_values().plot(\\n    kind=\\\"barh\\\",\\n)\\nplt.xlabel(\\\"Number of Articles\\\")\\nplt.ylabel(\\\"Categories\\\")\\nplt.title(\\\"Count of number of Articles by Categories after re-grouping\\\")\\nplt.tight_layout()\\nplt.show()\";\n",
       "                var nbb_cells = Jupyter.notebook.get_cells();\n",
       "                for (var i = 0; i < nbb_cells.length; ++i) {\n",
       "                    if (nbb_cells[i].input_prompt_number == nbb_cell_id) {\n",
       "                        if (nbb_cells[i].get_text() == nbb_unformatted_code) {\n",
       "                             nbb_cells[i].set_text(nbb_formatted_code);\n",
       "                        }\n",
       "                        break;\n",
       "                    }\n",
       "                }\n",
       "            }, 500);\n",
       "            "
      ],
      "text/plain": [
       "<IPython.core.display.Javascript object>"
      ]
     },
     "metadata": {},
     "output_type": "display_data"
    }
   ],
   "source": [
    "# Plot horizontal bar charts to visualize the count of each category:\n",
    "\n",
    "plt.figure(figsize=(10, 10))\n",
    "df_categories[\"category\"].value_counts().sort_values().plot(\n",
    "    kind=\"barh\",\n",
    ")\n",
    "plt.xlabel(\"Number of Articles\")\n",
    "plt.ylabel(\"Categories\")\n",
    "plt.title(\"Count of number of Articles by Categories after re-grouping\")\n",
    "plt.tight_layout()\n",
    "plt.show()"
   ]
  },
  {
   "cell_type": "code",
   "execution_count": 96,
   "id": "2635c0b7",
   "metadata": {
    "scrolled": false
   },
   "outputs": [
    {
     "data": {
      "text/plain": [
       "POLITICS          35601\n",
       "WELLNESS          24636\n",
       "ENTERTAINMENT     17362\n",
       "PARENTING         12746\n",
       "STYLE & BEAUTY    12065\n",
       "Name: category, dtype: int64"
      ]
     },
     "execution_count": 96,
     "metadata": {},
     "output_type": "execute_result"
    },
    {
     "data": {
      "application/javascript": [
       "\n",
       "            setTimeout(function() {\n",
       "                var nbb_cell_id = 96;\n",
       "                var nbb_unformatted_code = \"df_categories[\\\"category\\\"].value_counts().sort_values(ascending=False).head(5)\";\n",
       "                var nbb_formatted_code = \"df_categories[\\\"category\\\"].value_counts().sort_values(ascending=False).head(5)\";\n",
       "                var nbb_cells = Jupyter.notebook.get_cells();\n",
       "                for (var i = 0; i < nbb_cells.length; ++i) {\n",
       "                    if (nbb_cells[i].input_prompt_number == nbb_cell_id) {\n",
       "                        if (nbb_cells[i].get_text() == nbb_unformatted_code) {\n",
       "                             nbb_cells[i].set_text(nbb_formatted_code);\n",
       "                        }\n",
       "                        break;\n",
       "                    }\n",
       "                }\n",
       "            }, 500);\n",
       "            "
      ],
      "text/plain": [
       "<IPython.core.display.Javascript object>"
      ]
     },
     "metadata": {},
     "output_type": "display_data"
    }
   ],
   "source": [
    "df_categories[\"category\"].value_counts().sort_values(ascending=False).head(5)"
   ]
  },
  {
   "cell_type": "markdown",
   "id": "fd6738ff",
   "metadata": {},
   "source": [
    "Politics has the highest number of articles followed by Wellness and Entertainment. On the contrary, Religion, Education, and U.S. news have the least number of articles among all the categories."
   ]
  },
  {
   "cell_type": "code",
   "execution_count": 97,
   "id": "5b138d17",
   "metadata": {},
   "outputs": [
    {
     "data": {
      "text/plain": [
       "(209514, 8)"
      ]
     },
     "execution_count": 97,
     "metadata": {},
     "output_type": "execute_result"
    },
    {
     "data": {
      "application/javascript": [
       "\n",
       "            setTimeout(function() {\n",
       "                var nbb_cell_id = 97;\n",
       "                var nbb_unformatted_code = \"# Current shape of our dataframe\\ndf_categories.shape\";\n",
       "                var nbb_formatted_code = \"# Current shape of our dataframe\\ndf_categories.shape\";\n",
       "                var nbb_cells = Jupyter.notebook.get_cells();\n",
       "                for (var i = 0; i < nbb_cells.length; ++i) {\n",
       "                    if (nbb_cells[i].input_prompt_number == nbb_cell_id) {\n",
       "                        if (nbb_cells[i].get_text() == nbb_unformatted_code) {\n",
       "                             nbb_cells[i].set_text(nbb_formatted_code);\n",
       "                        }\n",
       "                        break;\n",
       "                    }\n",
       "                }\n",
       "            }, 500);\n",
       "            "
      ],
      "text/plain": [
       "<IPython.core.display.Javascript object>"
      ]
     },
     "metadata": {},
     "output_type": "display_data"
    }
   ],
   "source": [
    "# Current shape of our dataframe\n",
    "df_categories.shape"
   ]
  },
  {
   "cell_type": "code",
   "execution_count": 100,
   "id": "eb6682c5",
   "metadata": {},
   "outputs": [
    {
     "data": {
      "application/javascript": [
       "\n",
       "            setTimeout(function() {\n",
       "                var nbb_cell_id = 100;\n",
       "                var nbb_unformatted_code = \"# Drop rows with null values in the 'short_description' column\\ndf_categories.dropna(subset=[\\\"short_description\\\"], inplace=True)\";\n",
       "                var nbb_formatted_code = \"# Drop rows with null values in the 'short_description' column\\ndf_categories.dropna(subset=[\\\"short_description\\\"], inplace=True)\";\n",
       "                var nbb_cells = Jupyter.notebook.get_cells();\n",
       "                for (var i = 0; i < nbb_cells.length; ++i) {\n",
       "                    if (nbb_cells[i].input_prompt_number == nbb_cell_id) {\n",
       "                        if (nbb_cells[i].get_text() == nbb_unformatted_code) {\n",
       "                             nbb_cells[i].set_text(nbb_formatted_code);\n",
       "                        }\n",
       "                        break;\n",
       "                    }\n",
       "                }\n",
       "            }, 500);\n",
       "            "
      ],
      "text/plain": [
       "<IPython.core.display.Javascript object>"
      ]
     },
     "metadata": {},
     "output_type": "display_data"
    }
   ],
   "source": [
    "# Drop rows with null values in the 'short_description' column\n",
    "df_categories.dropna(subset=[\"short_description\"], inplace=True)"
   ]
  },
  {
   "cell_type": "code",
   "execution_count": 101,
   "id": "f1d31823",
   "metadata": {},
   "outputs": [
    {
     "data": {
      "text/plain": [
       "(189802, 8)"
      ]
     },
     "execution_count": 101,
     "metadata": {},
     "output_type": "execute_result"
    },
    {
     "data": {
      "application/javascript": [
       "\n",
       "            setTimeout(function() {\n",
       "                var nbb_cell_id = 101;\n",
       "                var nbb_unformatted_code = \"# Shape after dropping rows with null values in short description\\ndf_categories.shape\";\n",
       "                var nbb_formatted_code = \"# Shape after dropping rows with null values in short description\\ndf_categories.shape\";\n",
       "                var nbb_cells = Jupyter.notebook.get_cells();\n",
       "                for (var i = 0; i < nbb_cells.length; ++i) {\n",
       "                    if (nbb_cells[i].input_prompt_number == nbb_cell_id) {\n",
       "                        if (nbb_cells[i].get_text() == nbb_unformatted_code) {\n",
       "                             nbb_cells[i].set_text(nbb_formatted_code);\n",
       "                        }\n",
       "                        break;\n",
       "                    }\n",
       "                }\n",
       "            }, 500);\n",
       "            "
      ],
      "text/plain": [
       "<IPython.core.display.Javascript object>"
      ]
     },
     "metadata": {},
     "output_type": "display_data"
    }
   ],
   "source": [
    "# Shape after dropping rows with null values in short description\n",
    "df_categories.shape"
   ]
  },
  {
   "cell_type": "code",
   "execution_count": 104,
   "id": "93b84088",
   "metadata": {},
   "outputs": [
    {
     "data": {
      "text/plain": [
       "27"
      ]
     },
     "execution_count": 104,
     "metadata": {},
     "output_type": "execute_result"
    },
    {
     "data": {
      "application/javascript": [
       "\n",
       "            setTimeout(function() {\n",
       "                var nbb_cell_id = 104;\n",
       "                var nbb_unformatted_code = \"df_categories[\\\"category\\\"].nunique()\";\n",
       "                var nbb_formatted_code = \"df_categories[\\\"category\\\"].nunique()\";\n",
       "                var nbb_cells = Jupyter.notebook.get_cells();\n",
       "                for (var i = 0; i < nbb_cells.length; ++i) {\n",
       "                    if (nbb_cells[i].input_prompt_number == nbb_cell_id) {\n",
       "                        if (nbb_cells[i].get_text() == nbb_unformatted_code) {\n",
       "                             nbb_cells[i].set_text(nbb_formatted_code);\n",
       "                        }\n",
       "                        break;\n",
       "                    }\n",
       "                }\n",
       "            }, 500);\n",
       "            "
      ],
      "text/plain": [
       "<IPython.core.display.Javascript object>"
      ]
     },
     "metadata": {},
     "output_type": "display_data"
    }
   ],
   "source": [
    "df_categories[\"category\"].nunique()"
   ]
  },
  {
   "cell_type": "markdown",
   "id": "af0550b4",
   "metadata": {},
   "source": [
    "### Custom Tokenizer"
   ]
  },
  {
   "cell_type": "markdown",
   "id": "e0d84f9a",
   "metadata": {},
   "source": [
    "Let's create a custom tokenizer that performs the following: <br>\n",
    "\n",
    "i. remove punctuation and set to lower case <br>\n",
    "ii. remove digits using list comprehension <br>\n",
    "iii. remove html tags <br>\n",
    "iv. remove stopwords and any tokens that are just empty strings <br>"
   ]
  },
  {
   "cell_type": "code",
   "execution_count": 100,
   "id": "1157ca31",
   "metadata": {},
   "outputs": [
    {
     "name": "stderr",
     "output_type": "stream",
     "text": [
      "[nltk_data] Downloading package stopwords to\n",
      "[nltk_data]     C:\\Users\\asha8\\AppData\\Roaming\\nltk_data...\n",
      "[nltk_data]   Package stopwords is already up-to-date!\n"
     ]
    }
   ],
   "source": [
    "# Importing Stemmer package from nltk\n",
    "import nltk\n",
    "\n",
    "stemmer = nltk.stem.PorterStemmer()\n",
    "\n",
    "# import the nltk stopwords\n",
    "nltk.download('stopwords')\n",
    "from nltk.corpus import stopwords \n",
    "\n",
    "ENGLISH_STOP_WORDS = stopwords.words('english')\n",
    "\n",
    "def remove_html_tags(text):\n",
    "    pattern = re.compile(r'<.*?>')  \n",
    "    return pattern.sub('', text)\n",
    "\n",
    "\n",
    "def my_tokenizer(sentence):\n",
    "    # remove punctuation and set to lower case\n",
    "    for punctuation_mark in string.punctuation:\n",
    "        sentence = sentence.replace(punctuation_mark,'').lower()\n",
    "        \n",
    "    # remove digits using list comprehension\n",
    "    sentence = ''.join([char for char in sentence if not char.isdigit()])\n",
    "    \n",
    "    # remove html tags\n",
    "    sentence = remove_html_tags(sentence)\n",
    "\n",
    "    # split sentence into words\n",
    "    listofwords = sentence.split(' ')\n",
    "    listofstemmed_words = []\n",
    "    \n",
    "    # remove stopwords and any tokens that are just empty strings\n",
    "    for word in listofwords:\n",
    "        if (not word in ENGLISH_STOP_WORDS) and (word!=''):\n",
    "            # Stem words\n",
    "            stemmed_word = stemmer.stem(word)\n",
    "            listofstemmed_words.append(stemmed_word)\n",
    "\n",
    "    return listofstemmed_words"
   ]
  },
  {
   "cell_type": "markdown",
   "id": "a6afe00e",
   "metadata": {},
   "source": [
    "Now that we have a custom tokenizer, let's begin our modelling to have an idea on how our model performs."
   ]
  },
  {
   "cell_type": "markdown",
   "id": "a444cdb7",
   "metadata": {},
   "source": [
    "## Logistic Regression - baseline model"
   ]
  },
  {
   "cell_type": "markdown",
   "id": "f4031069",
   "metadata": {},
   "source": [
    "Intially, we will go ahead with the logistic regression as we can better interpret the results compared to other models."
   ]
  },
  {
   "cell_type": "markdown",
   "id": "95047452",
   "metadata": {},
   "source": [
    "### CountVectorizer using custom tokenizer"
   ]
  },
  {
   "cell_type": "code",
   "execution_count": 113,
   "id": "4b81bd0a",
   "metadata": {
    "scrolled": false
   },
   "outputs": [
    {
     "name": "stderr",
     "output_type": "stream",
     "text": [
      "C:\\Users\\asha8\\anaconda3\\Lib\\site-packages\\sklearn\\feature_extraction\\text.py:528: UserWarning:\n",
      "\n",
      "The parameter 'token_pattern' will not be used since 'tokenizer' is not None'\n",
      "\n",
      "C:\\Users\\asha8\\anaconda3\\Lib\\site-packages\\sklearn\\linear_model\\_logistic.py:458: ConvergenceWarning:\n",
      "\n",
      "lbfgs failed to converge (status=1):\n",
      "STOP: TOTAL NO. of ITERATIONS REACHED LIMIT.\n",
      "\n",
      "Increase the number of iterations (max_iter) or scale the data as shown in:\n",
      "    https://scikit-learn.org/stable/modules/preprocessing.html\n",
      "Please also refer to the documentation for alternative solver options:\n",
      "    https://scikit-learn.org/stable/modules/linear_model.html#logistic-regression\n",
      "\n"
     ]
    },
    {
     "name": "stdout",
     "output_type": "stream",
     "text": [
      "Train score: 0.6126737837606444\n",
      "Test score: 0.45612602407734254\n",
      "Accuracy: 0.45612602407734254\n",
      "\n",
      "Classification Report:\n",
      "                 precision    recall  f1-score   support\n",
      "\n",
      "          ARTS       0.34      0.20      0.25       173\n",
      "ARTS & CULTURE       0.30      0.10      0.15       268\n",
      "  BLACK VOICES       0.30      0.19      0.23       835\n",
      "      BUSINESS       0.37      0.31      0.33      1027\n",
      "       COLLEGE       0.34      0.17      0.23       184\n",
      "        COMEDY       0.26      0.16      0.19       929\n",
      "         CRIME       0.37      0.28      0.32       566\n",
      "CULTURE & ARTS       0.34      0.19      0.24       213\n",
      "       DIVORCE       0.66      0.52      0.58       685\n",
      "     EDUCATION       0.35      0.23      0.28       180\n",
      " ENTERTAINMENT       0.35      0.57      0.44      2955\n",
      "   ENVIRONMENT       0.27      0.15      0.19       288\n",
      "         FIFTY       0.27      0.14      0.19       208\n",
      "  FOOD & DRINK       0.52      0.57      0.54      1266\n",
      "     GOOD NEWS       0.13      0.02      0.04       208\n",
      "         GREEN       0.31      0.22      0.26       409\n",
      "HEALTHY LIVING       0.20      0.11      0.14      1053\n",
      " HOME & LIVING       0.49      0.44      0.46       864\n",
      "        IMPACT       0.30      0.21      0.25       617\n",
      " LATINO VOICES       0.54      0.12      0.20       204\n",
      "         MEDIA       0.34      0.17      0.22       481\n",
      "         MONEY       0.42      0.29      0.34       351\n",
      "     PARENTING       0.44      0.48      0.46      1758\n",
      "       PARENTS       0.20      0.11      0.14       711\n",
      "      POLITICS       0.50      0.77      0.61      6488\n",
      "  QUEER VOICES       0.50      0.35      0.41      1121\n",
      "      RELIGION       0.44      0.23      0.31       376\n",
      "       SCIENCE       0.37      0.23      0.29       361\n",
      "        SPORTS       0.48      0.37      0.42       883\n",
      "         STYLE       0.16      0.04      0.07       313\n",
      "STYLE & BEAUTY       0.62      0.65      0.63      1960\n",
      "         TASTE       0.18      0.05      0.08       388\n",
      "          TECH       0.43      0.24      0.31       420\n",
      " THE WORLDPOST       0.36      0.26      0.30       733\n",
      "        TRAVEL       0.57      0.60      0.58      1884\n",
      "     U.S. NEWS       0.19      0.07      0.10       275\n",
      "      WEDDINGS       0.65      0.56      0.60       731\n",
      "    WEIRD NEWS       0.19      0.07      0.10       463\n",
      "      WELLNESS       0.54      0.65      0.59      3588\n",
      "         WOMEN       0.21      0.12      0.15       637\n",
      "    WORLD NEWS       0.30      0.20      0.24       659\n",
      "     WORLDPOST       0.36      0.23      0.28       248\n",
      "\n",
      "      accuracy                           0.46     37961\n",
      "     macro avg       0.37      0.28      0.30     37961\n",
      "  weighted avg       0.43      0.46      0.43     37961\n",
      "\n",
      "\n",
      "Confusion Matrix:\n",
      " [[ 34   3   3 ...   5   0   2]\n",
      " [  1  27   7 ...   2   2   0]\n",
      " [  1   4 159 ...  10   7   1]\n",
      " ...\n",
      " [  1   4  10 ...  75   2   1]\n",
      " [  0   1   7 ...   2 130   6]\n",
      " [  1   0   1 ...   1  18  58]]\n"
     ]
    }
   ],
   "source": [
    "\n",
    "# Drop rows with missing values in the 'short_description' and 'category' columns\n",
    "df.dropna(subset=[\"short_description\", \"category\"], inplace=True)\n",
    "\n",
    "# Split the data into training and testing sets\n",
    "X = df[\"short_description\"]  # Input feature (short descriptions)\n",
    "y = df[\"category\"]  # Target variable (categories)\n",
    "X_train, X_test, y_train, y_test = train_test_split(\n",
    "    X, y, test_size=0.2, random_state=42, stratify=y\n",
    ")\n",
    "\n",
    "#Count Vectorizer\n",
    "\n",
    "from sklearn.feature_extraction.text import CountVectorizer\n",
    "\n",
    "bagofwords = CountVectorizer(min_df=20, \n",
    "                             tokenizer=my_tokenizer)\n",
    "bagofwords.fit(X_train)\n",
    "\n",
    "X_train_transformed = bagofwords.transform(X_train)\n",
    "X_test_transformed = bagofwords.transform(X_test)\n",
    "\n",
    "# Fitting a model\n",
    "logreg = LogisticRegression()\n",
    "logreg.fit(X_train_transformed, y_train)\n",
    "\n",
    "# Make predictions on the test data\n",
    "y_pred = logreg.predict(X_test_transformed)\n",
    "\n",
    "# Training and test score\n",
    "print(f\"Train score: {logreg.score(X_train_transformed, y_train)}\")\n",
    "print(f\"Test score: {logreg.score(X_test_transformed, y_test)}\")\n",
    "\n",
    "# Calculate accuracy and other metrics\n",
    "accuracy = accuracy_score(y_test, y_pred)\n",
    "classification_rep = classification_report(y_test, y_pred)\n",
    "confusion_mat = confusion_matrix(y_test, y_pred)\n",
    "\n",
    "# Print the results\n",
    "print(\"Accuracy:\", accuracy)\n",
    "print(\"\\nClassification Report:\\n\", classification_rep)\n",
    "print(\"\\nConfusion Matrix:\\n\", confusion_mat)\n",
    "\n"
   ]
  },
  {
   "cell_type": "markdown",
   "id": "00448c44",
   "metadata": {},
   "source": [
    "**Result and Inference:**  The result suggests that the model is overfitting at our first pass with a Train score of 61.4% and Test score of 45.7%. However, our model's test accuracy(45.7%) is better than random guessing which would be at max approx 16% ((if one were to predict everything as Politics)"
   ]
  },
  {
   "cell_type": "markdown",
   "id": "fd169057",
   "metadata": {},
   "source": [
    "Also, looking at the recall scores, the model has a hard time recognizing \"Good News\" articles with only 0.03 recall. On the other hand, it does much better for \"Style and Beauty\" articles, where the recall score is 0.63, showing that it's better at identifying these types of articles."
   ]
  },
  {
   "cell_type": "markdown",
   "id": "4645fffb",
   "metadata": {},
   "source": [
    "The imbalance in the target class could be contributing to the low overall prediction of the model. Let's try to upsample the train dataset and see if it improves the model performance."
   ]
  },
  {
   "cell_type": "markdown",
   "id": "63710fe7",
   "metadata": {},
   "source": [
    "### CountVectorizer using custom vectorizer and upsampling \"train set\""
   ]
  },
  {
   "cell_type": "code",
   "execution_count": 114,
   "id": "10803450",
   "metadata": {},
   "outputs": [
    {
     "name": "stderr",
     "output_type": "stream",
     "text": [
      "C:\\Users\\asha8\\anaconda3\\Lib\\site-packages\\sklearn\\feature_extraction\\text.py:528: UserWarning:\n",
      "\n",
      "The parameter 'token_pattern' will not be used since 'tokenizer' is not None'\n",
      "\n",
      "C:\\Users\\asha8\\anaconda3\\Lib\\site-packages\\sklearn\\linear_model\\_logistic.py:458: ConvergenceWarning:\n",
      "\n",
      "lbfgs failed to converge (status=1):\n",
      "STOP: TOTAL NO. of ITERATIONS REACHED LIMIT.\n",
      "\n",
      "Increase the number of iterations (max_iter) or scale the data as shown in:\n",
      "    https://scikit-learn.org/stable/modules/preprocessing.html\n",
      "Please also refer to the documentation for alternative solver options:\n",
      "    https://scikit-learn.org/stable/modules/linear_model.html#logistic-regression\n",
      "\n"
     ]
    },
    {
     "name": "stdout",
     "output_type": "stream",
     "text": [
      "Train score: 0.8458069109271329\n",
      "Test score: 0.3611601380364058\n",
      "Accuracy: 0.3611601380364058\n",
      "\n",
      "Classification Report:\n",
      "                 precision    recall  f1-score   support\n",
      "\n",
      "          ARTS       0.23      0.17      0.20       173\n",
      "ARTS & CULTURE       0.11      0.20      0.15       268\n",
      "  BLACK VOICES       0.21      0.28      0.24       835\n",
      "      BUSINESS       0.28      0.31      0.29      1027\n",
      "       COLLEGE       0.12      0.18      0.14       184\n",
      "        COMEDY       0.16      0.23      0.19       929\n",
      "         CRIME       0.26      0.34      0.29       566\n",
      "CULTURE & ARTS       0.22      0.21      0.21       213\n",
      "       DIVORCE       0.51      0.54      0.52       685\n",
      "     EDUCATION       0.19      0.29      0.23       180\n",
      " ENTERTAINMENT       0.47      0.29      0.36      2955\n",
      "   ENVIRONMENT       0.21      0.21      0.21       288\n",
      "         FIFTY       0.16      0.19      0.18       208\n",
      "  FOOD & DRINK       0.48      0.46      0.47      1266\n",
      "     GOOD NEWS       0.06      0.15      0.09       208\n",
      "         GREEN       0.19      0.28      0.22       409\n",
      "HEALTHY LIVING       0.15      0.19      0.17      1053\n",
      " HOME & LIVING       0.40      0.46      0.43       864\n",
      "        IMPACT       0.18      0.26      0.21       617\n",
      " LATINO VOICES       0.11      0.20      0.14       204\n",
      "         MEDIA       0.17      0.27      0.21       481\n",
      "         MONEY       0.26      0.34      0.29       351\n",
      "     PARENTING       0.43      0.34      0.38      1758\n",
      "       PARENTS       0.15      0.20      0.17       711\n",
      "      POLITICS       0.75      0.40      0.52      6488\n",
      "  QUEER VOICES       0.38      0.36      0.37      1121\n",
      "      RELIGION       0.23      0.32      0.27       376\n",
      "       SCIENCE       0.21      0.31      0.25       361\n",
      "        SPORTS       0.35      0.39      0.37       883\n",
      "         STYLE       0.07      0.23      0.11       313\n",
      "STYLE & BEAUTY       0.69      0.57      0.62      1960\n",
      "         TASTE       0.12      0.21      0.15       388\n",
      "          TECH       0.20      0.30      0.24       420\n",
      " THE WORLDPOST       0.27      0.35      0.30       733\n",
      "        TRAVEL       0.60      0.53      0.56      1884\n",
      "     U.S. NEWS       0.10      0.15      0.12       275\n",
      "      WEDDINGS       0.54      0.58      0.56       731\n",
      "    WEIRD NEWS       0.10      0.21      0.13       463\n",
      "      WELLNESS       0.63      0.42      0.50      3588\n",
      "         WOMEN       0.14      0.19      0.16       637\n",
      "    WORLD NEWS       0.23      0.31      0.26       659\n",
      "     WORLDPOST       0.31      0.31      0.31       248\n",
      "\n",
      "      accuracy                           0.36     37961\n",
      "     macro avg       0.28      0.30      0.28     37961\n",
      "  weighted avg       0.44      0.36      0.39     37961\n",
      "\n",
      "\n",
      "Confusion Matrix:\n",
      " [[ 30   7   5 ...   6   0   3]\n",
      " [  0  54  12 ...   7   1   1]\n",
      " [  2  13 230 ...  27  16   2]\n",
      " ...\n",
      " [  1  13  19 ... 123   5   0]\n",
      " [  0   6   9 ...  16 203   7]\n",
      " [  2   1   2 ...   3  20  78]]\n"
     ]
    }
   ],
   "source": [
    "from sklearn.model_selection import train_test_split\n",
    "from sklearn.feature_extraction.text import CountVectorizer\n",
    "from sklearn.linear_model import LogisticRegression\n",
    "from sklearn.metrics import accuracy_score, classification_report, confusion_matrix\n",
    "from imblearn.over_sampling import RandomOverSampler\n",
    "import pandas as pd\n",
    "\n",
    "# Assuming 'df' is your DataFrame containing the data\n",
    "\n",
    "# Drop rows with missing values in the 'short_description' and 'category' columns\n",
    "df.dropna(subset=[\"short_description\", \"category\"], inplace=True)\n",
    "\n",
    "# Split the data into training and testing sets\n",
    "X = df[\"short_description\"]  # Input feature (short descriptions)\n",
    "y = df[\"category\"]  # Target variable (categories)\n",
    "X_train, X_test, y_train, y_test = train_test_split(\n",
    "    X, y, test_size=0.2, random_state=42, stratify=y\n",
    ")\n",
    "\n",
    "# Upsample the training data to balance classes\n",
    "ros = RandomOverSampler(random_state=42)\n",
    "X_train_resampled, y_train_resampled = ros.fit_resample(\n",
    "    X_train.values.reshape(-1, 1), y_train\n",
    ")\n",
    "\n",
    "#Count Vectorizer\n",
    "from sklearn.feature_extraction.text import CountVectorizer\n",
    "\n",
    "bagofwords = CountVectorizer(min_df=20, tokenizer=my_tokenizer)\n",
    "bagofwords.fit(X_train_resampled.ravel())\n",
    "\n",
    "X_train_transformed = bagofwords.transform(X_train_resampled.ravel())\n",
    "X_test_transformed = bagofwords.transform(X_test)\n",
    "\n",
    "# Fitting a model\n",
    "logreg = LogisticRegression()\n",
    "logreg.fit(X_train_transformed, y_train_resampled)\n",
    "\n",
    "# Make predictions on the test data\n",
    "y_pred = logreg.predict(X_test_transformed)\n",
    "\n",
    "# Training and test score\n",
    "print(f\"Train score: {logreg.score(X_train_transformed, y_train_resampled)}\")\n",
    "print(f\"Test score: {logreg.score(X_test_transformed, y_test)}\")\n",
    "\n",
    "# Calculate accuracy and other metrics\n",
    "accuracy = accuracy_score(y_test, y_pred)\n",
    "classification_rep = classification_report(y_test, y_pred)\n",
    "confusion_mat = confusion_matrix(y_test, y_pred)\n",
    "\n",
    "# Print the results\n",
    "print(\"Accuracy:\", accuracy)\n",
    "print(\"\\nClassification Report:\\n\", classification_rep)\n",
    "print(\"\\nConfusion Matrix:\\n\", confusion_mat)\n"
   ]
  },
  {
   "cell_type": "markdown",
   "id": "8413fda8",
   "metadata": {},
   "source": [
    "As we expected, the model's predictions have greatly improved for the training dataset. This improvement came after we balanced the training set using upsampling, while keeping the test set unchanged. The results are as follows: The model achieved a Train score of 84.8%, while the Test score reached 36.8%."
   ]
  },
  {
   "cell_type": "markdown",
   "id": "30459b76",
   "metadata": {},
   "source": [
    "Let's explore TF-IDF tokenization, which highlights less common words. We'll then compare its performance to see if there's any improvement."
   ]
  },
  {
   "cell_type": "markdown",
   "id": "4536ec1a",
   "metadata": {},
   "source": [
    "### TF-IDF using custom tokenizer"
   ]
  },
  {
   "cell_type": "code",
   "execution_count": 117,
   "id": "687afe4e",
   "metadata": {
    "scrolled": false
   },
   "outputs": [
    {
     "name": "stderr",
     "output_type": "stream",
     "text": [
      "C:\\Users\\asha8\\anaconda3\\Lib\\site-packages\\sklearn\\feature_extraction\\text.py:528: UserWarning:\n",
      "\n",
      "The parameter 'token_pattern' will not be used since 'tokenizer' is not None'\n",
      "\n"
     ]
    },
    {
     "name": "stdout",
     "output_type": "stream",
     "text": [
      "Train score: 0.5203403560303211\n",
      "Test score: 0.46510892758357264\n",
      "Accuracy: 0.46510892758357264\n",
      "\n",
      "Classification Report:\n",
      "                 precision    recall  f1-score   support\n",
      "\n",
      "          ARTS       0.50      0.09      0.16       174\n",
      "ARTS & CULTURE       0.33      0.05      0.09       273\n",
      "  BLACK VOICES       0.40      0.15      0.22       865\n",
      "      BUSINESS       0.39      0.33      0.36       970\n",
      "       COLLEGE       0.31      0.14      0.19       184\n",
      "        COMEDY       0.34      0.13      0.19       913\n",
      "         CRIME       0.39      0.26      0.31       583\n",
      "CULTURE & ARTS       0.45      0.15      0.22       215\n",
      "       DIVORCE       0.70      0.48      0.57       674\n",
      "     EDUCATION       0.43      0.20      0.27       189\n",
      " ENTERTAINMENT       0.35      0.58      0.44      3007\n",
      "   ENVIRONMENT       0.53      0.13      0.21       313\n",
      "         FIFTY       0.58      0.05      0.09       224\n",
      "  FOOD & DRINK       0.48      0.58      0.53      1260\n",
      "     GOOD NEWS       0.25      0.01      0.02       210\n",
      "         GREEN       0.32      0.17      0.22       395\n",
      "HEALTHY LIVING       0.28      0.06      0.10      1066\n",
      " HOME & LIVING       0.51      0.43      0.47       868\n",
      "        IMPACT       0.37      0.16      0.22       628\n",
      " LATINO VOICES       0.68      0.08      0.15       184\n",
      "         MEDIA       0.39      0.13      0.20       482\n",
      "         MONEY       0.52      0.23      0.32       365\n",
      "     PARENTING       0.44      0.53      0.48      1737\n",
      "       PARENTS       0.26      0.06      0.10       680\n",
      "      POLITICS       0.48      0.80      0.60      6434\n",
      "  QUEER VOICES       0.61      0.34      0.44      1150\n",
      "      RELIGION       0.48      0.21      0.29       366\n",
      "       SCIENCE       0.46      0.17      0.25       367\n",
      "        SPORTS       0.56      0.37      0.44       892\n",
      "         STYLE       0.31      0.02      0.03       319\n",
      "STYLE & BEAUTY       0.58      0.67      0.62      1948\n",
      "         TASTE       0.38      0.03      0.06       402\n",
      "          TECH       0.51      0.23      0.31       398\n",
      " THE WORLDPOST       0.39      0.22      0.28       726\n",
      "        TRAVEL       0.55      0.65      0.59      1889\n",
      "     U.S. NEWS       0.39      0.03      0.05       274\n",
      "      WEDDINGS       0.69      0.55      0.61       745\n",
      "    WEIRD NEWS       0.20      0.02      0.04       468\n",
      "      WELLNESS       0.46      0.76      0.57      3624\n",
      "         WOMEN       0.35      0.15      0.21       639\n",
      "    WORLD NEWS       0.38      0.18      0.24       632\n",
      "     WORLDPOST       0.39      0.10      0.15       229\n",
      "\n",
      "      accuracy                           0.47     37961\n",
      "     macro avg       0.44      0.25      0.28     37961\n",
      "  weighted avg       0.45      0.47      0.42     37961\n",
      "\n",
      "\n",
      "Confusion Matrix:\n",
      " [[ 16   1   3 ...   1   1   1]\n",
      " [  0  15   5 ...   5   1   0]\n",
      " [  1   1 134 ...  10   2   0]\n",
      " ...\n",
      " [  0   0   4 ...  94   0   0]\n",
      " [  0   0   4 ...   1 111   3]\n",
      " [  0   0   1 ...   0  14  22]]\n"
     ]
    }
   ],
   "source": [
    "# Drop rows with missing values in the 'short_description' and 'category' columns\n",
    "df.dropna(subset=[\"short_description\", \"category\"], inplace=True)\n",
    "\n",
    "# Split the data into training and testing sets\n",
    "X = df[\"short_description\"]  # Input feature (short descriptions)\n",
    "y = df[\"category\"]  # Target variable (categories)\n",
    "X_train, X_test, y_train, y_test = train_test_split(\n",
    "    X, y, test_size=0.2, random_state=42\n",
    ")\n",
    "\n",
    "# Convert short descriptions to numerical features using TF-IDF vectorization\n",
    "tfidf_vectorizer = TfidfVectorizer(tokenizer=my_tokenizer, max_features=5000)\n",
    "X_train_tfidf = tfidf_vectorizer.fit_transform(X_train)\n",
    "X_test_tfidf = tfidf_vectorizer.transform(X_test)\n",
    "\n",
    "# Create a logistic regression classifier\n",
    "classifier = LogisticRegression(max_iter=1000)\n",
    "\n",
    "# Train the classifier on the training data\n",
    "classifier.fit(X_train_tfidf, y_train)\n",
    "\n",
    "# Make predictions on the test data\n",
    "y_pred = classifier.predict(X_test_tfidf)\n",
    "\n",
    "# Training and test score\n",
    "print(f\"Train score: {classifier.score(X_train_tfidf, y_train)}\")\n",
    "print(f\"Test score: {classifier.score(X_test_tfidf, y_test)}\")\n",
    "\n",
    "# Calculate accuracy and other metrics\n",
    "accuracy = accuracy_score(y_test, y_pred)\n",
    "classification_rep = classification_report(y_test, y_pred)\n",
    "confusion_mat = confusion_matrix(y_test, y_pred)\n",
    "\n",
    "# Print the results\n",
    "print(\"Accuracy:\", accuracy)\n",
    "print(\"\\nClassification Report:\\n\", classification_rep)\n",
    "print(\"\\nConfusion Matrix:\\n\", confusion_mat)"
   ]
  },
  {
   "cell_type": "markdown",
   "id": "b5a8d934",
   "metadata": {},
   "source": [
    "The model achieved a Train score of 52.0% and a Test score of 46.7%. This model is the best among the initial ones because it shows less overfitting compared to the previous two models. Additionally, there's a small improvement in test accuracy as well."
   ]
  },
  {
   "cell_type": "markdown",
   "id": "134b04af",
   "metadata": {},
   "source": [
    "Additionally, let's explore upsampling for TF-IDF tokenization as well."
   ]
  },
  {
   "cell_type": "markdown",
   "id": "a7a59de3",
   "metadata": {},
   "source": [
    "### TF-IDF using custom vectorizer and upsampling \"train set\""
   ]
  },
  {
   "cell_type": "code",
   "execution_count": 118,
   "id": "c3541910",
   "metadata": {},
   "outputs": [
    {
     "name": "stderr",
     "output_type": "stream",
     "text": [
      "C:\\Users\\asha8\\anaconda3\\Lib\\site-packages\\sklearn\\feature_extraction\\text.py:528: UserWarning:\n",
      "\n",
      "The parameter 'token_pattern' will not be used since 'tokenizer' is not None'\n",
      "\n"
     ]
    },
    {
     "name": "stdout",
     "output_type": "stream",
     "text": [
      "Train score: 0.6699085925226047\n",
      "Test score: 0.3351334264113169\n",
      "Accuracy: 0.3351334264113169\n",
      "\n",
      "Classification Report:\n",
      "                 precision    recall  f1-score   support\n",
      "\n",
      "          ARTS       0.14      0.32      0.19       174\n",
      "ARTS & CULTURE       0.08      0.21      0.12       273\n",
      "  BLACK VOICES       0.24      0.25      0.25       865\n",
      "      BUSINESS       0.33      0.32      0.32       970\n",
      "       COLLEGE       0.11      0.32      0.16       184\n",
      "        COMEDY       0.18      0.21      0.20       913\n",
      "         CRIME       0.25      0.36      0.29       583\n",
      "CULTURE & ARTS       0.13      0.26      0.18       215\n",
      "       DIVORCE       0.48      0.54      0.51       674\n",
      "     EDUCATION       0.19      0.43      0.26       189\n",
      " ENTERTAINMENT       0.52      0.20      0.29      3007\n",
      "   ENVIRONMENT       0.16      0.26      0.20       313\n",
      "         FIFTY       0.13      0.33      0.18       224\n",
      "  FOOD & DRINK       0.46      0.38      0.42      1260\n",
      "     GOOD NEWS       0.05      0.18      0.08       210\n",
      "         GREEN       0.17      0.29      0.22       395\n",
      "HEALTHY LIVING       0.17      0.18      0.18      1066\n",
      " HOME & LIVING       0.40      0.45      0.42       868\n",
      "        IMPACT       0.20      0.27      0.23       628\n",
      " LATINO VOICES       0.07      0.29      0.12       184\n",
      "         MEDIA       0.16      0.33      0.21       482\n",
      "         MONEY       0.22      0.41      0.29       365\n",
      "     PARENTING       0.48      0.32      0.38      1737\n",
      "       PARENTS       0.14      0.17      0.15       680\n",
      "      POLITICS       0.82      0.32      0.46      6434\n",
      "  QUEER VOICES       0.47      0.36      0.41      1150\n",
      "      RELIGION       0.19      0.36      0.25       366\n",
      "       SCIENCE       0.19      0.36      0.25       367\n",
      "        SPORTS       0.37      0.41      0.39       892\n",
      "         STYLE       0.06      0.18      0.10       319\n",
      "STYLE & BEAUTY       0.69      0.52      0.60      1948\n",
      "         TASTE       0.12      0.27      0.17       402\n",
      "          TECH       0.19      0.35      0.25       398\n",
      " THE WORLDPOST       0.24      0.29      0.26       726\n",
      "        TRAVEL       0.63      0.49      0.55      1889\n",
      "     U.S. NEWS       0.06      0.15      0.08       274\n",
      "      WEDDINGS       0.54      0.58      0.56       745\n",
      "    WEIRD NEWS       0.09      0.21      0.12       468\n",
      "      WELLNESS       0.67      0.37      0.48      3624\n",
      "         WOMEN       0.17      0.23      0.20       639\n",
      "    WORLD NEWS       0.23      0.31      0.26       632\n",
      "     WORLDPOST       0.24      0.50      0.32       229\n",
      "\n",
      "      accuracy                           0.34     37961\n",
      "     macro avg       0.27      0.32      0.27     37961\n",
      "  weighted avg       0.47      0.34      0.36     37961\n",
      "\n",
      "\n",
      "Confusion Matrix:\n",
      " [[ 55   6  10 ...   3   0   5]\n",
      " [  3  57  10 ...  11   3   1]\n",
      " [  9  25 218 ...  27   7   4]\n",
      " ...\n",
      " [  4  22  12 ... 148   8   2]\n",
      " [  0   2   8 ...   3 199  18]\n",
      " [  3   2   1 ...   1  15 115]]\n"
     ]
    }
   ],
   "source": [
    "from sklearn.model_selection import train_test_split\n",
    "from sklearn.feature_extraction.text import TfidfVectorizer\n",
    "from sklearn.linear_model import LogisticRegression\n",
    "from sklearn.metrics import accuracy_score, classification_report, confusion_matrix\n",
    "from imblearn.over_sampling import RandomOverSampler\n",
    "import pandas as pd\n",
    "\n",
    "# Assuming 'df' is your DataFrame containing the data\n",
    "\n",
    "# Drop rows with missing values in the 'short_description' and 'category' columns\n",
    "df.dropna(subset=[\"short_description\", \"category\"], inplace=True)\n",
    "\n",
    "# Split the data into training and testing sets\n",
    "X = df[[\"short_description\"]]\n",
    "y = df[\"category\"]\n",
    "X_train, X_test, y_train, y_test = train_test_split(\n",
    "    X, y, test_size=0.2, random_state=42\n",
    ")\n",
    "\n",
    "# Upsample the training data to balance classes\n",
    "ros = RandomOverSampler(random_state=42)\n",
    "X_train_resampled, y_train_resampled = ros.fit_resample(X_train, y_train)\n",
    "\n",
    "# Convert short descriptions to numerical features using TF-IDF vectorization\n",
    "tfidf_vectorizer = TfidfVectorizer(tokenizer=my_tokenizer, max_features=5000)\n",
    "X_train_tfidf = tfidf_vectorizer.fit_transform(X_train_resampled[\"short_description\"])\n",
    "X_test_tfidf = tfidf_vectorizer.transform(X_test[\"short_description\"])\n",
    "\n",
    "# Create a logistic regression classifier\n",
    "classifier = LogisticRegression(max_iter=1000)\n",
    "\n",
    "# Train the classifier on the training data\n",
    "classifier.fit(X_train_tfidf, y_train_resampled)\n",
    "\n",
    "# Make predictions on the test data\n",
    "y_pred = classifier.predict(X_test_tfidf)\n",
    "\n",
    "# Training and test score\n",
    "print(f\"Train score: {classifier.score(X_train_tfidf, y_train_resampled)}\")\n",
    "print(f\"Test score: {classifier.score(X_test_tfidf, y_test)}\")\n",
    "\n",
    "# Calculate accuracy and other metrics\n",
    "accuracy = accuracy_score(y_test, y_pred)\n",
    "classification_rep = classification_report(y_test, y_pred)\n",
    "confusion_mat = confusion_matrix(y_test, y_pred)\n",
    "\n",
    "# Print the results\n",
    "print(\"Accuracy:\", accuracy)\n",
    "print(\"\\nClassification Report:\\n\", classification_rep)\n",
    "print(\"\\nConfusion Matrix:\\n\", confusion_mat)\n"
   ]
  },
  {
   "cell_type": "markdown",
   "id": "dd3ec5fc",
   "metadata": {},
   "source": [
    "The test accuracy actually decreased when we applied upsampling with TF-IDF tokenization. This outcome is logical because TF-IDF gives importance to less common words, and by upsampling, we increased the frequency of words overall."
   ]
  },
  {
   "cell_type": "markdown",
   "id": "65e0a022",
   "metadata": {},
   "source": [
    "## Next steps:\n",
    "\n",
    "i. Improve pre-processing by finding better ways to tokenize and remove noisy words/characters. <br>\n",
    "ii. Work with hyperparameters to see if the results get better."
   ]
  }
 ],
 "metadata": {
  "kernelspec": {
   "display_name": "Python 3 (ipykernel)",
   "language": "python",
   "name": "python3"
  },
  "language_info": {
   "codemirror_mode": {
    "name": "ipython",
    "version": 3
   },
   "file_extension": ".py",
   "mimetype": "text/x-python",
   "name": "python",
   "nbconvert_exporter": "python",
   "pygments_lexer": "ipython3",
   "version": "3.10.9"
  }
 },
 "nbformat": 4,
 "nbformat_minor": 5
}

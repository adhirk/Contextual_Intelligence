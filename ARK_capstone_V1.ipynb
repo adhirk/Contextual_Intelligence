{
 "cells": [
  {
   "cell_type": "code",
   "execution_count": 1,
   "id": "d690e460",
   "metadata": {},
   "outputs": [],
   "source": [
    "# Importing necessary libraries and packages\n",
    "\n",
    "import numpy as np\n",
    "import pandas as pd\n",
    "import matplotlib.pyplot as plt\n",
    "import seaborn as sns\n",
    "import plotly.express as px\n"
   ]
  },
  {
   "cell_type": "code",
   "execution_count": 2,
   "id": "bf1198f9",
   "metadata": {},
   "outputs": [
    {
     "data": {
      "application/javascript": [
       "\n",
       "            setTimeout(function() {\n",
       "                var nbb_cell_id = 2;\n",
       "                var nbb_unformatted_code = \"%load_ext nb_black\";\n",
       "                var nbb_formatted_code = \"%load_ext nb_black\";\n",
       "                var nbb_cells = Jupyter.notebook.get_cells();\n",
       "                for (var i = 0; i < nbb_cells.length; ++i) {\n",
       "                    if (nbb_cells[i].input_prompt_number == nbb_cell_id) {\n",
       "                        if (nbb_cells[i].get_text() == nbb_unformatted_code) {\n",
       "                             nbb_cells[i].set_text(nbb_formatted_code);\n",
       "                        }\n",
       "                        break;\n",
       "                    }\n",
       "                }\n",
       "            }, 500);\n",
       "            "
      ],
      "text/plain": [
       "<IPython.core.display.Javascript object>"
      ]
     },
     "metadata": {},
     "output_type": "display_data"
    }
   ],
   "source": [
    "%load_ext nb_black"
   ]
  },
  {
   "cell_type": "code",
   "execution_count": 3,
   "id": "4b1c32f5",
   "metadata": {},
   "outputs": [
    {
     "data": {
      "application/javascript": [
       "\n",
       "            setTimeout(function() {\n",
       "                var nbb_cell_id = 3;\n",
       "                var nbb_unformatted_code = \"# Reading the data from the source json file and writing it into a dataframe\\n\\ndf = pd.read_json('C:/Users/adhit/Desktop/Adhi_DS/Capstone ideas/Datasets/News Category Dataset _ Misra/News_Category_Dataset_v3.json',lines=True)\";\n",
       "                var nbb_formatted_code = \"# Reading the data from the source json file and writing it into a dataframe\\n\\ndf = pd.read_json(\\n    \\\"C:/Users/adhit/Desktop/Adhi_DS/Capstone ideas/Datasets/News Category Dataset _ Misra/News_Category_Dataset_v3.json\\\",\\n    lines=True,\\n)\";\n",
       "                var nbb_cells = Jupyter.notebook.get_cells();\n",
       "                for (var i = 0; i < nbb_cells.length; ++i) {\n",
       "                    if (nbb_cells[i].input_prompt_number == nbb_cell_id) {\n",
       "                        if (nbb_cells[i].get_text() == nbb_unformatted_code) {\n",
       "                             nbb_cells[i].set_text(nbb_formatted_code);\n",
       "                        }\n",
       "                        break;\n",
       "                    }\n",
       "                }\n",
       "            }, 500);\n",
       "            "
      ],
      "text/plain": [
       "<IPython.core.display.Javascript object>"
      ]
     },
     "metadata": {},
     "output_type": "display_data"
    }
   ],
   "source": [
    "# Reading the data from the source json file and writing it into a dataframe\n",
    "\n",
    "df = pd.read_json('C:/Users/adhit/Desktop/Adhi_DS/Capstone ideas/Datasets/News Category Dataset _ Misra/News_Category_Dataset_v3.json',lines=True)\n"
   ]
  },
  {
   "cell_type": "code",
   "execution_count": 4,
   "id": "355667a2",
   "metadata": {},
   "outputs": [
    {
     "data": {
      "text/html": [
       "<div>\n",
       "<style scoped>\n",
       "    .dataframe tbody tr th:only-of-type {\n",
       "        vertical-align: middle;\n",
       "    }\n",
       "\n",
       "    .dataframe tbody tr th {\n",
       "        vertical-align: top;\n",
       "    }\n",
       "\n",
       "    .dataframe thead th {\n",
       "        text-align: right;\n",
       "    }\n",
       "</style>\n",
       "<table border=\"1\" class=\"dataframe\">\n",
       "  <thead>\n",
       "    <tr style=\"text-align: right;\">\n",
       "      <th></th>\n",
       "      <th>link</th>\n",
       "      <th>headline</th>\n",
       "      <th>category</th>\n",
       "      <th>short_description</th>\n",
       "      <th>authors</th>\n",
       "      <th>date</th>\n",
       "    </tr>\n",
       "  </thead>\n",
       "  <tbody>\n",
       "    <tr>\n",
       "      <th>0</th>\n",
       "      <td>https://www.huffpost.com/entry/covid-boosters-...</td>\n",
       "      <td>Over 4 Million Americans Roll Up Sleeves For O...</td>\n",
       "      <td>U.S. NEWS</td>\n",
       "      <td>Health experts said it is too early to predict...</td>\n",
       "      <td>Carla K. Johnson, AP</td>\n",
       "      <td>2022-09-23</td>\n",
       "    </tr>\n",
       "    <tr>\n",
       "      <th>1</th>\n",
       "      <td>https://www.huffpost.com/entry/american-airlin...</td>\n",
       "      <td>American Airlines Flyer Charged, Banned For Li...</td>\n",
       "      <td>U.S. NEWS</td>\n",
       "      <td>He was subdued by passengers and crew when he ...</td>\n",
       "      <td>Mary Papenfuss</td>\n",
       "      <td>2022-09-23</td>\n",
       "    </tr>\n",
       "    <tr>\n",
       "      <th>2</th>\n",
       "      <td>https://www.huffpost.com/entry/funniest-tweets...</td>\n",
       "      <td>23 Of The Funniest Tweets About Cats And Dogs ...</td>\n",
       "      <td>COMEDY</td>\n",
       "      <td>\"Until you have a dog you don't understand wha...</td>\n",
       "      <td>Elyse Wanshel</td>\n",
       "      <td>2022-09-23</td>\n",
       "    </tr>\n",
       "    <tr>\n",
       "      <th>3</th>\n",
       "      <td>https://www.huffpost.com/entry/funniest-parent...</td>\n",
       "      <td>The Funniest Tweets From Parents This Week (Se...</td>\n",
       "      <td>PARENTING</td>\n",
       "      <td>\"Accidentally put grown-up toothpaste on my to...</td>\n",
       "      <td>Caroline Bologna</td>\n",
       "      <td>2022-09-23</td>\n",
       "    </tr>\n",
       "    <tr>\n",
       "      <th>4</th>\n",
       "      <td>https://www.huffpost.com/entry/amy-cooper-lose...</td>\n",
       "      <td>Woman Who Called Cops On Black Bird-Watcher Lo...</td>\n",
       "      <td>U.S. NEWS</td>\n",
       "      <td>Amy Cooper accused investment firm Franklin Te...</td>\n",
       "      <td>Nina Golgowski</td>\n",
       "      <td>2022-09-22</td>\n",
       "    </tr>\n",
       "  </tbody>\n",
       "</table>\n",
       "</div>"
      ],
      "text/plain": [
       "                                                link  \\\n",
       "0  https://www.huffpost.com/entry/covid-boosters-...   \n",
       "1  https://www.huffpost.com/entry/american-airlin...   \n",
       "2  https://www.huffpost.com/entry/funniest-tweets...   \n",
       "3  https://www.huffpost.com/entry/funniest-parent...   \n",
       "4  https://www.huffpost.com/entry/amy-cooper-lose...   \n",
       "\n",
       "                                            headline   category  \\\n",
       "0  Over 4 Million Americans Roll Up Sleeves For O...  U.S. NEWS   \n",
       "1  American Airlines Flyer Charged, Banned For Li...  U.S. NEWS   \n",
       "2  23 Of The Funniest Tweets About Cats And Dogs ...     COMEDY   \n",
       "3  The Funniest Tweets From Parents This Week (Se...  PARENTING   \n",
       "4  Woman Who Called Cops On Black Bird-Watcher Lo...  U.S. NEWS   \n",
       "\n",
       "                                   short_description               authors  \\\n",
       "0  Health experts said it is too early to predict...  Carla K. Johnson, AP   \n",
       "1  He was subdued by passengers and crew when he ...        Mary Papenfuss   \n",
       "2  \"Until you have a dog you don't understand wha...         Elyse Wanshel   \n",
       "3  \"Accidentally put grown-up toothpaste on my to...      Caroline Bologna   \n",
       "4  Amy Cooper accused investment firm Franklin Te...        Nina Golgowski   \n",
       "\n",
       "        date  \n",
       "0 2022-09-23  \n",
       "1 2022-09-23  \n",
       "2 2022-09-23  \n",
       "3 2022-09-23  \n",
       "4 2022-09-22  "
      ]
     },
     "execution_count": 4,
     "metadata": {},
     "output_type": "execute_result"
    },
    {
     "data": {
      "application/javascript": [
       "\n",
       "            setTimeout(function() {\n",
       "                var nbb_cell_id = 4;\n",
       "                var nbb_unformatted_code = \"# Sanity check to confirm the dataframe\\n\\ndf.head(5)\";\n",
       "                var nbb_formatted_code = \"# Sanity check to confirm the dataframe\\n\\ndf.head(5)\";\n",
       "                var nbb_cells = Jupyter.notebook.get_cells();\n",
       "                for (var i = 0; i < nbb_cells.length; ++i) {\n",
       "                    if (nbb_cells[i].input_prompt_number == nbb_cell_id) {\n",
       "                        if (nbb_cells[i].get_text() == nbb_unformatted_code) {\n",
       "                             nbb_cells[i].set_text(nbb_formatted_code);\n",
       "                        }\n",
       "                        break;\n",
       "                    }\n",
       "                }\n",
       "            }, 500);\n",
       "            "
      ],
      "text/plain": [
       "<IPython.core.display.Javascript object>"
      ]
     },
     "metadata": {},
     "output_type": "display_data"
    }
   ],
   "source": [
    "# Sanity check to confirm the dataframe\n",
    "\n",
    "df.head(5)"
   ]
  },
  {
   "cell_type": "code",
   "execution_count": 5,
   "id": "ca63086d",
   "metadata": {},
   "outputs": [
    {
     "data": {
      "text/plain": [
       "link                 0\n",
       "headline             0\n",
       "category             0\n",
       "short_description    0\n",
       "authors              0\n",
       "date                 0\n",
       "dtype: int64"
      ]
     },
     "execution_count": 5,
     "metadata": {},
     "output_type": "execute_result"
    },
    {
     "data": {
      "application/javascript": [
       "\n",
       "            setTimeout(function() {\n",
       "                var nbb_cell_id = 5;\n",
       "                var nbb_unformatted_code = \"# Checking for null values\\n\\ndf.isna().sum()\";\n",
       "                var nbb_formatted_code = \"# Checking for null values\\n\\ndf.isna().sum()\";\n",
       "                var nbb_cells = Jupyter.notebook.get_cells();\n",
       "                for (var i = 0; i < nbb_cells.length; ++i) {\n",
       "                    if (nbb_cells[i].input_prompt_number == nbb_cell_id) {\n",
       "                        if (nbb_cells[i].get_text() == nbb_unformatted_code) {\n",
       "                             nbb_cells[i].set_text(nbb_formatted_code);\n",
       "                        }\n",
       "                        break;\n",
       "                    }\n",
       "                }\n",
       "            }, 500);\n",
       "            "
      ],
      "text/plain": [
       "<IPython.core.display.Javascript object>"
      ]
     },
     "metadata": {},
     "output_type": "display_data"
    }
   ],
   "source": [
    "# Checking for null values\n",
    "\n",
    "df.isna().sum()"
   ]
  },
  {
   "cell_type": "code",
   "execution_count": 6,
   "id": "710e88c0",
   "metadata": {},
   "outputs": [
    {
     "data": {
      "text/plain": [
       "13"
      ]
     },
     "execution_count": 6,
     "metadata": {},
     "output_type": "execute_result"
    },
    {
     "data": {
      "application/javascript": [
       "\n",
       "            setTimeout(function() {\n",
       "                var nbb_cell_id = 6;\n",
       "                var nbb_unformatted_code = \"# Checking for duplicates and if any, finding their count\\n\\ndf.duplicated().sum()\";\n",
       "                var nbb_formatted_code = \"# Checking for duplicates and if any, finding their count\\n\\ndf.duplicated().sum()\";\n",
       "                var nbb_cells = Jupyter.notebook.get_cells();\n",
       "                for (var i = 0; i < nbb_cells.length; ++i) {\n",
       "                    if (nbb_cells[i].input_prompt_number == nbb_cell_id) {\n",
       "                        if (nbb_cells[i].get_text() == nbb_unformatted_code) {\n",
       "                             nbb_cells[i].set_text(nbb_formatted_code);\n",
       "                        }\n",
       "                        break;\n",
       "                    }\n",
       "                }\n",
       "            }, 500);\n",
       "            "
      ],
      "text/plain": [
       "<IPython.core.display.Javascript object>"
      ]
     },
     "metadata": {},
     "output_type": "display_data"
    }
   ],
   "source": [
    "# Checking for duplicates and if any, finding their count\n",
    "\n",
    "df.duplicated().sum()"
   ]
  },
  {
   "cell_type": "markdown",
   "id": "8fb727d6",
   "metadata": {},
   "source": [
    "There are 13 duplicated records in our dataset. Let's check the percent duplicates so that we can understand our data quality. "
   ]
  },
  {
   "cell_type": "code",
   "execution_count": 7,
   "id": "c001cc95",
   "metadata": {},
   "outputs": [
    {
     "data": {
      "text/plain": [
       "0.006204450977678294"
      ]
     },
     "execution_count": 7,
     "metadata": {},
     "output_type": "execute_result"
    },
    {
     "data": {
      "application/javascript": [
       "\n",
       "            setTimeout(function() {\n",
       "                var nbb_cell_id = 7;\n",
       "                var nbb_unformatted_code = \"# What's the percent of duplicated data we have?\\n\\ndf.duplicated().sum() / df.shape[0] * 100\";\n",
       "                var nbb_formatted_code = \"# What's the percent of duplicated data we have?\\n\\ndf.duplicated().sum() / df.shape[0] * 100\";\n",
       "                var nbb_cells = Jupyter.notebook.get_cells();\n",
       "                for (var i = 0; i < nbb_cells.length; ++i) {\n",
       "                    if (nbb_cells[i].input_prompt_number == nbb_cell_id) {\n",
       "                        if (nbb_cells[i].get_text() == nbb_unformatted_code) {\n",
       "                             nbb_cells[i].set_text(nbb_formatted_code);\n",
       "                        }\n",
       "                        break;\n",
       "                    }\n",
       "                }\n",
       "            }, 500);\n",
       "            "
      ],
      "text/plain": [
       "<IPython.core.display.Javascript object>"
      ]
     },
     "metadata": {},
     "output_type": "display_data"
    }
   ],
   "source": [
    "# What's the percent of duplicated data we have?\n",
    "\n",
    "df.duplicated().sum() / df.shape[0] * 100"
   ]
  },
  {
   "cell_type": "markdown",
   "id": "67687248",
   "metadata": {},
   "source": [
    "Only 0.006% of the dataset is duplicated. "
   ]
  },
  {
   "cell_type": "code",
   "execution_count": 8,
   "id": "8e884cac",
   "metadata": {
    "scrolled": true
   },
   "outputs": [
    {
     "data": {
      "text/html": [
       "<div>\n",
       "<style scoped>\n",
       "    .dataframe tbody tr th:only-of-type {\n",
       "        vertical-align: middle;\n",
       "    }\n",
       "\n",
       "    .dataframe tbody tr th {\n",
       "        vertical-align: top;\n",
       "    }\n",
       "\n",
       "    .dataframe thead th {\n",
       "        text-align: right;\n",
       "    }\n",
       "</style>\n",
       "<table border=\"1\" class=\"dataframe\">\n",
       "  <thead>\n",
       "    <tr style=\"text-align: right;\">\n",
       "      <th></th>\n",
       "      <th>link</th>\n",
       "      <th>headline</th>\n",
       "      <th>category</th>\n",
       "      <th>short_description</th>\n",
       "      <th>authors</th>\n",
       "      <th>date</th>\n",
       "    </tr>\n",
       "  </thead>\n",
       "  <tbody>\n",
       "    <tr>\n",
       "      <th>67677</th>\n",
       "      <td>https://www.huffingtonpost.comhttp://www.mothe...</td>\n",
       "      <td>On Facebook, Trump's Longtime Butler Calls For...</td>\n",
       "      <td>POLITICS</td>\n",
       "      <td>Anthony Senecal, who worked as Donald Trump's ...</td>\n",
       "      <td></td>\n",
       "      <td>2016-05-12</td>\n",
       "    </tr>\n",
       "    <tr>\n",
       "      <th>67923</th>\n",
       "      <td>https://www.huffingtonpost.comhttp://gizmodo.c...</td>\n",
       "      <td>Former Facebook Workers: We Routinely Suppress...</td>\n",
       "      <td>TECH</td>\n",
       "      <td>Facebook workers routinely suppressed news sto...</td>\n",
       "      <td></td>\n",
       "      <td>2016-05-09</td>\n",
       "    </tr>\n",
       "    <tr>\n",
       "      <th>70239</th>\n",
       "      <td>https://www.huffingtonpost.comhttp://www.cnbc....</td>\n",
       "      <td>On Equal Pay Day, The Gap Is Still Too Wide</td>\n",
       "      <td>WOMEN</td>\n",
       "      <td>Equal Pay Day falls on April 12 in 2016. It's ...</td>\n",
       "      <td></td>\n",
       "      <td>2016-04-12</td>\n",
       "    </tr>\n",
       "    <tr>\n",
       "      <th>139830</th>\n",
       "      <td>https://www.huffingtonpost.comhttp://www.cnn.c...</td>\n",
       "      <td>The World's Most Dangerous Workout?</td>\n",
       "      <td>WELLNESS</td>\n",
       "      <td>Is the \"sport of fitness\" the world's most dan...</td>\n",
       "      <td></td>\n",
       "      <td>2014-02-10</td>\n",
       "    </tr>\n",
       "    <tr>\n",
       "      <th>144409</th>\n",
       "      <td>https://www.huffingtonpost.comhttp://www.upwor...</td>\n",
       "      <td>Some People Call It 'The Best Anti-Smoking Ad ...</td>\n",
       "      <td>WELLNESS</td>\n",
       "      <td>Almost all smokers know cigarettes are bad for...</td>\n",
       "      <td></td>\n",
       "      <td>2013-12-22</td>\n",
       "    </tr>\n",
       "    <tr>\n",
       "      <th>145142</th>\n",
       "      <td>https://www.huffingtonpost.comhttp://www.weath...</td>\n",
       "      <td>10 Cities That Could Run Out Of Water - Weathe...</td>\n",
       "      <td>ENVIRONMENT</td>\n",
       "      <td>Securing access to plentiful, renewable source...</td>\n",
       "      <td></td>\n",
       "      <td>2013-12-15</td>\n",
       "    </tr>\n",
       "    <tr>\n",
       "      <th>178155</th>\n",
       "      <td>https://www.huffingtonpost.comhttp://www.busin...</td>\n",
       "      <td>Google Is Attacking Apple From The Inside Out ...</td>\n",
       "      <td>TECH</td>\n",
       "      <td>After years of hammering away at Apple's share...</td>\n",
       "      <td></td>\n",
       "      <td>2013-01-01</td>\n",
       "    </tr>\n",
       "    <tr>\n",
       "      <th>187329</th>\n",
       "      <td>https://www.huffingtonpost.comhttp://www.nytim...</td>\n",
       "      <td>Eating For Health, Not Weight</td>\n",
       "      <td>WELLNESS</td>\n",
       "      <td>Almost half of Americans are on a diet -- not ...</td>\n",
       "      <td></td>\n",
       "      <td>2012-09-23</td>\n",
       "    </tr>\n",
       "    <tr>\n",
       "      <th>194596</th>\n",
       "      <td>https://www.huffingtonpost.comhttp://blogs.wsj...</td>\n",
       "      <td>Apple Removes Green EPEAT Electronics Certific...</td>\n",
       "      <td>TECH</td>\n",
       "      <td>Apple has pulled its products off the U.S. gov...</td>\n",
       "      <td></td>\n",
       "      <td>2012-07-07</td>\n",
       "    </tr>\n",
       "    <tr>\n",
       "      <th>194598</th>\n",
       "      <td>https://www.huffingtonpost.comhttp://www.theda...</td>\n",
       "      <td>Microsoft's $6.2 Billion Writedown Shows It's ...</td>\n",
       "      <td>TECH</td>\n",
       "      <td>Fighting for online advertising dominance with...</td>\n",
       "      <td></td>\n",
       "      <td>2012-07-07</td>\n",
       "    </tr>\n",
       "    <tr>\n",
       "      <th>207122</th>\n",
       "      <td>https://www.huffingtonpost.comhttp://d.repubbl...</td>\n",
       "      <td>Versace Atelier Worker Reflects On The Glory &amp;...</td>\n",
       "      <td>STYLE &amp; BEAUTY</td>\n",
       "      <td>Twenty-four hours before the fashion show, Don...</td>\n",
       "      <td></td>\n",
       "      <td>2012-02-23</td>\n",
       "    </tr>\n",
       "    <tr>\n",
       "      <th>207208</th>\n",
       "      <td>https://www.huffingtonpost.comhttp://d.repubbl...</td>\n",
       "      <td>Behind-The-Scenes Look At Prada's Workshop (VI...</td>\n",
       "      <td>STYLE &amp; BEAUTY</td>\n",
       "      <td>Exclusive worldwide and for the first time in ...</td>\n",
       "      <td></td>\n",
       "      <td>2012-02-22</td>\n",
       "    </tr>\n",
       "    <tr>\n",
       "      <th>207318</th>\n",
       "      <td>https://www.huffingtonpost.comhttp://d.repubbl...</td>\n",
       "      <td>Gucci's Frida Giannini Reveals Fashion Week Di...</td>\n",
       "      <td>STYLE &amp; BEAUTY</td>\n",
       "      <td>Frida Giannini reveals in this worldwide exclu...</td>\n",
       "      <td></td>\n",
       "      <td>2012-02-21</td>\n",
       "    </tr>\n",
       "  </tbody>\n",
       "</table>\n",
       "</div>"
      ],
      "text/plain": [
       "                                                     link  \\\n",
       "67677   https://www.huffingtonpost.comhttp://www.mothe...   \n",
       "67923   https://www.huffingtonpost.comhttp://gizmodo.c...   \n",
       "70239   https://www.huffingtonpost.comhttp://www.cnbc....   \n",
       "139830  https://www.huffingtonpost.comhttp://www.cnn.c...   \n",
       "144409  https://www.huffingtonpost.comhttp://www.upwor...   \n",
       "145142  https://www.huffingtonpost.comhttp://www.weath...   \n",
       "178155  https://www.huffingtonpost.comhttp://www.busin...   \n",
       "187329  https://www.huffingtonpost.comhttp://www.nytim...   \n",
       "194596  https://www.huffingtonpost.comhttp://blogs.wsj...   \n",
       "194598  https://www.huffingtonpost.comhttp://www.theda...   \n",
       "207122  https://www.huffingtonpost.comhttp://d.repubbl...   \n",
       "207208  https://www.huffingtonpost.comhttp://d.repubbl...   \n",
       "207318  https://www.huffingtonpost.comhttp://d.repubbl...   \n",
       "\n",
       "                                                 headline        category  \\\n",
       "67677   On Facebook, Trump's Longtime Butler Calls For...        POLITICS   \n",
       "67923   Former Facebook Workers: We Routinely Suppress...            TECH   \n",
       "70239         On Equal Pay Day, The Gap Is Still Too Wide           WOMEN   \n",
       "139830                The World's Most Dangerous Workout?        WELLNESS   \n",
       "144409  Some People Call It 'The Best Anti-Smoking Ad ...        WELLNESS   \n",
       "145142  10 Cities That Could Run Out Of Water - Weathe...     ENVIRONMENT   \n",
       "178155  Google Is Attacking Apple From The Inside Out ...            TECH   \n",
       "187329                      Eating For Health, Not Weight        WELLNESS   \n",
       "194596  Apple Removes Green EPEAT Electronics Certific...            TECH   \n",
       "194598  Microsoft's $6.2 Billion Writedown Shows It's ...            TECH   \n",
       "207122  Versace Atelier Worker Reflects On The Glory &...  STYLE & BEAUTY   \n",
       "207208  Behind-The-Scenes Look At Prada's Workshop (VI...  STYLE & BEAUTY   \n",
       "207318  Gucci's Frida Giannini Reveals Fashion Week Di...  STYLE & BEAUTY   \n",
       "\n",
       "                                        short_description authors       date  \n",
       "67677   Anthony Senecal, who worked as Donald Trump's ...         2016-05-12  \n",
       "67923   Facebook workers routinely suppressed news sto...         2016-05-09  \n",
       "70239   Equal Pay Day falls on April 12 in 2016. It's ...         2016-04-12  \n",
       "139830  Is the \"sport of fitness\" the world's most dan...         2014-02-10  \n",
       "144409  Almost all smokers know cigarettes are bad for...         2013-12-22  \n",
       "145142  Securing access to plentiful, renewable source...         2013-12-15  \n",
       "178155  After years of hammering away at Apple's share...         2013-01-01  \n",
       "187329  Almost half of Americans are on a diet -- not ...         2012-09-23  \n",
       "194596  Apple has pulled its products off the U.S. gov...         2012-07-07  \n",
       "194598  Fighting for online advertising dominance with...         2012-07-07  \n",
       "207122  Twenty-four hours before the fashion show, Don...         2012-02-23  \n",
       "207208  Exclusive worldwide and for the first time in ...         2012-02-22  \n",
       "207318  Frida Giannini reveals in this worldwide exclu...         2012-02-21  "
      ]
     },
     "execution_count": 8,
     "metadata": {},
     "output_type": "execute_result"
    },
    {
     "data": {
      "application/javascript": [
       "\n",
       "            setTimeout(function() {\n",
       "                var nbb_cell_id = 8;\n",
       "                var nbb_unformatted_code = \"df[df.duplicated()]\";\n",
       "                var nbb_formatted_code = \"df[df.duplicated()]\";\n",
       "                var nbb_cells = Jupyter.notebook.get_cells();\n",
       "                for (var i = 0; i < nbb_cells.length; ++i) {\n",
       "                    if (nbb_cells[i].input_prompt_number == nbb_cell_id) {\n",
       "                        if (nbb_cells[i].get_text() == nbb_unformatted_code) {\n",
       "                             nbb_cells[i].set_text(nbb_formatted_code);\n",
       "                        }\n",
       "                        break;\n",
       "                    }\n",
       "                }\n",
       "            }, 500);\n",
       "            "
      ],
      "text/plain": [
       "<IPython.core.display.Javascript object>"
      ]
     },
     "metadata": {},
     "output_type": "display_data"
    }
   ],
   "source": [
    "df[df.duplicated()]"
   ]
  },
  {
   "cell_type": "markdown",
   "id": "c4810b4a",
   "metadata": {},
   "source": [
    "these are the 13 duplicated rows. Let;s move on to find if there are any duplicated columns."
   ]
  },
  {
   "cell_type": "code",
   "execution_count": 9,
   "id": "60eb910a",
   "metadata": {},
   "outputs": [
    {
     "data": {
      "text/plain": [
       "link                 False\n",
       "headline             False\n",
       "category             False\n",
       "short_description    False\n",
       "authors              False\n",
       "date                 False\n",
       "dtype: bool"
      ]
     },
     "execution_count": 9,
     "metadata": {},
     "output_type": "execute_result"
    },
    {
     "data": {
      "application/javascript": [
       "\n",
       "            setTimeout(function() {\n",
       "                var nbb_cell_id = 9;\n",
       "                var nbb_unformatted_code = \"# Checking for duplicates across columns.\\n\\ndf.T.duplicated()\";\n",
       "                var nbb_formatted_code = \"# Checking for duplicates across columns.\\n\\ndf.T.duplicated()\";\n",
       "                var nbb_cells = Jupyter.notebook.get_cells();\n",
       "                for (var i = 0; i < nbb_cells.length; ++i) {\n",
       "                    if (nbb_cells[i].input_prompt_number == nbb_cell_id) {\n",
       "                        if (nbb_cells[i].get_text() == nbb_unformatted_code) {\n",
       "                             nbb_cells[i].set_text(nbb_formatted_code);\n",
       "                        }\n",
       "                        break;\n",
       "                    }\n",
       "                }\n",
       "            }, 500);\n",
       "            "
      ],
      "text/plain": [
       "<IPython.core.display.Javascript object>"
      ]
     },
     "metadata": {},
     "output_type": "display_data"
    }
   ],
   "source": [
    "# Checking for duplicates across columns.\n",
    "\n",
    "df.T.duplicated()"
   ]
  },
  {
   "cell_type": "markdown",
   "id": "87130e45",
   "metadata": {},
   "source": [
    "We can conclude that there are no duplicated between columns. So we are good to go."
   ]
  },
  {
   "cell_type": "markdown",
   "id": "11e5ef24",
   "metadata": {},
   "source": [
    "### Are we seeing equal percent of articles under each category?"
   ]
  },
  {
   "cell_type": "code",
   "execution_count": 10,
   "id": "83f03428",
   "metadata": {},
   "outputs": [
    {
     "data": {
      "image/png": "[encoded data removed]",
      "text/plain": [
       "<Figure size 1000x1000 with 1 Axes>"
      ]
     },
     "metadata": {},
     "output_type": "display_data"
    },
    {
     "data": {
      "application/javascript": [
       "\n",
       "            setTimeout(function() {\n",
       "                var nbb_cell_id = 10;\n",
       "                var nbb_unformatted_code = \"# Plot horizontal bar charts to visualize the count of each category:\\n\\nplt.figure(figsize=(10, 10))\\ndf[\\\"category\\\"].value_counts().sort_values().plot(\\n    kind=\\\"barh\\\",\\n)\\nplt.tight_layout()\\nplt.show()\";\n",
       "                var nbb_formatted_code = \"# Plot horizontal bar charts to visualize the count of each category:\\n\\nplt.figure(figsize=(10, 10))\\ndf[\\\"category\\\"].value_counts().sort_values().plot(\\n    kind=\\\"barh\\\",\\n)\\nplt.tight_layout()\\nplt.show()\";\n",
       "                var nbb_cells = Jupyter.notebook.get_cells();\n",
       "                for (var i = 0; i < nbb_cells.length; ++i) {\n",
       "                    if (nbb_cells[i].input_prompt_number == nbb_cell_id) {\n",
       "                        if (nbb_cells[i].get_text() == nbb_unformatted_code) {\n",
       "                             nbb_cells[i].set_text(nbb_formatted_code);\n",
       "                        }\n",
       "                        break;\n",
       "                    }\n",
       "                }\n",
       "            }, 500);\n",
       "            "
      ],
      "text/plain": [
       "<IPython.core.display.Javascript object>"
      ]
     },
     "metadata": {},
     "output_type": "display_data"
    }
   ],
   "source": [
    "# Plot horizontal bar charts to visualize the count of each category:\n",
    "\n",
    "plt.figure(figsize=(10, 10))\n",
    "df[\"category\"].value_counts().sort_values().plot(\n",
    "    kind=\"barh\",\n",
    ")\n",
    "plt.tight_layout()\n",
    "plt.show()"
   ]
  },
  {
   "cell_type": "markdown",
   "id": "b6ec2cd5",
   "metadata": {},
   "source": [
    "As we can see, there are categories that mean similar themes and can be grouped. Example: `SCIENCE` and `TECH` can be grouped to form `SCIENCE AND TECH`"
   ]
  },
  {
   "cell_type": "code",
   "execution_count": 11,
   "id": "772b9f2f",
   "metadata": {},
   "outputs": [
    {
     "data": {
      "text/plain": [
       "42"
      ]
     },
     "execution_count": 11,
     "metadata": {},
     "output_type": "execute_result"
    },
    {
     "data": {
      "application/javascript": [
       "\n",
       "            setTimeout(function() {\n",
       "                var nbb_cell_id = 11;\n",
       "                var nbb_unformatted_code = \"df.groupby(\\\"category\\\").ngroups\";\n",
       "                var nbb_formatted_code = \"df.groupby(\\\"category\\\").ngroups\";\n",
       "                var nbb_cells = Jupyter.notebook.get_cells();\n",
       "                for (var i = 0; i < nbb_cells.length; ++i) {\n",
       "                    if (nbb_cells[i].input_prompt_number == nbb_cell_id) {\n",
       "                        if (nbb_cells[i].get_text() == nbb_unformatted_code) {\n",
       "                             nbb_cells[i].set_text(nbb_formatted_code);\n",
       "                        }\n",
       "                        break;\n",
       "                    }\n",
       "                }\n",
       "            }, 500);\n",
       "            "
      ],
      "text/plain": [
       "<IPython.core.display.Javascript object>"
      ]
     },
     "metadata": {},
     "output_type": "display_data"
    }
   ],
   "source": [
    "df.groupby(\"category\").ngroups"
   ]
  },
  {
   "cell_type": "markdown",
   "id": "f746e173",
   "metadata": {},
   "source": [
    "We can confirm that there are 42 groups in total in the current dataframe. Let's combine the groups that share similar themes in the following section:"
   ]
  },
  {
   "cell_type": "code",
   "execution_count": 12,
   "id": "1d647715",
   "metadata": {},
   "outputs": [
    {
     "data": {
      "text/plain": [
       "(209527, 6)"
      ]
     },
     "execution_count": 12,
     "metadata": {},
     "output_type": "execute_result"
    },
    {
     "data": {
      "application/javascript": [
       "\n",
       "            setTimeout(function() {\n",
       "                var nbb_cell_id = 12;\n",
       "                var nbb_unformatted_code = \"df.shape\";\n",
       "                var nbb_formatted_code = \"df.shape\";\n",
       "                var nbb_cells = Jupyter.notebook.get_cells();\n",
       "                for (var i = 0; i < nbb_cells.length; ++i) {\n",
       "                    if (nbb_cells[i].input_prompt_number == nbb_cell_id) {\n",
       "                        if (nbb_cells[i].get_text() == nbb_unformatted_code) {\n",
       "                             nbb_cells[i].set_text(nbb_formatted_code);\n",
       "                        }\n",
       "                        break;\n",
       "                    }\n",
       "                }\n",
       "            }, 500);\n",
       "            "
      ],
      "text/plain": [
       "<IPython.core.display.Javascript object>"
      ]
     },
     "metadata": {},
     "output_type": "display_data"
    }
   ],
   "source": [
    "df.shape"
   ]
  },
  {
   "cell_type": "code",
   "execution_count": 13,
   "id": "f0755023",
   "metadata": {},
   "outputs": [
    {
     "data": {
      "application/javascript": [
       "\n",
       "            setTimeout(function() {\n",
       "                var nbb_cell_id = 13;\n",
       "                var nbb_unformatted_code = \"df[\\\"category\\\"] = df[\\\"category\\\"].replace(\\n    {\\n        \\\"HEALTHY LIVING\\\": \\\"WELLNESS\\\",\\n        \\n        \\\"QUEER VOICES\\\": \\\"GROUPS VOICES\\\",\\n        \\\"BLACK VOICES\\\": \\\"GROUPS VOICES\\\",\\n        \\\"LATINO VOICES\\\": \\\"GROUPS VOICES\\\",\\n        \\n        \\\"BUSINESS\\\": \\\"BUSINESS & FINANCES\\\",\\n        \\\"MONEY\\\": \\\"BUSINESS & FINANCES\\\",\\n        \\n        \\\"PARENTS\\\": \\\"PARENTING\\\",\\n        \\n        \\\"THE WORLDPOST\\\": \\\"WORLD NEWS\\\",\\n        \\\"WORLDPOST\\\": \\\"WORLD NEWS\\\",\\n        \\n        \\\"STYLE\\\": \\\"STYLE & BEAUTY\\\",\\n        \\n        \\\"GREEN\\\": \\\"ENVIRONMENT\\\",\\n        \\n        \\\"TASTE\\\": \\\"FOOD & DRINK\\\",\\n        \\n        \\n        \\n        \\\"SCIENCE\\\": \\\"SCIENCE & TECH\\\",        \\n        \\\"TECH\\\": \\\"SCIENCE & TECH\\\",\\n        \\n        \\n        \\\"CULTURE & ARTS\\\": \\\"ARTS & CULTURE\\\",\\n        \\\"ARTS\\\": \\\"ARTS & CULTURE\\\",\\n        \\n        \\\"COLLEGE\\\": \\\"EDUCATION\\\",\\n        \\n        \\n        \\n        \\n        \\n        \\\"FIFTY\\\": \\\"MISCELLANEOUS\\\",        \\n        \\\"GOOD NEWS\\\": \\\"MISCELLANEOUS\\\",\\n    }\\n)\";\n",
       "                var nbb_formatted_code = \"df[\\\"category\\\"] = df[\\\"category\\\"].replace(\\n    {\\n        \\\"HEALTHY LIVING\\\": \\\"WELLNESS\\\",\\n        \\\"QUEER VOICES\\\": \\\"GROUPS VOICES\\\",\\n        \\\"BLACK VOICES\\\": \\\"GROUPS VOICES\\\",\\n        \\\"LATINO VOICES\\\": \\\"GROUPS VOICES\\\",\\n        \\\"BUSINESS\\\": \\\"BUSINESS & FINANCES\\\",\\n        \\\"MONEY\\\": \\\"BUSINESS & FINANCES\\\",\\n        \\\"PARENTS\\\": \\\"PARENTING\\\",\\n        \\\"THE WORLDPOST\\\": \\\"WORLD NEWS\\\",\\n        \\\"WORLDPOST\\\": \\\"WORLD NEWS\\\",\\n        \\\"STYLE\\\": \\\"STYLE & BEAUTY\\\",\\n        \\\"GREEN\\\": \\\"ENVIRONMENT\\\",\\n        \\\"TASTE\\\": \\\"FOOD & DRINK\\\",\\n        \\\"SCIENCE\\\": \\\"SCIENCE & TECH\\\",\\n        \\\"TECH\\\": \\\"SCIENCE & TECH\\\",\\n        \\\"CULTURE & ARTS\\\": \\\"ARTS & CULTURE\\\",\\n        \\\"ARTS\\\": \\\"ARTS & CULTURE\\\",\\n        \\\"COLLEGE\\\": \\\"EDUCATION\\\",\\n        \\\"FIFTY\\\": \\\"MISCELLANEOUS\\\",\\n        \\\"GOOD NEWS\\\": \\\"MISCELLANEOUS\\\",\\n    }\\n)\";\n",
       "                var nbb_cells = Jupyter.notebook.get_cells();\n",
       "                for (var i = 0; i < nbb_cells.length; ++i) {\n",
       "                    if (nbb_cells[i].input_prompt_number == nbb_cell_id) {\n",
       "                        if (nbb_cells[i].get_text() == nbb_unformatted_code) {\n",
       "                             nbb_cells[i].set_text(nbb_formatted_code);\n",
       "                        }\n",
       "                        break;\n",
       "                    }\n",
       "                }\n",
       "            }, 500);\n",
       "            "
      ],
      "text/plain": [
       "<IPython.core.display.Javascript object>"
      ]
     },
     "metadata": {},
     "output_type": "display_data"
    }
   ],
   "source": [
    "df[\"category\"] = df[\"category\"].replace(\n",
    "    {\n",
    "        \"HEALTHY LIVING\": \"WELLNESS\",\n",
    "        \"QUEER VOICES\": \"GROUPS VOICES\",\n",
    "        \"BLACK VOICES\": \"GROUPS VOICES\",\n",
    "        \"LATINO VOICES\": \"GROUPS VOICES\",\n",
    "        \"BUSINESS\": \"BUSINESS & FINANCES\",\n",
    "        \"MONEY\": \"BUSINESS & FINANCES\",\n",
    "        \"PARENTS\": \"PARENTING\",\n",
    "        \"THE WORLDPOST\": \"WORLD NEWS\",\n",
    "        \"WORLDPOST\": \"WORLD NEWS\",\n",
    "        \"STYLE\": \"STYLE & BEAUTY\",\n",
    "        \"GREEN\": \"ENVIRONMENT\",\n",
    "        \"TASTE\": \"FOOD & DRINK\",\n",
    "        \"SCIENCE\": \"SCIENCE & TECH\",\n",
    "        \"TECH\": \"SCIENCE & TECH\",\n",
    "        \"CULTURE & ARTS\": \"ARTS & CULTURE\",\n",
    "        \"ARTS\": \"ARTS & CULTURE\",\n",
    "        \"COLLEGE\": \"EDUCATION\",\n",
    "        \"FIFTY\": \"MISCELLANEOUS\",\n",
    "        \"GOOD NEWS\": \"MISCELLANEOUS\",\n",
    "    }\n",
    ")"
   ]
  },
  {
   "cell_type": "code",
   "execution_count": 14,
   "id": "0047639d",
   "metadata": {},
   "outputs": [
    {
     "data": {
      "text/plain": [
       "(209527, 6)"
      ]
     },
     "execution_count": 14,
     "metadata": {},
     "output_type": "execute_result"
    },
    {
     "data": {
      "application/javascript": [
       "\n",
       "            setTimeout(function() {\n",
       "                var nbb_cell_id = 14;\n",
       "                var nbb_unformatted_code = \"df.shape\";\n",
       "                var nbb_formatted_code = \"df.shape\";\n",
       "                var nbb_cells = Jupyter.notebook.get_cells();\n",
       "                for (var i = 0; i < nbb_cells.length; ++i) {\n",
       "                    if (nbb_cells[i].input_prompt_number == nbb_cell_id) {\n",
       "                        if (nbb_cells[i].get_text() == nbb_unformatted_code) {\n",
       "                             nbb_cells[i].set_text(nbb_formatted_code);\n",
       "                        }\n",
       "                        break;\n",
       "                    }\n",
       "                }\n",
       "            }, 500);\n",
       "            "
      ],
      "text/plain": [
       "<IPython.core.display.Javascript object>"
      ]
     },
     "metadata": {},
     "output_type": "display_data"
    }
   ],
   "source": [
    "df.shape"
   ]
  },
  {
   "cell_type": "code",
   "execution_count": 15,
   "id": "1dede4cf",
   "metadata": {},
   "outputs": [
    {
     "data": {
      "text/plain": [
       "27"
      ]
     },
     "execution_count": 15,
     "metadata": {},
     "output_type": "execute_result"
    },
    {
     "data": {
      "application/javascript": [
       "\n",
       "            setTimeout(function() {\n",
       "                var nbb_cell_id = 15;\n",
       "                var nbb_unformatted_code = \"df.groupby(\\\"category\\\").ngroups\";\n",
       "                var nbb_formatted_code = \"df.groupby(\\\"category\\\").ngroups\";\n",
       "                var nbb_cells = Jupyter.notebook.get_cells();\n",
       "                for (var i = 0; i < nbb_cells.length; ++i) {\n",
       "                    if (nbb_cells[i].input_prompt_number == nbb_cell_id) {\n",
       "                        if (nbb_cells[i].get_text() == nbb_unformatted_code) {\n",
       "                             nbb_cells[i].set_text(nbb_formatted_code);\n",
       "                        }\n",
       "                        break;\n",
       "                    }\n",
       "                }\n",
       "            }, 500);\n",
       "            "
      ],
      "text/plain": [
       "<IPython.core.display.Javascript object>"
      ]
     },
     "metadata": {},
     "output_type": "display_data"
    }
   ],
   "source": [
    "df.groupby(\"category\").ngroups"
   ]
  },
  {
   "cell_type": "code",
   "execution_count": 29,
   "id": "6b5e0c01",
   "metadata": {},
   "outputs": [
    {
     "data": {
      "image/png": "[encoded data removed]",
      "text/plain": [
       "<Figure size 1000x1000 with 1 Axes>"
      ]
     },
     "metadata": {},
     "output_type": "display_data"
    },
    {
     "data": {
      "application/javascript": [
       "\n",
       "            setTimeout(function() {\n",
       "                var nbb_cell_id = 29;\n",
       "                var nbb_unformatted_code = \"# Plot horizontal bar charts to visualize the count of each category:\\n\\nplt.figure(figsize=(10, 10))\\ndf[\\\"category\\\"].value_counts().sort_values().plot(\\n    kind=\\\"barh\\\",\\n)\\nplt.tight_layout()\\nplt.show()\";\n",
       "                var nbb_formatted_code = \"# Plot horizontal bar charts to visualize the count of each category:\\n\\nplt.figure(figsize=(10, 10))\\ndf[\\\"category\\\"].value_counts().sort_values().plot(\\n    kind=\\\"barh\\\",\\n)\\nplt.tight_layout()\\nplt.show()\";\n",
       "                var nbb_cells = Jupyter.notebook.get_cells();\n",
       "                for (var i = 0; i < nbb_cells.length; ++i) {\n",
       "                    if (nbb_cells[i].input_prompt_number == nbb_cell_id) {\n",
       "                        if (nbb_cells[i].get_text() == nbb_unformatted_code) {\n",
       "                             nbb_cells[i].set_text(nbb_formatted_code);\n",
       "                        }\n",
       "                        break;\n",
       "                    }\n",
       "                }\n",
       "            }, 500);\n",
       "            "
      ],
      "text/plain": [
       "<IPython.core.display.Javascript object>"
      ]
     },
     "metadata": {},
     "output_type": "display_data"
    }
   ],
   "source": [
    "# Plot horizontal bar charts to visualize the count of each category:\n",
    "\n",
    "plt.figure(figsize=(10, 10))\n",
    "df[\"category\"].value_counts().sort_values().plot(\n",
    "    kind=\"barh\",\n",
    ")\n",
    "plt.tight_layout()\n",
    "plt.show()"
   ]
  },
  {
   "cell_type": "code",
   "execution_count": null,
   "id": "87544531",
   "metadata": {},
   "outputs": [],
   "source": []
  },
  {
   "cell_type": "markdown",
   "id": "ebe01e72",
   "metadata": {},
   "source": [
    "Politics has the highest number of articles followed by Wellness and Entertainment. On the contrary, Religion, Education, and U.S. news have the least number of articles among all the categories."
   ]
  },
  {
   "cell_type": "code",
   "execution_count": null,
   "id": "d66fdb8a",
   "metadata": {},
   "outputs": [],
   "source": []
  },
  {
   "cell_type": "code",
   "execution_count": null,
   "id": "ba841850",
   "metadata": {},
   "outputs": [],
   "source": []
  },
  {
   "cell_type": "code",
   "execution_count": 28,
   "id": "92d2633f",
   "metadata": {
    "scrolled": true
   },
   "outputs": [
    {
     "data": {
      "text/plain": [
       "POLITICS          35602\n",
       "WELLNESS          24639\n",
       "ENTERTAINMENT     17362\n",
       "PARENTING         12746\n",
       "STYLE & BEAUTY    12068\n",
       "Name: category, dtype: int64"
      ]
     },
     "execution_count": 28,
     "metadata": {},
     "output_type": "execute_result"
    },
    {
     "data": {
      "application/javascript": [
       "\n",
       "            setTimeout(function() {\n",
       "                var nbb_cell_id = 28;\n",
       "                var nbb_unformatted_code = \"df[\\\"category\\\"].value_counts().sort_values(ascending=False).head(5)\";\n",
       "                var nbb_formatted_code = \"df[\\\"category\\\"].value_counts().sort_values(ascending=False).head(5)\";\n",
       "                var nbb_cells = Jupyter.notebook.get_cells();\n",
       "                for (var i = 0; i < nbb_cells.length; ++i) {\n",
       "                    if (nbb_cells[i].input_prompt_number == nbb_cell_id) {\n",
       "                        if (nbb_cells[i].get_text() == nbb_unformatted_code) {\n",
       "                             nbb_cells[i].set_text(nbb_formatted_code);\n",
       "                        }\n",
       "                        break;\n",
       "                    }\n",
       "                }\n",
       "            }, 500);\n",
       "            "
      ],
      "text/plain": [
       "<IPython.core.display.Javascript object>"
      ]
     },
     "metadata": {},
     "output_type": "display_data"
    }
   ],
   "source": [
    "df[\"category\"].value_counts().sort_values(ascending=False).head(5)"
   ]
  },
  {
   "cell_type": "markdown",
   "id": "72a84750",
   "metadata": {},
   "source": [
    "### Are the authors equally popular?"
   ]
  },
  {
   "cell_type": "code",
   "execution_count": 30,
   "id": "5cab7cb5",
   "metadata": {},
   "outputs": [
    {
     "data": {
      "text/plain": [
       "                                                                          37418\n",
       "Lee Moran                                                                  2954\n",
       "Ron Dicker                                                                 2219\n",
       "Ed Mazza                                                                   1590\n",
       "Mary Papenfuss                                                             1566\n",
       "                                                                          ...  \n",
       "Holly Ramer, Associated Press                                                 1\n",
       "Gina Carey, The Huffington Post                                               1\n",
       "Randall Chase, Associated Press                                               1\n",
       "Stephen Ohlemacher, AP                                                        1\n",
       "John Giacobbi, Contributor\\nTales from the Interweb by The Web Sheriff        1\n",
       "Name: authors, Length: 29169, dtype: int64"
      ]
     },
     "execution_count": 30,
     "metadata": {},
     "output_type": "execute_result"
    },
    {
     "data": {
      "application/javascript": [
       "\n",
       "            setTimeout(function() {\n",
       "                var nbb_cell_id = 30;\n",
       "                var nbb_unformatted_code = \"df[\\\"authors\\\"].value_counts()\";\n",
       "                var nbb_formatted_code = \"df[\\\"authors\\\"].value_counts()\";\n",
       "                var nbb_cells = Jupyter.notebook.get_cells();\n",
       "                for (var i = 0; i < nbb_cells.length; ++i) {\n",
       "                    if (nbb_cells[i].input_prompt_number == nbb_cell_id) {\n",
       "                        if (nbb_cells[i].get_text() == nbb_unformatted_code) {\n",
       "                             nbb_cells[i].set_text(nbb_formatted_code);\n",
       "                        }\n",
       "                        break;\n",
       "                    }\n",
       "                }\n",
       "            }, 500);\n",
       "            "
      ],
      "text/plain": [
       "<IPython.core.display.Javascript object>"
      ]
     },
     "metadata": {},
     "output_type": "display_data"
    }
   ],
   "source": [
    "df[\"authors\"].value_counts()"
   ]
  },
  {
   "cell_type": "code",
   "execution_count": 18,
   "id": "7ea5d1b4",
   "metadata": {},
   "outputs": [
    {
     "data": {
      "text/html": [
       "<div>\n",
       "<style scoped>\n",
       "    .dataframe tbody tr th:only-of-type {\n",
       "        vertical-align: middle;\n",
       "    }\n",
       "\n",
       "    .dataframe tbody tr th {\n",
       "        vertical-align: top;\n",
       "    }\n",
       "\n",
       "    .dataframe thead th {\n",
       "        text-align: right;\n",
       "    }\n",
       "</style>\n",
       "<table border=\"1\" class=\"dataframe\">\n",
       "  <thead>\n",
       "    <tr style=\"text-align: right;\">\n",
       "      <th></th>\n",
       "      <th>link</th>\n",
       "      <th>headline</th>\n",
       "      <th>category</th>\n",
       "      <th>short_description</th>\n",
       "      <th>authors</th>\n",
       "      <th>date</th>\n",
       "    </tr>\n",
       "  </thead>\n",
       "  <tbody>\n",
       "    <tr>\n",
       "      <th>5</th>\n",
       "      <td>https://www.huffpost.com/entry/belk-worker-fou...</td>\n",
       "      <td>Cleaner Was Dead In Belk Bathroom For 4 Days B...</td>\n",
       "      <td>U.S. NEWS</td>\n",
       "      <td>The 63-year-old woman was seen working at the ...</td>\n",
       "      <td></td>\n",
       "      <td>2022-09-22</td>\n",
       "    </tr>\n",
       "    <tr>\n",
       "      <th>20</th>\n",
       "      <td>https://www.huffpost.com/entry/golden-globes-r...</td>\n",
       "      <td>Golden Globes Returning To NBC In January Afte...</td>\n",
       "      <td>ENTERTAINMENT</td>\n",
       "      <td>For the past 18 months, Hollywood has effectiv...</td>\n",
       "      <td></td>\n",
       "      <td>2022-09-20</td>\n",
       "    </tr>\n",
       "    <tr>\n",
       "      <th>21</th>\n",
       "      <td>https://www.huffpost.com/entry/biden-us-forces...</td>\n",
       "      <td>Biden Says U.S. Forces Would Defend Taiwan If ...</td>\n",
       "      <td>POLITICS</td>\n",
       "      <td>President issues vow as tensions with China rise.</td>\n",
       "      <td></td>\n",
       "      <td>2022-09-19</td>\n",
       "    </tr>\n",
       "    <tr>\n",
       "      <th>31</th>\n",
       "      <td>https://www.huffpost.com/entry/2020-census-fal...</td>\n",
       "      <td>Watchdog Report Finds Some Census Takers Who F...</td>\n",
       "      <td>U.S. NEWS</td>\n",
       "      <td>Despite entering false information, their work...</td>\n",
       "      <td></td>\n",
       "      <td>2022-09-18</td>\n",
       "    </tr>\n",
       "    <tr>\n",
       "      <th>38</th>\n",
       "      <td>https://www.huffpost.com/entry/african-land-sn...</td>\n",
       "      <td>German Customs Officials Follow Trail Of Slime...</td>\n",
       "      <td>WEIRD NEWS</td>\n",
       "      <td>“Never in the history of the Duesseldorf custo...</td>\n",
       "      <td></td>\n",
       "      <td>2022-09-16</td>\n",
       "    </tr>\n",
       "    <tr>\n",
       "      <th>...</th>\n",
       "      <td>...</td>\n",
       "      <td>...</td>\n",
       "      <td>...</td>\n",
       "      <td>...</td>\n",
       "      <td>...</td>\n",
       "      <td>...</td>\n",
       "    </tr>\n",
       "    <tr>\n",
       "      <th>209520</th>\n",
       "      <td>https://www.huffingtonpost.comhttp://www.engad...</td>\n",
       "      <td>First White House Chief Technology Officer, An...</td>\n",
       "      <td>SCIENCE &amp; TECH</td>\n",
       "      <td>He was appointed with a fair bit of fanfare as...</td>\n",
       "      <td></td>\n",
       "      <td>2012-01-28</td>\n",
       "    </tr>\n",
       "    <tr>\n",
       "      <th>209523</th>\n",
       "      <td>https://www.huffingtonpost.com/entry/maria-sha...</td>\n",
       "      <td>Maria Sharapova Stunned By Victoria Azarenka I...</td>\n",
       "      <td>SPORTS</td>\n",
       "      <td>Afterward, Azarenka, more effusive with the pr...</td>\n",
       "      <td></td>\n",
       "      <td>2012-01-28</td>\n",
       "    </tr>\n",
       "    <tr>\n",
       "      <th>209524</th>\n",
       "      <td>https://www.huffingtonpost.com/entry/super-bow...</td>\n",
       "      <td>Giants Over Patriots, Jets Over Colts Among  M...</td>\n",
       "      <td>SPORTS</td>\n",
       "      <td>Leading up to Super Bowl XLVI, the most talked...</td>\n",
       "      <td></td>\n",
       "      <td>2012-01-28</td>\n",
       "    </tr>\n",
       "    <tr>\n",
       "      <th>209525</th>\n",
       "      <td>https://www.huffingtonpost.com/entry/aldon-smi...</td>\n",
       "      <td>Aldon Smith Arrested: 49ers Linebacker Busted ...</td>\n",
       "      <td>SPORTS</td>\n",
       "      <td>CORRECTION: An earlier version of this story i...</td>\n",
       "      <td></td>\n",
       "      <td>2012-01-28</td>\n",
       "    </tr>\n",
       "    <tr>\n",
       "      <th>209526</th>\n",
       "      <td>https://www.huffingtonpost.com/entry/dwight-ho...</td>\n",
       "      <td>Dwight Howard Rips Teammates After Magic Loss ...</td>\n",
       "      <td>SPORTS</td>\n",
       "      <td>The five-time all-star center tore into his te...</td>\n",
       "      <td></td>\n",
       "      <td>2012-01-28</td>\n",
       "    </tr>\n",
       "  </tbody>\n",
       "</table>\n",
       "<p>37418 rows × 6 columns</p>\n",
       "</div>"
      ],
      "text/plain": [
       "                                                     link  \\\n",
       "5       https://www.huffpost.com/entry/belk-worker-fou...   \n",
       "20      https://www.huffpost.com/entry/golden-globes-r...   \n",
       "21      https://www.huffpost.com/entry/biden-us-forces...   \n",
       "31      https://www.huffpost.com/entry/2020-census-fal...   \n",
       "38      https://www.huffpost.com/entry/african-land-sn...   \n",
       "...                                                   ...   \n",
       "209520  https://www.huffingtonpost.comhttp://www.engad...   \n",
       "209523  https://www.huffingtonpost.com/entry/maria-sha...   \n",
       "209524  https://www.huffingtonpost.com/entry/super-bow...   \n",
       "209525  https://www.huffingtonpost.com/entry/aldon-smi...   \n",
       "209526  https://www.huffingtonpost.com/entry/dwight-ho...   \n",
       "\n",
       "                                                 headline        category  \\\n",
       "5       Cleaner Was Dead In Belk Bathroom For 4 Days B...       U.S. NEWS   \n",
       "20      Golden Globes Returning To NBC In January Afte...   ENTERTAINMENT   \n",
       "21      Biden Says U.S. Forces Would Defend Taiwan If ...        POLITICS   \n",
       "31      Watchdog Report Finds Some Census Takers Who F...       U.S. NEWS   \n",
       "38      German Customs Officials Follow Trail Of Slime...      WEIRD NEWS   \n",
       "...                                                   ...             ...   \n",
       "209520  First White House Chief Technology Officer, An...  SCIENCE & TECH   \n",
       "209523  Maria Sharapova Stunned By Victoria Azarenka I...          SPORTS   \n",
       "209524  Giants Over Patriots, Jets Over Colts Among  M...          SPORTS   \n",
       "209525  Aldon Smith Arrested: 49ers Linebacker Busted ...          SPORTS   \n",
       "209526  Dwight Howard Rips Teammates After Magic Loss ...          SPORTS   \n",
       "\n",
       "                                        short_description authors       date  \n",
       "5       The 63-year-old woman was seen working at the ...         2022-09-22  \n",
       "20      For the past 18 months, Hollywood has effectiv...         2022-09-20  \n",
       "21      President issues vow as tensions with China rise.         2022-09-19  \n",
       "31      Despite entering false information, their work...         2022-09-18  \n",
       "38      “Never in the history of the Duesseldorf custo...         2022-09-16  \n",
       "...                                                   ...     ...        ...  \n",
       "209520  He was appointed with a fair bit of fanfare as...         2012-01-28  \n",
       "209523  Afterward, Azarenka, more effusive with the pr...         2012-01-28  \n",
       "209524  Leading up to Super Bowl XLVI, the most talked...         2012-01-28  \n",
       "209525  CORRECTION: An earlier version of this story i...         2012-01-28  \n",
       "209526  The five-time all-star center tore into his te...         2012-01-28  \n",
       "\n",
       "[37418 rows x 6 columns]"
      ]
     },
     "execution_count": 18,
     "metadata": {},
     "output_type": "execute_result"
    },
    {
     "data": {
      "application/javascript": [
       "\n",
       "            setTimeout(function() {\n",
       "                var nbb_cell_id = 18;\n",
       "                var nbb_unformatted_code = \"# We are seeing 37418 rows without author information. So why is that?\\n\\ndf[df[\\\"authors\\\"] == \\\"\\\"]\";\n",
       "                var nbb_formatted_code = \"# We are seeing 37418 rows without author information. So why is that?\\n\\ndf[df[\\\"authors\\\"] == \\\"\\\"]\";\n",
       "                var nbb_cells = Jupyter.notebook.get_cells();\n",
       "                for (var i = 0; i < nbb_cells.length; ++i) {\n",
       "                    if (nbb_cells[i].input_prompt_number == nbb_cell_id) {\n",
       "                        if (nbb_cells[i].get_text() == nbb_unformatted_code) {\n",
       "                             nbb_cells[i].set_text(nbb_formatted_code);\n",
       "                        }\n",
       "                        break;\n",
       "                    }\n",
       "                }\n",
       "            }, 500);\n",
       "            "
      ],
      "text/plain": [
       "<IPython.core.display.Javascript object>"
      ]
     },
     "metadata": {},
     "output_type": "display_data"
    }
   ],
   "source": [
    "# We are seeing 37418 rows without author information. So why is that?\n",
    "\n",
    "df[df[\"authors\"] == \"\"]"
   ]
  },
  {
   "cell_type": "markdown",
   "id": "eff0b8be",
   "metadata": {},
   "source": [
    "Politics has twice the number of articles compared to the second-highest category, which is Wellness. Following that, Entertainment takes the third position. On the contrary, Education, Culture & Arts, and Latino Voices have the least number of articles among all the categories."
   ]
  },
  {
   "cell_type": "code",
   "execution_count": 19,
   "id": "4d1fcacf",
   "metadata": {},
   "outputs": [
    {
     "data": {
      "application/javascript": [
       "\n",
       "            setTimeout(function() {\n",
       "                var nbb_cell_id = 19;\n",
       "                var nbb_unformatted_code = \"# creating a new dataframe \\\"df_authors\\\" to analyze the authors\\n\\n# this dataset doesnt contain any blank space for authors.\\n\\ndf_authors = df[df[\\\"authors\\\"] != \\\"\\\"]\";\n",
       "                var nbb_formatted_code = \"# creating a new dataframe \\\"df_authors\\\" to analyze the authors\\n\\n# this dataset doesnt contain any blank space for authors.\\n\\ndf_authors = df[df[\\\"authors\\\"] != \\\"\\\"]\";\n",
       "                var nbb_cells = Jupyter.notebook.get_cells();\n",
       "                for (var i = 0; i < nbb_cells.length; ++i) {\n",
       "                    if (nbb_cells[i].input_prompt_number == nbb_cell_id) {\n",
       "                        if (nbb_cells[i].get_text() == nbb_unformatted_code) {\n",
       "                             nbb_cells[i].set_text(nbb_formatted_code);\n",
       "                        }\n",
       "                        break;\n",
       "                    }\n",
       "                }\n",
       "            }, 500);\n",
       "            "
      ],
      "text/plain": [
       "<IPython.core.display.Javascript object>"
      ]
     },
     "metadata": {},
     "output_type": "display_data"
    }
   ],
   "source": [
    "# creating a new dataframe \"df_authors\" to analyze the authors\n",
    "\n",
    "# this dataset doesnt contain any blank space for authors.\n",
    "\n",
    "df_authors = df[df[\"authors\"] != \"\"]"
   ]
  },
  {
   "cell_type": "code",
   "execution_count": 20,
   "id": "39cf0f6a",
   "metadata": {},
   "outputs": [
    {
     "data": {
      "text/plain": [
       "(172109, 6)"
      ]
     },
     "execution_count": 20,
     "metadata": {},
     "output_type": "execute_result"
    },
    {
     "data": {
      "application/javascript": [
       "\n",
       "            setTimeout(function() {\n",
       "                var nbb_cell_id = 20;\n",
       "                var nbb_unformatted_code = \"# How many rows of data do we have with authors information:\\n\\ndf_authors.shape\";\n",
       "                var nbb_formatted_code = \"# How many rows of data do we have with authors information:\\n\\ndf_authors.shape\";\n",
       "                var nbb_cells = Jupyter.notebook.get_cells();\n",
       "                for (var i = 0; i < nbb_cells.length; ++i) {\n",
       "                    if (nbb_cells[i].input_prompt_number == nbb_cell_id) {\n",
       "                        if (nbb_cells[i].get_text() == nbb_unformatted_code) {\n",
       "                             nbb_cells[i].set_text(nbb_formatted_code);\n",
       "                        }\n",
       "                        break;\n",
       "                    }\n",
       "                }\n",
       "            }, 500);\n",
       "            "
      ],
      "text/plain": [
       "<IPython.core.display.Javascript object>"
      ]
     },
     "metadata": {},
     "output_type": "display_data"
    }
   ],
   "source": [
    "# How many rows of data do we have with authors information:\n",
    "\n",
    "df_authors.shape"
   ]
  },
  {
   "cell_type": "code",
   "execution_count": 21,
   "id": "005bb4ba",
   "metadata": {},
   "outputs": [
    {
     "data": {
      "text/plain": [
       "Lee Moran           2954\n",
       "Ron Dicker          2219\n",
       "Ed Mazza            1590\n",
       "Mary Papenfuss      1566\n",
       "Reuters, Reuters    1563\n",
       "Cole Delbyck        1266\n",
       "Carly Ledbetter     1170\n",
       "Curtis M. Wong      1146\n",
       "Andy McDonald       1100\n",
       "David Moye          1067\n",
       "Name: authors, dtype: int64"
      ]
     },
     "execution_count": 21,
     "metadata": {},
     "output_type": "execute_result"
    },
    {
     "data": {
      "application/javascript": [
       "\n",
       "            setTimeout(function() {\n",
       "                var nbb_cell_id = 21;\n",
       "                var nbb_unformatted_code = \"df_authors[\\\"authors\\\"].value_counts().sort_values(ascending=False).head(10)\";\n",
       "                var nbb_formatted_code = \"df_authors[\\\"authors\\\"].value_counts().sort_values(ascending=False).head(10)\";\n",
       "                var nbb_cells = Jupyter.notebook.get_cells();\n",
       "                for (var i = 0; i < nbb_cells.length; ++i) {\n",
       "                    if (nbb_cells[i].input_prompt_number == nbb_cell_id) {\n",
       "                        if (nbb_cells[i].get_text() == nbb_unformatted_code) {\n",
       "                             nbb_cells[i].set_text(nbb_formatted_code);\n",
       "                        }\n",
       "                        break;\n",
       "                    }\n",
       "                }\n",
       "            }, 500);\n",
       "            "
      ],
      "text/plain": [
       "<IPython.core.display.Javascript object>"
      ]
     },
     "metadata": {},
     "output_type": "display_data"
    }
   ],
   "source": [
    "df_authors[\"authors\"].value_counts().sort_values(ascending=False).head(10)"
   ]
  },
  {
   "cell_type": "code",
   "execution_count": 22,
   "id": "48cbec4c",
   "metadata": {
    "scrolled": true
   },
   "outputs": [
    {
     "data": {
      "image/png": "[encoded data removed]",
      "text/plain": [
       "<Figure size 1000x1000 with 1 Axes>"
      ]
     },
     "metadata": {},
     "output_type": "display_data"
    },
    {
     "data": {
      "application/javascript": [
       "\n",
       "            setTimeout(function() {\n",
       "                var nbb_cell_id = 22;\n",
       "                var nbb_unformatted_code = \"# Plot horizontal bar charts to visualize the count of each category:\\n\\nplt.figure(figsize=(10, 10))\\ndf_authors[\\\"authors\\\"].value_counts().sort_values(ascending=True).tail(10).plot(\\n    kind=\\\"barh\\\"\\n)\\nplt.tight_layout()\\nplt.show()\";\n",
       "                var nbb_formatted_code = \"# Plot horizontal bar charts to visualize the count of each category:\\n\\nplt.figure(figsize=(10, 10))\\ndf_authors[\\\"authors\\\"].value_counts().sort_values(ascending=True).tail(10).plot(\\n    kind=\\\"barh\\\"\\n)\\nplt.tight_layout()\\nplt.show()\";\n",
       "                var nbb_cells = Jupyter.notebook.get_cells();\n",
       "                for (var i = 0; i < nbb_cells.length; ++i) {\n",
       "                    if (nbb_cells[i].input_prompt_number == nbb_cell_id) {\n",
       "                        if (nbb_cells[i].get_text() == nbb_unformatted_code) {\n",
       "                             nbb_cells[i].set_text(nbb_formatted_code);\n",
       "                        }\n",
       "                        break;\n",
       "                    }\n",
       "                }\n",
       "            }, 500);\n",
       "            "
      ],
      "text/plain": [
       "<IPython.core.display.Javascript object>"
      ]
     },
     "metadata": {},
     "output_type": "display_data"
    }
   ],
   "source": [
    "# Plot horizontal bar charts to visualize the count of each category:\n",
    "\n",
    "plt.figure(figsize=(10, 10))\n",
    "df_authors[\"authors\"].value_counts().sort_values(ascending=True).tail(10).plot(\n",
    "    kind=\"barh\"\n",
    ")\n",
    "plt.tight_layout()\n",
    "plt.show()"
   ]
  },
  {
   "cell_type": "markdown",
   "id": "15859921",
   "metadata": {},
   "source": [
    "Among the authors, Lee Moran, Ron Dicker, and Ed Mazza stand out as the top three article writers, with 2954, 2219, and 1590 articles respectively."
   ]
  },
  {
   "cell_type": "markdown",
   "id": "32b5f8ef",
   "metadata": {},
   "source": [
    "### Deriving month to understand trends by month"
   ]
  },
  {
   "cell_type": "code",
   "execution_count": 23,
   "id": "7398a88d",
   "metadata": {},
   "outputs": [
    {
     "data": {
      "text/plain": [
       "0         9\n",
       "1         9\n",
       "2         9\n",
       "3         9\n",
       "4         9\n",
       "         ..\n",
       "209522    1\n",
       "209523    1\n",
       "209524    1\n",
       "209525    1\n",
       "209526    1\n",
       "Name: date, Length: 209527, dtype: int64"
      ]
     },
     "execution_count": 23,
     "metadata": {},
     "output_type": "execute_result"
    },
    {
     "data": {
      "application/javascript": [
       "\n",
       "            setTimeout(function() {\n",
       "                var nbb_cell_id = 23;\n",
       "                var nbb_unformatted_code = \"# Deriving month from date\\n\\ndf[\\\"date\\\"].dt.month\";\n",
       "                var nbb_formatted_code = \"# Deriving month from date\\n\\ndf[\\\"date\\\"].dt.month\";\n",
       "                var nbb_cells = Jupyter.notebook.get_cells();\n",
       "                for (var i = 0; i < nbb_cells.length; ++i) {\n",
       "                    if (nbb_cells[i].input_prompt_number == nbb_cell_id) {\n",
       "                        if (nbb_cells[i].get_text() == nbb_unformatted_code) {\n",
       "                             nbb_cells[i].set_text(nbb_formatted_code);\n",
       "                        }\n",
       "                        break;\n",
       "                    }\n",
       "                }\n",
       "            }, 500);\n",
       "            "
      ],
      "text/plain": [
       "<IPython.core.display.Javascript object>"
      ]
     },
     "metadata": {},
     "output_type": "display_data"
    }
   ],
   "source": [
    "# Deriving month from date\n",
    "\n",
    "df[\"date\"].dt.month"
   ]
  },
  {
   "cell_type": "code",
   "execution_count": 24,
   "id": "d069c8fe",
   "metadata": {},
   "outputs": [
    {
     "data": {
      "application/javascript": [
       "\n",
       "            setTimeout(function() {\n",
       "                var nbb_cell_id = 24;\n",
       "                var nbb_unformatted_code = \"# Creating a new column to have the derived month\\n\\ndf[\\\"month_num\\\"] = df[\\\"date\\\"].dt.month\";\n",
       "                var nbb_formatted_code = \"# Creating a new column to have the derived month\\n\\ndf[\\\"month_num\\\"] = df[\\\"date\\\"].dt.month\";\n",
       "                var nbb_cells = Jupyter.notebook.get_cells();\n",
       "                for (var i = 0; i < nbb_cells.length; ++i) {\n",
       "                    if (nbb_cells[i].input_prompt_number == nbb_cell_id) {\n",
       "                        if (nbb_cells[i].get_text() == nbb_unformatted_code) {\n",
       "                             nbb_cells[i].set_text(nbb_formatted_code);\n",
       "                        }\n",
       "                        break;\n",
       "                    }\n",
       "                }\n",
       "            }, 500);\n",
       "            "
      ],
      "text/plain": [
       "<IPython.core.display.Javascript object>"
      ]
     },
     "metadata": {},
     "output_type": "display_data"
    }
   ],
   "source": [
    "# Creating a new column to have the derived month\n",
    "\n",
    "df[\"month_num\"] = df[\"date\"].dt.month"
   ]
  },
  {
   "cell_type": "code",
   "execution_count": 25,
   "id": "846c7894",
   "metadata": {},
   "outputs": [
    {
     "data": {
      "text/plain": [
       "3     19099\n",
       "5     18627\n",
       "4     18293\n",
       "2     17879\n",
       "8     17397\n",
       "7     17297\n",
       "10    17221\n",
       "1     17162\n",
       "6     16977\n",
       "9     16590\n",
       "12    16531\n",
       "11    16454\n",
       "Name: month_num, dtype: int64"
      ]
     },
     "execution_count": 25,
     "metadata": {},
     "output_type": "execute_result"
    },
    {
     "data": {
      "application/javascript": [
       "\n",
       "            setTimeout(function() {\n",
       "                var nbb_cell_id = 25;\n",
       "                var nbb_unformatted_code = \"df[\\\"month_num\\\"].value_counts()\";\n",
       "                var nbb_formatted_code = \"df[\\\"month_num\\\"].value_counts()\";\n",
       "                var nbb_cells = Jupyter.notebook.get_cells();\n",
       "                for (var i = 0; i < nbb_cells.length; ++i) {\n",
       "                    if (nbb_cells[i].input_prompt_number == nbb_cell_id) {\n",
       "                        if (nbb_cells[i].get_text() == nbb_unformatted_code) {\n",
       "                             nbb_cells[i].set_text(nbb_formatted_code);\n",
       "                        }\n",
       "                        break;\n",
       "                    }\n",
       "                }\n",
       "            }, 500);\n",
       "            "
      ],
      "text/plain": [
       "<IPython.core.display.Javascript object>"
      ]
     },
     "metadata": {},
     "output_type": "display_data"
    }
   ],
   "source": [
    "df[\"month_num\"].value_counts()"
   ]
  },
  {
   "cell_type": "markdown",
   "id": "ee6324ca",
   "metadata": {},
   "source": [
    "March is the month with the highest number of articles."
   ]
  },
  {
   "cell_type": "code",
   "execution_count": 81,
   "id": "8d1704bf",
   "metadata": {},
   "outputs": [
    {
     "data": {
      "application/javascript": [
       "\n",
       "            setTimeout(function() {\n",
       "                var nbb_cell_id = 81;\n",
       "                var nbb_unformatted_code = \"trial = df.groupby([\\\"month_num\\\", \\\"category\\\"]).count().unstack()\";\n",
       "                var nbb_formatted_code = \"trial = df.groupby([\\\"month_num\\\", \\\"category\\\"]).count().unstack()\";\n",
       "                var nbb_cells = Jupyter.notebook.get_cells();\n",
       "                for (var i = 0; i < nbb_cells.length; ++i) {\n",
       "                    if (nbb_cells[i].input_prompt_number == nbb_cell_id) {\n",
       "                        if (nbb_cells[i].get_text() == nbb_unformatted_code) {\n",
       "                             nbb_cells[i].set_text(nbb_formatted_code);\n",
       "                        }\n",
       "                        break;\n",
       "                    }\n",
       "                }\n",
       "            }, 500);\n",
       "            "
      ],
      "text/plain": [
       "<IPython.core.display.Javascript object>"
      ]
     },
     "metadata": {},
     "output_type": "display_data"
    }
   ],
   "source": [
    "trial = df.groupby([\"month_num\", \"category\"]).count().unstack()"
   ]
  },
  {
   "cell_type": "code",
   "execution_count": 82,
   "id": "ddcd3e00",
   "metadata": {},
   "outputs": [
    {
     "data": {
      "text/html": [
       "<div>\n",
       "<style scoped>\n",
       "    .dataframe tbody tr th:only-of-type {\n",
       "        vertical-align: middle;\n",
       "    }\n",
       "\n",
       "    .dataframe tbody tr th {\n",
       "        vertical-align: top;\n",
       "    }\n",
       "\n",
       "    .dataframe thead th {\n",
       "        text-align: right;\n",
       "    }\n",
       "</style>\n",
       "<table border=\"1\" class=\"dataframe\">\n",
       "  <thead>\n",
       "    <tr style=\"text-align: right;\">\n",
       "      <th>category</th>\n",
       "      <th>ARTS &amp; CULTURE</th>\n",
       "      <th>BUSINESS &amp; FINANCES</th>\n",
       "      <th>COMEDY</th>\n",
       "      <th>CRIME</th>\n",
       "      <th>DIVORCE</th>\n",
       "      <th>EDUCATION</th>\n",
       "      <th>ENTERTAINMENT</th>\n",
       "      <th>ENVIRONMENT</th>\n",
       "      <th>FOOD &amp; DRINK</th>\n",
       "      <th>GROUPS VOICES</th>\n",
       "      <th>...</th>\n",
       "      <th>SCIENCE &amp; TECH</th>\n",
       "      <th>SPORTS</th>\n",
       "      <th>STYLE &amp; BEAUTY</th>\n",
       "      <th>TRAVEL</th>\n",
       "      <th>U.S. NEWS</th>\n",
       "      <th>WEDDINGS</th>\n",
       "      <th>WEIRD NEWS</th>\n",
       "      <th>WELLNESS</th>\n",
       "      <th>WOMEN</th>\n",
       "      <th>WORLD NEWS</th>\n",
       "    </tr>\n",
       "    <tr>\n",
       "      <th>month_num</th>\n",
       "      <th></th>\n",
       "      <th></th>\n",
       "      <th></th>\n",
       "      <th></th>\n",
       "      <th></th>\n",
       "      <th></th>\n",
       "      <th></th>\n",
       "      <th></th>\n",
       "      <th></th>\n",
       "      <th></th>\n",
       "      <th></th>\n",
       "      <th></th>\n",
       "      <th></th>\n",
       "      <th></th>\n",
       "      <th></th>\n",
       "      <th></th>\n",
       "      <th></th>\n",
       "      <th></th>\n",
       "      <th></th>\n",
       "      <th></th>\n",
       "      <th></th>\n",
       "    </tr>\n",
       "  </thead>\n",
       "  <tbody>\n",
       "    <tr>\n",
       "      <th>1</th>\n",
       "      <td>296</td>\n",
       "      <td>554</td>\n",
       "      <td>462</td>\n",
       "      <td>309</td>\n",
       "      <td>250</td>\n",
       "      <td>139</td>\n",
       "      <td>1602</td>\n",
       "      <td>303</td>\n",
       "      <td>709</td>\n",
       "      <td>1018</td>\n",
       "      <td>...</td>\n",
       "      <td>360</td>\n",
       "      <td>452</td>\n",
       "      <td>841</td>\n",
       "      <td>794</td>\n",
       "      <td>68</td>\n",
       "      <td>246</td>\n",
       "      <td>272</td>\n",
       "      <td>2007</td>\n",
       "      <td>303</td>\n",
       "      <td>765</td>\n",
       "    </tr>\n",
       "    <tr>\n",
       "      <th>2</th>\n",
       "      <td>291</td>\n",
       "      <td>540</td>\n",
       "      <td>473</td>\n",
       "      <td>244</td>\n",
       "      <td>314</td>\n",
       "      <td>141</td>\n",
       "      <td>1386</td>\n",
       "      <td>275</td>\n",
       "      <td>810</td>\n",
       "      <td>1012</td>\n",
       "      <td>...</td>\n",
       "      <td>395</td>\n",
       "      <td>578</td>\n",
       "      <td>1423</td>\n",
       "      <td>872</td>\n",
       "      <td>157</td>\n",
       "      <td>362</td>\n",
       "      <td>197</td>\n",
       "      <td>2281</td>\n",
       "      <td>244</td>\n",
       "      <td>660</td>\n",
       "    </tr>\n",
       "    <tr>\n",
       "      <th>3</th>\n",
       "      <td>381</td>\n",
       "      <td>738</td>\n",
       "      <td>518</td>\n",
       "      <td>287</td>\n",
       "      <td>361</td>\n",
       "      <td>113</td>\n",
       "      <td>1457</td>\n",
       "      <td>300</td>\n",
       "      <td>876</td>\n",
       "      <td>1033</td>\n",
       "      <td>...</td>\n",
       "      <td>395</td>\n",
       "      <td>355</td>\n",
       "      <td>1280</td>\n",
       "      <td>1060</td>\n",
       "      <td>179</td>\n",
       "      <td>401</td>\n",
       "      <td>204</td>\n",
       "      <td>2531</td>\n",
       "      <td>326</td>\n",
       "      <td>765</td>\n",
       "    </tr>\n",
       "    <tr>\n",
       "      <th>4</th>\n",
       "      <td>382</td>\n",
       "      <td>753</td>\n",
       "      <td>450</td>\n",
       "      <td>295</td>\n",
       "      <td>355</td>\n",
       "      <td>217</td>\n",
       "      <td>1406</td>\n",
       "      <td>362</td>\n",
       "      <td>731</td>\n",
       "      <td>959</td>\n",
       "      <td>...</td>\n",
       "      <td>355</td>\n",
       "      <td>300</td>\n",
       "      <td>1202</td>\n",
       "      <td>930</td>\n",
       "      <td>97</td>\n",
       "      <td>395</td>\n",
       "      <td>239</td>\n",
       "      <td>2262</td>\n",
       "      <td>337</td>\n",
       "      <td>792</td>\n",
       "    </tr>\n",
       "    <tr>\n",
       "      <th>5</th>\n",
       "      <td>417</td>\n",
       "      <td>782</td>\n",
       "      <td>469</td>\n",
       "      <td>266</td>\n",
       "      <td>332</td>\n",
       "      <td>306</td>\n",
       "      <td>1407</td>\n",
       "      <td>367</td>\n",
       "      <td>622</td>\n",
       "      <td>1068</td>\n",
       "      <td>...</td>\n",
       "      <td>312</td>\n",
       "      <td>362</td>\n",
       "      <td>1039</td>\n",
       "      <td>801</td>\n",
       "      <td>109</td>\n",
       "      <td>381</td>\n",
       "      <td>225</td>\n",
       "      <td>1999</td>\n",
       "      <td>400</td>\n",
       "      <td>907</td>\n",
       "    </tr>\n",
       "    <tr>\n",
       "      <th>6</th>\n",
       "      <td>335</td>\n",
       "      <td>770</td>\n",
       "      <td>314</td>\n",
       "      <td>253</td>\n",
       "      <td>340</td>\n",
       "      <td>220</td>\n",
       "      <td>1184</td>\n",
       "      <td>396</td>\n",
       "      <td>615</td>\n",
       "      <td>1105</td>\n",
       "      <td>...</td>\n",
       "      <td>307</td>\n",
       "      <td>414</td>\n",
       "      <td>888</td>\n",
       "      <td>794</td>\n",
       "      <td>158</td>\n",
       "      <td>321</td>\n",
       "      <td>137</td>\n",
       "      <td>1990</td>\n",
       "      <td>320</td>\n",
       "      <td>913</td>\n",
       "    </tr>\n",
       "    <tr>\n",
       "      <th>7</th>\n",
       "      <td>324</td>\n",
       "      <td>650</td>\n",
       "      <td>393</td>\n",
       "      <td>313</td>\n",
       "      <td>269</td>\n",
       "      <td>194</td>\n",
       "      <td>1600</td>\n",
       "      <td>333</td>\n",
       "      <td>665</td>\n",
       "      <td>1009</td>\n",
       "      <td>...</td>\n",
       "      <td>394</td>\n",
       "      <td>421</td>\n",
       "      <td>912</td>\n",
       "      <td>837</td>\n",
       "      <td>173</td>\n",
       "      <td>309</td>\n",
       "      <td>216</td>\n",
       "      <td>1923</td>\n",
       "      <td>245</td>\n",
       "      <td>964</td>\n",
       "    </tr>\n",
       "    <tr>\n",
       "      <th>8</th>\n",
       "      <td>296</td>\n",
       "      <td>612</td>\n",
       "      <td>389</td>\n",
       "      <td>338</td>\n",
       "      <td>323</td>\n",
       "      <td>197</td>\n",
       "      <td>1459</td>\n",
       "      <td>333</td>\n",
       "      <td>681</td>\n",
       "      <td>1029</td>\n",
       "      <td>...</td>\n",
       "      <td>349</td>\n",
       "      <td>583</td>\n",
       "      <td>948</td>\n",
       "      <td>847</td>\n",
       "      <td>198</td>\n",
       "      <td>307</td>\n",
       "      <td>236</td>\n",
       "      <td>1867</td>\n",
       "      <td>266</td>\n",
       "      <td>902</td>\n",
       "    </tr>\n",
       "    <tr>\n",
       "      <th>9</th>\n",
       "      <td>275</td>\n",
       "      <td>582</td>\n",
       "      <td>444</td>\n",
       "      <td>295</td>\n",
       "      <td>210</td>\n",
       "      <td>156</td>\n",
       "      <td>1415</td>\n",
       "      <td>401</td>\n",
       "      <td>684</td>\n",
       "      <td>995</td>\n",
       "      <td>...</td>\n",
       "      <td>324</td>\n",
       "      <td>456</td>\n",
       "      <td>994</td>\n",
       "      <td>675</td>\n",
       "      <td>130</td>\n",
       "      <td>233</td>\n",
       "      <td>236</td>\n",
       "      <td>1899</td>\n",
       "      <td>238</td>\n",
       "      <td>828</td>\n",
       "    </tr>\n",
       "    <tr>\n",
       "      <th>10</th>\n",
       "      <td>306</td>\n",
       "      <td>574</td>\n",
       "      <td>491</td>\n",
       "      <td>276</td>\n",
       "      <td>236</td>\n",
       "      <td>153</td>\n",
       "      <td>1497</td>\n",
       "      <td>327</td>\n",
       "      <td>770</td>\n",
       "      <td>951</td>\n",
       "      <td>...</td>\n",
       "      <td>352</td>\n",
       "      <td>437</td>\n",
       "      <td>897</td>\n",
       "      <td>773</td>\n",
       "      <td>27</td>\n",
       "      <td>235</td>\n",
       "      <td>270</td>\n",
       "      <td>2045</td>\n",
       "      <td>357</td>\n",
       "      <td>661</td>\n",
       "    </tr>\n",
       "    <tr>\n",
       "      <th>11</th>\n",
       "      <td>299</td>\n",
       "      <td>600</td>\n",
       "      <td>515</td>\n",
       "      <td>317</td>\n",
       "      <td>229</td>\n",
       "      <td>177</td>\n",
       "      <td>1539</td>\n",
       "      <td>324</td>\n",
       "      <td>644</td>\n",
       "      <td>919</td>\n",
       "      <td>...</td>\n",
       "      <td>356</td>\n",
       "      <td>350</td>\n",
       "      <td>818</td>\n",
       "      <td>741</td>\n",
       "      <td>32</td>\n",
       "      <td>230</td>\n",
       "      <td>255</td>\n",
       "      <td>1850</td>\n",
       "      <td>261</td>\n",
       "      <td>693</td>\n",
       "    </tr>\n",
       "    <tr>\n",
       "      <th>12</th>\n",
       "      <td>320</td>\n",
       "      <td>593</td>\n",
       "      <td>482</td>\n",
       "      <td>369</td>\n",
       "      <td>207</td>\n",
       "      <td>145</td>\n",
       "      <td>1410</td>\n",
       "      <td>345</td>\n",
       "      <td>629</td>\n",
       "      <td>962</td>\n",
       "      <td>...</td>\n",
       "      <td>411</td>\n",
       "      <td>369</td>\n",
       "      <td>826</td>\n",
       "      <td>776</td>\n",
       "      <td>49</td>\n",
       "      <td>233</td>\n",
       "      <td>290</td>\n",
       "      <td>1985</td>\n",
       "      <td>275</td>\n",
       "      <td>692</td>\n",
       "    </tr>\n",
       "  </tbody>\n",
       "</table>\n",
       "<p>12 rows × 27 columns</p>\n",
       "</div>"
      ],
      "text/plain": [
       "category   ARTS & CULTURE  BUSINESS & FINANCES  COMEDY  CRIME  DIVORCE  \\\n",
       "month_num                                                                \n",
       "1                     296                  554     462    309      250   \n",
       "2                     291                  540     473    244      314   \n",
       "3                     381                  738     518    287      361   \n",
       "4                     382                  753     450    295      355   \n",
       "5                     417                  782     469    266      332   \n",
       "6                     335                  770     314    253      340   \n",
       "7                     324                  650     393    313      269   \n",
       "8                     296                  612     389    338      323   \n",
       "9                     275                  582     444    295      210   \n",
       "10                    306                  574     491    276      236   \n",
       "11                    299                  600     515    317      229   \n",
       "12                    320                  593     482    369      207   \n",
       "\n",
       "category   EDUCATION  ENTERTAINMENT  ENVIRONMENT  FOOD & DRINK  GROUPS VOICES  \\\n",
       "month_num                                                                       \n",
       "1                139           1602          303           709           1018   \n",
       "2                141           1386          275           810           1012   \n",
       "3                113           1457          300           876           1033   \n",
       "4                217           1406          362           731            959   \n",
       "5                306           1407          367           622           1068   \n",
       "6                220           1184          396           615           1105   \n",
       "7                194           1600          333           665           1009   \n",
       "8                197           1459          333           681           1029   \n",
       "9                156           1415          401           684            995   \n",
       "10               153           1497          327           770            951   \n",
       "11               177           1539          324           644            919   \n",
       "12               145           1410          345           629            962   \n",
       "\n",
       "category   ...  SCIENCE & TECH  SPORTS  STYLE & BEAUTY  TRAVEL  U.S. NEWS  \\\n",
       "month_num  ...                                                              \n",
       "1          ...             360     452             841     794         68   \n",
       "2          ...             395     578            1423     872        157   \n",
       "3          ...             395     355            1280    1060        179   \n",
       "4          ...             355     300            1202     930         97   \n",
       "5          ...             312     362            1039     801        109   \n",
       "6          ...             307     414             888     794        158   \n",
       "7          ...             394     421             912     837        173   \n",
       "8          ...             349     583             948     847        198   \n",
       "9          ...             324     456             994     675        130   \n",
       "10         ...             352     437             897     773         27   \n",
       "11         ...             356     350             818     741         32   \n",
       "12         ...             411     369             826     776         49   \n",
       "\n",
       "category   WEDDINGS  WEIRD NEWS  WELLNESS  WOMEN  WORLD NEWS  \n",
       "month_num                                                     \n",
       "1               246         272      2007    303         765  \n",
       "2               362         197      2281    244         660  \n",
       "3               401         204      2531    326         765  \n",
       "4               395         239      2262    337         792  \n",
       "5               381         225      1999    400         907  \n",
       "6               321         137      1990    320         913  \n",
       "7               309         216      1923    245         964  \n",
       "8               307         236      1867    266         902  \n",
       "9               233         236      1899    238         828  \n",
       "10              235         270      2045    357         661  \n",
       "11              230         255      1850    261         693  \n",
       "12              233         290      1985    275         692  \n",
       "\n",
       "[12 rows x 27 columns]"
      ]
     },
     "execution_count": 82,
     "metadata": {},
     "output_type": "execute_result"
    },
    {
     "data": {
      "application/javascript": [
       "\n",
       "            setTimeout(function() {\n",
       "                var nbb_cell_id = 82;\n",
       "                var nbb_unformatted_code = \"trial[\\\"link\\\"]\";\n",
       "                var nbb_formatted_code = \"trial[\\\"link\\\"]\";\n",
       "                var nbb_cells = Jupyter.notebook.get_cells();\n",
       "                for (var i = 0; i < nbb_cells.length; ++i) {\n",
       "                    if (nbb_cells[i].input_prompt_number == nbb_cell_id) {\n",
       "                        if (nbb_cells[i].get_text() == nbb_unformatted_code) {\n",
       "                             nbb_cells[i].set_text(nbb_formatted_code);\n",
       "                        }\n",
       "                        break;\n",
       "                    }\n",
       "                }\n",
       "            }, 500);\n",
       "            "
      ],
      "text/plain": [
       "<IPython.core.display.Javascript object>"
      ]
     },
     "metadata": {},
     "output_type": "display_data"
    }
   ],
   "source": [
    "trial[\"link\"]"
   ]
  },
  {
   "cell_type": "code",
   "execution_count": null,
   "id": "2d678df5",
   "metadata": {},
   "outputs": [],
   "source": []
  },
  {
   "cell_type": "code",
   "execution_count": 76,
   "id": "0623c607",
   "metadata": {
    "scrolled": false
   },
   "outputs": [
    {
     "data": {
      "application/vnd.plotly.v1+json": {
       "config": {
        "plotlyServerURL": "https://plot.ly"
       },
       "data": [
        {
         "alignmentgroup": "True",
         "hovertemplate": "variable=month_num<br>index=%{x}<br>value=%{y}<extra></extra>",
         "legendgroup": "month_num",
         "marker": {
          "color": "#636efa",
          "pattern": {
           "shape": ""
          }
         },
         "name": "month_num",
         "offsetgroup": "month_num",
         "orientation": "v",
         "showlegend": true,
         "textposition": "auto",
         "type": "bar",
         "x": [
          11,
          12,
          9,
          6,
          1,
          10,
          7,
          8,
          2,
          4,
          5,
          3
         ],
         "xaxis": "x",
         "y": [
          16454,
          16531,
          16590,
          16977,
          17162,
          17221,
          17297,
          17397,
          17879,
          18293,
          18627,
          19099
         ],
         "yaxis": "y"
        }
       ],
       "layout": {
        "barmode": "relative",
        "legend": {
         "title": {
          "text": "variable"
         },
         "tracegroupgap": 0
        },
        "margin": {
         "t": 60
        },
        "showlegend": false,
        "template": {
         "data": {
          "bar": [
           {
            "error_x": {
             "color": "#2a3f5f"
            },
            "error_y": {
             "color": "#2a3f5f"
            },
            "marker": {
             "line": {
              "color": "#E5ECF6",
              "width": 0.5
             },
             "pattern": {
              "fillmode": "overlay",
              "size": 10,
              "solidity": 0.2
             }
            },
            "type": "bar"
           }
          ],
          "barpolar": [
           {
            "marker": {
             "line": {
              "color": "#E5ECF6",
              "width": 0.5
             },
             "pattern": {
              "fillmode": "overlay",
              "size": 10,
              "solidity": 0.2
             }
            },
            "type": "barpolar"
           }
          ],
          "carpet": [
           {
            "aaxis": {
             "endlinecolor": "#2a3f5f",
             "gridcolor": "white",
             "linecolor": "white",
             "minorgridcolor": "white",
             "startlinecolor": "#2a3f5f"
            },
            "baxis": {
             "endlinecolor": "#2a3f5f",
             "gridcolor": "white",
             "linecolor": "white",
             "minorgridcolor": "white",
             "startlinecolor": "#2a3f5f"
            },
            "type": "carpet"
           }
          ],
          "choropleth": [
           {
            "colorbar": {
             "outlinewidth": 0,
             "ticks": ""
            },
            "type": "choropleth"
           }
          ],
          "contour": [
           {
            "colorbar": {
             "outlinewidth": 0,
             "ticks": ""
            },
            "colorscale": [
             [
              0,
              "#0d0887"
             ],
             [
              0.1111111111111111,
              "#46039f"
             ],
             [
              0.2222222222222222,
              "#7201a8"
             ],
             [
              0.3333333333333333,
              "#9c179e"
             ],
             [
              0.4444444444444444,
              "#bd3786"
             ],
             [
              0.5555555555555556,
              "#d8576b"
             ],
             [
              0.6666666666666666,
              "#ed7953"
             ],
             [
              0.7777777777777778,
              "#fb9f3a"
             ],
             [
              0.8888888888888888,
              "#fdca26"
             ],
             [
              1,
              "#f0f921"
             ]
            ],
            "type": "contour"
           }
          ],
          "contourcarpet": [
           {
            "colorbar": {
             "outlinewidth": 0,
             "ticks": ""
            },
            "type": "contourcarpet"
           }
          ],
          "heatmap": [
           {
            "colorbar": {
             "outlinewidth": 0,
             "ticks": ""
            },
            "colorscale": [
             [
              0,
              "#0d0887"
             ],
             [
              0.1111111111111111,
              "#46039f"
             ],
             [
              0.2222222222222222,
              "#7201a8"
             ],
             [
              0.3333333333333333,
              "#9c179e"
             ],
             [
              0.4444444444444444,
              "#bd3786"
             ],
             [
              0.5555555555555556,
              "#d8576b"
             ],
             [
              0.6666666666666666,
              "#ed7953"
             ],
             [
              0.7777777777777778,
              "#fb9f3a"
             ],
             [
              0.8888888888888888,
              "#fdca26"
             ],
             [
              1,
              "#f0f921"
             ]
            ],
            "type": "heatmap"
           }
          ],
          "heatmapgl": [
           {
            "colorbar": {
             "outlinewidth": 0,
             "ticks": ""
            },
            "colorscale": [
             [
              0,
              "#0d0887"
             ],
             [
              0.1111111111111111,
              "#46039f"
             ],
             [
              0.2222222222222222,
              "#7201a8"
             ],
             [
              0.3333333333333333,
              "#9c179e"
             ],
             [
              0.4444444444444444,
              "#bd3786"
             ],
             [
              0.5555555555555556,
              "#d8576b"
             ],
             [
              0.6666666666666666,
              "#ed7953"
             ],
             [
              0.7777777777777778,
              "#fb9f3a"
             ],
             [
              0.8888888888888888,
              "#fdca26"
             ],
             [
              1,
              "#f0f921"
             ]
            ],
            "type": "heatmapgl"
           }
          ],
          "histogram": [
           {
            "marker": {
             "pattern": {
              "fillmode": "overlay",
              "size": 10,
              "solidity": 0.2
             }
            },
            "type": "histogram"
           }
          ],
          "histogram2d": [
           {
            "colorbar": {
             "outlinewidth": 0,
             "ticks": ""
            },
            "colorscale": [
             [
              0,
              "#0d0887"
             ],
             [
              0.1111111111111111,
              "#46039f"
             ],
             [
              0.2222222222222222,
              "#7201a8"
             ],
             [
              0.3333333333333333,
              "#9c179e"
             ],
             [
              0.4444444444444444,
              "#bd3786"
             ],
             [
              0.5555555555555556,
              "#d8576b"
             ],
             [
              0.6666666666666666,
              "#ed7953"
             ],
             [
              0.7777777777777778,
              "#fb9f3a"
             ],
             [
              0.8888888888888888,
              "#fdca26"
             ],
             [
              1,
              "#f0f921"
             ]
            ],
            "type": "histogram2d"
           }
          ],
          "histogram2dcontour": [
           {
            "colorbar": {
             "outlinewidth": 0,
             "ticks": ""
            },
            "colorscale": [
             [
              0,
              "#0d0887"
             ],
             [
              0.1111111111111111,
              "#46039f"
             ],
             [
              0.2222222222222222,
              "#7201a8"
             ],
             [
              0.3333333333333333,
              "#9c179e"
             ],
             [
              0.4444444444444444,
              "#bd3786"
             ],
             [
              0.5555555555555556,
              "#d8576b"
             ],
             [
              0.6666666666666666,
              "#ed7953"
             ],
             [
              0.7777777777777778,
              "#fb9f3a"
             ],
             [
              0.8888888888888888,
              "#fdca26"
             ],
             [
              1,
              "#f0f921"
             ]
            ],
            "type": "histogram2dcontour"
           }
          ],
          "mesh3d": [
           {
            "colorbar": {
             "outlinewidth": 0,
             "ticks": ""
            },
            "type": "mesh3d"
           }
          ],
          "parcoords": [
           {
            "line": {
             "colorbar": {
              "outlinewidth": 0,
              "ticks": ""
             }
            },
            "type": "parcoords"
           }
          ],
          "pie": [
           {
            "automargin": true,
            "type": "pie"
           }
          ],
          "scatter": [
           {
            "fillpattern": {
             "fillmode": "overlay",
             "size": 10,
             "solidity": 0.2
            },
            "type": "scatter"
           }
          ],
          "scatter3d": [
           {
            "line": {
             "colorbar": {
              "outlinewidth": 0,
              "ticks": ""
             }
            },
            "marker": {
             "colorbar": {
              "outlinewidth": 0,
              "ticks": ""
             }
            },
            "type": "scatter3d"
           }
          ],
          "scattercarpet": [
           {
            "marker": {
             "colorbar": {
              "outlinewidth": 0,
              "ticks": ""
             }
            },
            "type": "scattercarpet"
           }
          ],
          "scattergeo": [
           {
            "marker": {
             "colorbar": {
              "outlinewidth": 0,
              "ticks": ""
             }
            },
            "type": "scattergeo"
           }
          ],
          "scattergl": [
           {
            "marker": {
             "colorbar": {
              "outlinewidth": 0,
              "ticks": ""
             }
            },
            "type": "scattergl"
           }
          ],
          "scattermapbox": [
           {
            "marker": {
             "colorbar": {
              "outlinewidth": 0,
              "ticks": ""
             }
            },
            "type": "scattermapbox"
           }
          ],
          "scatterpolar": [
           {
            "marker": {
             "colorbar": {
              "outlinewidth": 0,
              "ticks": ""
             }
            },
            "type": "scatterpolar"
           }
          ],
          "scatterpolargl": [
           {
            "marker": {
             "colorbar": {
              "outlinewidth": 0,
              "ticks": ""
             }
            },
            "type": "scatterpolargl"
           }
          ],
          "scatterternary": [
           {
            "marker": {
             "colorbar": {
              "outlinewidth": 0,
              "ticks": ""
             }
            },
            "type": "scatterternary"
           }
          ],
          "surface": [
           {
            "colorbar": {
             "outlinewidth": 0,
             "ticks": ""
            },
            "colorscale": [
             [
              0,
              "#0d0887"
             ],
             [
              0.1111111111111111,
              "#46039f"
             ],
             [
              0.2222222222222222,
              "#7201a8"
             ],
             [
              0.3333333333333333,
              "#9c179e"
             ],
             [
              0.4444444444444444,
              "#bd3786"
             ],
             [
              0.5555555555555556,
              "#d8576b"
             ],
             [
              0.6666666666666666,
              "#ed7953"
             ],
             [
              0.7777777777777778,
              "#fb9f3a"
             ],
             [
              0.8888888888888888,
              "#fdca26"
             ],
             [
              1,
              "#f0f921"
             ]
            ],
            "type": "surface"
           }
          ],
          "table": [
           {
            "cells": {
             "fill": {
              "color": "#EBF0F8"
             },
             "line": {
              "color": "white"
             }
            },
            "header": {
             "fill": {
              "color": "#C8D4E3"
             },
             "line": {
              "color": "white"
             }
            },
            "type": "table"
           }
          ]
         },
         "layout": {
          "annotationdefaults": {
           "arrowcolor": "#2a3f5f",
           "arrowhead": 0,
           "arrowwidth": 1
          },
          "autotypenumbers": "strict",
          "coloraxis": {
           "colorbar": {
            "outlinewidth": 0,
            "ticks": ""
           }
          },
          "colorscale": {
           "diverging": [
            [
             0,
             "#8e0152"
            ],
            [
             0.1,
             "#c51b7d"
            ],
            [
             0.2,
             "#de77ae"
            ],
            [
             0.3,
             "#f1b6da"
            ],
            [
             0.4,
             "#fde0ef"
            ],
            [
             0.5,
             "#f7f7f7"
            ],
            [
             0.6,
             "#e6f5d0"
            ],
            [
             0.7,
             "#b8e186"
            ],
            [
             0.8,
             "#7fbc41"
            ],
            [
             0.9,
             "#4d9221"
            ],
            [
             1,
             "#276419"
            ]
           ],
           "sequential": [
            [
             0,
             "#0d0887"
            ],
            [
             0.1111111111111111,
             "#46039f"
            ],
            [
             0.2222222222222222,
             "#7201a8"
            ],
            [
             0.3333333333333333,
             "#9c179e"
            ],
            [
             0.4444444444444444,
             "#bd3786"
            ],
            [
             0.5555555555555556,
             "#d8576b"
            ],
            [
             0.6666666666666666,
             "#ed7953"
            ],
            [
             0.7777777777777778,
             "#fb9f3a"
            ],
            [
             0.8888888888888888,
             "#fdca26"
            ],
            [
             1,
             "#f0f921"
            ]
           ],
           "sequentialminus": [
            [
             0,
             "#0d0887"
            ],
            [
             0.1111111111111111,
             "#46039f"
            ],
            [
             0.2222222222222222,
             "#7201a8"
            ],
            [
             0.3333333333333333,
             "#9c179e"
            ],
            [
             0.4444444444444444,
             "#bd3786"
            ],
            [
             0.5555555555555556,
             "#d8576b"
            ],
            [
             0.6666666666666666,
             "#ed7953"
            ],
            [
             0.7777777777777778,
             "#fb9f3a"
            ],
            [
             0.8888888888888888,
             "#fdca26"
            ],
            [
             1,
             "#f0f921"
            ]
           ]
          },
          "colorway": [
           "#636efa",
           "#EF553B",
           "#00cc96",
           "#ab63fa",
           "#FFA15A",
           "#19d3f3",
           "#FF6692",
           "#B6E880",
           "#FF97FF",
           "#FECB52"
          ],
          "font": {
           "color": "#2a3f5f"
          },
          "geo": {
           "bgcolor": "white",
           "lakecolor": "white",
           "landcolor": "#E5ECF6",
           "showlakes": true,
           "showland": true,
           "subunitcolor": "white"
          },
          "hoverlabel": {
           "align": "left"
          },
          "hovermode": "closest",
          "mapbox": {
           "style": "light"
          },
          "paper_bgcolor": "white",
          "plot_bgcolor": "#E5ECF6",
          "polar": {
           "angularaxis": {
            "gridcolor": "white",
            "linecolor": "white",
            "ticks": ""
           },
           "bgcolor": "#E5ECF6",
           "radialaxis": {
            "gridcolor": "white",
            "linecolor": "white",
            "ticks": ""
           }
          },
          "scene": {
           "xaxis": {
            "backgroundcolor": "#E5ECF6",
            "gridcolor": "white",
            "gridwidth": 2,
            "linecolor": "white",
            "showbackground": true,
            "ticks": "",
            "zerolinecolor": "white"
           },
           "yaxis": {
            "backgroundcolor": "#E5ECF6",
            "gridcolor": "white",
            "gridwidth": 2,
            "linecolor": "white",
            "showbackground": true,
            "ticks": "",
            "zerolinecolor": "white"
           },
           "zaxis": {
            "backgroundcolor": "#E5ECF6",
            "gridcolor": "white",
            "gridwidth": 2,
            "linecolor": "white",
            "showbackground": true,
            "ticks": "",
            "zerolinecolor": "white"
           }
          },
          "shapedefaults": {
           "line": {
            "color": "#2a3f5f"
           }
          },
          "ternary": {
           "aaxis": {
            "gridcolor": "white",
            "linecolor": "white",
            "ticks": ""
           },
           "baxis": {
            "gridcolor": "white",
            "linecolor": "white",
            "ticks": ""
           },
           "bgcolor": "#E5ECF6",
           "caxis": {
            "gridcolor": "white",
            "linecolor": "white",
            "ticks": ""
           }
          },
          "title": {
           "x": 0.05
          },
          "xaxis": {
           "automargin": true,
           "gridcolor": "white",
           "linecolor": "white",
           "ticks": "",
           "title": {
            "standoff": 15
           },
           "zerolinecolor": "white",
           "zerolinewidth": 2
          },
          "yaxis": {
           "automargin": true,
           "gridcolor": "white",
           "linecolor": "white",
           "ticks": "",
           "title": {
            "standoff": 15
           },
           "zerolinecolor": "white",
           "zerolinewidth": 2
          }
         }
        },
        "title": {
         "text": "Number of Articles by Month"
        },
        "xaxis": {
         "anchor": "y",
         "domain": [
          0,
          1
         ],
         "title": {
          "text": "Month Number"
         }
        },
        "yaxis": {
         "anchor": "x",
         "domain": [
          0,
          1
         ],
         "title": {
          "text": "Number of Articles"
         }
        }
       }
      },
      "text/html": [
       "<div>                            <div id=\"b1a730c5-2afe-4f27-b807-122660fd54d5\" class=\"plotly-graph-div\" style=\"height:525px; width:100%;\"></div>            <script type=\"text/javascript\">                require([\"plotly\"], function(Plotly) {                    window.PLOTLYENV=window.PLOTLYENV || {};                                    if (document.getElementById(\"b1a730c5-2afe-4f27-b807-122660fd54d5\")) {                    Plotly.newPlot(                        \"b1a730c5-2afe-4f27-b807-122660fd54d5\",                        [{\"alignmentgroup\":\"True\",\"hovertemplate\":\"variable=month_num<br>index=%{x}<br>value=%{y}<extra></extra>\",\"legendgroup\":\"month_num\",\"marker\":{\"color\":\"#636efa\",\"pattern\":{\"shape\":\"\"}},\"name\":\"month_num\",\"offsetgroup\":\"month_num\",\"orientation\":\"v\",\"showlegend\":true,\"textposition\":\"auto\",\"x\":[11,12,9,6,1,10,7,8,2,4,5,3],\"xaxis\":\"x\",\"y\":[16454,16531,16590,16977,17162,17221,17297,17397,17879,18293,18627,19099],\"yaxis\":\"y\",\"type\":\"bar\"}],                        {\"template\":{\"data\":{\"histogram2dcontour\":[{\"type\":\"histogram2dcontour\",\"colorbar\":{\"outlinewidth\":0,\"ticks\":\"\"},\"colorscale\":[[0.0,\"#0d0887\"],[0.1111111111111111,\"#46039f\"],[0.2222222222222222,\"#7201a8\"],[0.3333333333333333,\"#9c179e\"],[0.4444444444444444,\"#bd3786\"],[0.5555555555555556,\"#d8576b\"],[0.6666666666666666,\"#ed7953\"],[0.7777777777777778,\"#fb9f3a\"],[0.8888888888888888,\"#fdca26\"],[1.0,\"#f0f921\"]]}],\"choropleth\":[{\"type\":\"choropleth\",\"colorbar\":{\"outlinewidth\":0,\"ticks\":\"\"}}],\"histogram2d\":[{\"type\":\"histogram2d\",\"colorbar\":{\"outlinewidth\":0,\"ticks\":\"\"},\"colorscale\":[[0.0,\"#0d0887\"],[0.1111111111111111,\"#46039f\"],[0.2222222222222222,\"#7201a8\"],[0.3333333333333333,\"#9c179e\"],[0.4444444444444444,\"#bd3786\"],[0.5555555555555556,\"#d8576b\"],[0.6666666666666666,\"#ed7953\"],[0.7777777777777778,\"#fb9f3a\"],[0.8888888888888888,\"#fdca26\"],[1.0,\"#f0f921\"]]}],\"heatmap\":[{\"type\":\"heatmap\",\"colorbar\":{\"outlinewidth\":0,\"ticks\":\"\"},\"colorscale\":[[0.0,\"#0d0887\"],[0.1111111111111111,\"#46039f\"],[0.2222222222222222,\"#7201a8\"],[0.3333333333333333,\"#9c179e\"],[0.4444444444444444,\"#bd3786\"],[0.5555555555555556,\"#d8576b\"],[0.6666666666666666,\"#ed7953\"],[0.7777777777777778,\"#fb9f3a\"],[0.8888888888888888,\"#fdca26\"],[1.0,\"#f0f921\"]]}],\"heatmapgl\":[{\"type\":\"heatmapgl\",\"colorbar\":{\"outlinewidth\":0,\"ticks\":\"\"},\"colorscale\":[[0.0,\"#0d0887\"],[0.1111111111111111,\"#46039f\"],[0.2222222222222222,\"#7201a8\"],[0.3333333333333333,\"#9c179e\"],[0.4444444444444444,\"#bd3786\"],[0.5555555555555556,\"#d8576b\"],[0.6666666666666666,\"#ed7953\"],[0.7777777777777778,\"#fb9f3a\"],[0.8888888888888888,\"#fdca26\"],[1.0,\"#f0f921\"]]}],\"contourcarpet\":[{\"type\":\"contourcarpet\",\"colorbar\":{\"outlinewidth\":0,\"ticks\":\"\"}}],\"contour\":[{\"type\":\"contour\",\"colorbar\":{\"outlinewidth\":0,\"ticks\":\"\"},\"colorscale\":[[0.0,\"#0d0887\"],[0.1111111111111111,\"#46039f\"],[0.2222222222222222,\"#7201a8\"],[0.3333333333333333,\"#9c179e\"],[0.4444444444444444,\"#bd3786\"],[0.5555555555555556,\"#d8576b\"],[0.6666666666666666,\"#ed7953\"],[0.7777777777777778,\"#fb9f3a\"],[0.8888888888888888,\"#fdca26\"],[1.0,\"#f0f921\"]]}],\"surface\":[{\"type\":\"surface\",\"colorbar\":{\"outlinewidth\":0,\"ticks\":\"\"},\"colorscale\":[[0.0,\"#0d0887\"],[0.1111111111111111,\"#46039f\"],[0.2222222222222222,\"#7201a8\"],[0.3333333333333333,\"#9c179e\"],[0.4444444444444444,\"#bd3786\"],[0.5555555555555556,\"#d8576b\"],[0.6666666666666666,\"#ed7953\"],[0.7777777777777778,\"#fb9f3a\"],[0.8888888888888888,\"#fdca26\"],[1.0,\"#f0f921\"]]}],\"mesh3d\":[{\"type\":\"mesh3d\",\"colorbar\":{\"outlinewidth\":0,\"ticks\":\"\"}}],\"scatter\":[{\"fillpattern\":{\"fillmode\":\"overlay\",\"size\":10,\"solidity\":0.2},\"type\":\"scatter\"}],\"parcoords\":[{\"type\":\"parcoords\",\"line\":{\"colorbar\":{\"outlinewidth\":0,\"ticks\":\"\"}}}],\"scatterpolargl\":[{\"type\":\"scatterpolargl\",\"marker\":{\"colorbar\":{\"outlinewidth\":0,\"ticks\":\"\"}}}],\"bar\":[{\"error_x\":{\"color\":\"#2a3f5f\"},\"error_y\":{\"color\":\"#2a3f5f\"},\"marker\":{\"line\":{\"color\":\"#E5ECF6\",\"width\":0.5},\"pattern\":{\"fillmode\":\"overlay\",\"size\":10,\"solidity\":0.2}},\"type\":\"bar\"}],\"scattergeo\":[{\"type\":\"scattergeo\",\"marker\":{\"colorbar\":{\"outlinewidth\":0,\"ticks\":\"\"}}}],\"scatterpolar\":[{\"type\":\"scatterpolar\",\"marker\":{\"colorbar\":{\"outlinewidth\":0,\"ticks\":\"\"}}}],\"histogram\":[{\"marker\":{\"pattern\":{\"fillmode\":\"overlay\",\"size\":10,\"solidity\":0.2}},\"type\":\"histogram\"}],\"scattergl\":[{\"type\":\"scattergl\",\"marker\":{\"colorbar\":{\"outlinewidth\":0,\"ticks\":\"\"}}}],\"scatter3d\":[{\"type\":\"scatter3d\",\"line\":{\"colorbar\":{\"outlinewidth\":0,\"ticks\":\"\"}},\"marker\":{\"colorbar\":{\"outlinewidth\":0,\"ticks\":\"\"}}}],\"scattermapbox\":[{\"type\":\"scattermapbox\",\"marker\":{\"colorbar\":{\"outlinewidth\":0,\"ticks\":\"\"}}}],\"scatterternary\":[{\"type\":\"scatterternary\",\"marker\":{\"colorbar\":{\"outlinewidth\":0,\"ticks\":\"\"}}}],\"scattercarpet\":[{\"type\":\"scattercarpet\",\"marker\":{\"colorbar\":{\"outlinewidth\":0,\"ticks\":\"\"}}}],\"carpet\":[{\"aaxis\":{\"endlinecolor\":\"#2a3f5f\",\"gridcolor\":\"white\",\"linecolor\":\"white\",\"minorgridcolor\":\"white\",\"startlinecolor\":\"#2a3f5f\"},\"baxis\":{\"endlinecolor\":\"#2a3f5f\",\"gridcolor\":\"white\",\"linecolor\":\"white\",\"minorgridcolor\":\"white\",\"startlinecolor\":\"#2a3f5f\"},\"type\":\"carpet\"}],\"table\":[{\"cells\":{\"fill\":{\"color\":\"#EBF0F8\"},\"line\":{\"color\":\"white\"}},\"header\":{\"fill\":{\"color\":\"#C8D4E3\"},\"line\":{\"color\":\"white\"}},\"type\":\"table\"}],\"barpolar\":[{\"marker\":{\"line\":{\"color\":\"#E5ECF6\",\"width\":0.5},\"pattern\":{\"fillmode\":\"overlay\",\"size\":10,\"solidity\":0.2}},\"type\":\"barpolar\"}],\"pie\":[{\"automargin\":true,\"type\":\"pie\"}]},\"layout\":{\"autotypenumbers\":\"strict\",\"colorway\":[\"#636efa\",\"#EF553B\",\"#00cc96\",\"#ab63fa\",\"#FFA15A\",\"#19d3f3\",\"#FF6692\",\"#B6E880\",\"#FF97FF\",\"#FECB52\"],\"font\":{\"color\":\"#2a3f5f\"},\"hovermode\":\"closest\",\"hoverlabel\":{\"align\":\"left\"},\"paper_bgcolor\":\"white\",\"plot_bgcolor\":\"#E5ECF6\",\"polar\":{\"bgcolor\":\"#E5ECF6\",\"angularaxis\":{\"gridcolor\":\"white\",\"linecolor\":\"white\",\"ticks\":\"\"},\"radialaxis\":{\"gridcolor\":\"white\",\"linecolor\":\"white\",\"ticks\":\"\"}},\"ternary\":{\"bgcolor\":\"#E5ECF6\",\"aaxis\":{\"gridcolor\":\"white\",\"linecolor\":\"white\",\"ticks\":\"\"},\"baxis\":{\"gridcolor\":\"white\",\"linecolor\":\"white\",\"ticks\":\"\"},\"caxis\":{\"gridcolor\":\"white\",\"linecolor\":\"white\",\"ticks\":\"\"}},\"coloraxis\":{\"colorbar\":{\"outlinewidth\":0,\"ticks\":\"\"}},\"colorscale\":{\"sequential\":[[0.0,\"#0d0887\"],[0.1111111111111111,\"#46039f\"],[0.2222222222222222,\"#7201a8\"],[0.3333333333333333,\"#9c179e\"],[0.4444444444444444,\"#bd3786\"],[0.5555555555555556,\"#d8576b\"],[0.6666666666666666,\"#ed7953\"],[0.7777777777777778,\"#fb9f3a\"],[0.8888888888888888,\"#fdca26\"],[1.0,\"#f0f921\"]],\"sequentialminus\":[[0.0,\"#0d0887\"],[0.1111111111111111,\"#46039f\"],[0.2222222222222222,\"#7201a8\"],[0.3333333333333333,\"#9c179e\"],[0.4444444444444444,\"#bd3786\"],[0.5555555555555556,\"#d8576b\"],[0.6666666666666666,\"#ed7953\"],[0.7777777777777778,\"#fb9f3a\"],[0.8888888888888888,\"#fdca26\"],[1.0,\"#f0f921\"]],\"diverging\":[[0,\"#8e0152\"],[0.1,\"#c51b7d\"],[0.2,\"#de77ae\"],[0.3,\"#f1b6da\"],[0.4,\"#fde0ef\"],[0.5,\"#f7f7f7\"],[0.6,\"#e6f5d0\"],[0.7,\"#b8e186\"],[0.8,\"#7fbc41\"],[0.9,\"#4d9221\"],[1,\"#276419\"]]},\"xaxis\":{\"gridcolor\":\"white\",\"linecolor\":\"white\",\"ticks\":\"\",\"title\":{\"standoff\":15},\"zerolinecolor\":\"white\",\"automargin\":true,\"zerolinewidth\":2},\"yaxis\":{\"gridcolor\":\"white\",\"linecolor\":\"white\",\"ticks\":\"\",\"title\":{\"standoff\":15},\"zerolinecolor\":\"white\",\"automargin\":true,\"zerolinewidth\":2},\"scene\":{\"xaxis\":{\"backgroundcolor\":\"#E5ECF6\",\"gridcolor\":\"white\",\"linecolor\":\"white\",\"showbackground\":true,\"ticks\":\"\",\"zerolinecolor\":\"white\",\"gridwidth\":2},\"yaxis\":{\"backgroundcolor\":\"#E5ECF6\",\"gridcolor\":\"white\",\"linecolor\":\"white\",\"showbackground\":true,\"ticks\":\"\",\"zerolinecolor\":\"white\",\"gridwidth\":2},\"zaxis\":{\"backgroundcolor\":\"#E5ECF6\",\"gridcolor\":\"white\",\"linecolor\":\"white\",\"showbackground\":true,\"ticks\":\"\",\"zerolinecolor\":\"white\",\"gridwidth\":2}},\"shapedefaults\":{\"line\":{\"color\":\"#2a3f5f\"}},\"annotationdefaults\":{\"arrowcolor\":\"#2a3f5f\",\"arrowhead\":0,\"arrowwidth\":1},\"geo\":{\"bgcolor\":\"white\",\"landcolor\":\"#E5ECF6\",\"subunitcolor\":\"white\",\"showland\":true,\"showlakes\":true,\"lakecolor\":\"white\"},\"title\":{\"x\":0.05},\"mapbox\":{\"style\":\"light\"}}},\"xaxis\":{\"anchor\":\"y\",\"domain\":[0.0,1.0],\"title\":{\"text\":\"Month Number\"}},\"yaxis\":{\"anchor\":\"x\",\"domain\":[0.0,1.0],\"title\":{\"text\":\"Number of Articles\"}},\"legend\":{\"title\":{\"text\":\"variable\"},\"tracegroupgap\":0},\"margin\":{\"t\":60},\"barmode\":\"relative\",\"title\":{\"text\":\"Number of Articles by Month\"},\"showlegend\":false},                        {\"responsive\": true}                    ).then(function(){\n",
       "                            \n",
       "var gd = document.getElementById('b1a730c5-2afe-4f27-b807-122660fd54d5');\n",
       "var x = new MutationObserver(function (mutations, observer) {{\n",
       "        var display = window.getComputedStyle(gd).display;\n",
       "        if (!display || display === 'none') {{\n",
       "            console.log([gd, 'removed!']);\n",
       "            Plotly.purge(gd);\n",
       "            observer.disconnect();\n",
       "        }}\n",
       "}});\n",
       "\n",
       "// Listen for the removal of the full notebook cells\n",
       "var notebookContainer = gd.closest('#notebook-container');\n",
       "if (notebookContainer) {{\n",
       "    x.observe(notebookContainer, {childList: true});\n",
       "}}\n",
       "\n",
       "// Listen for the clearing of the current output cell\n",
       "var outputEl = gd.closest('.output');\n",
       "if (outputEl) {{\n",
       "    x.observe(outputEl, {childList: true});\n",
       "}}\n",
       "\n",
       "                        })                };                });            </script>        </div>"
      ]
     },
     "metadata": {},
     "output_type": "display_data"
    },
    {
     "data": {
      "application/javascript": [
       "\n",
       "            setTimeout(function() {\n",
       "                var nbb_cell_id = 76;\n",
       "                var nbb_unformatted_code = \"fig = px.bar(df[\\\"month_num\\\"].value_counts().sort_values())\\nfig.update_layout(\\n    xaxis_title=\\\"Month Number\\\",\\n    yaxis_title=\\\"Number of Articles\\\",\\n    title=\\\"Number of Articles by Month\\\",\\n    showlegend=False,\\n)\\nfig.show()\";\n",
       "                var nbb_formatted_code = \"fig = px.bar(df[\\\"month_num\\\"].value_counts().sort_values())\\nfig.update_layout(\\n    xaxis_title=\\\"Month Number\\\",\\n    yaxis_title=\\\"Number of Articles\\\",\\n    title=\\\"Number of Articles by Month\\\",\\n    showlegend=False,\\n)\\nfig.show()\";\n",
       "                var nbb_cells = Jupyter.notebook.get_cells();\n",
       "                for (var i = 0; i < nbb_cells.length; ++i) {\n",
       "                    if (nbb_cells[i].input_prompt_number == nbb_cell_id) {\n",
       "                        if (nbb_cells[i].get_text() == nbb_unformatted_code) {\n",
       "                             nbb_cells[i].set_text(nbb_formatted_code);\n",
       "                        }\n",
       "                        break;\n",
       "                    }\n",
       "                }\n",
       "            }, 500);\n",
       "            "
      ],
      "text/plain": [
       "<IPython.core.display.Javascript object>"
      ]
     },
     "metadata": {},
     "output_type": "display_data"
    }
   ],
   "source": [
    "fig = px.bar(df[\"month_num\"].value_counts().sort_values())\n",
    "fig.update_layout(\n",
    "    xaxis_title=\"Month Number\",\n",
    "    yaxis_title=\"Number of Articles\",\n",
    "    title=\"Number of Articles by Month\",\n",
    "    showlegend=False,\n",
    ")\n",
    "fig.show()"
   ]
  },
  {
   "cell_type": "code",
   "execution_count": null,
   "id": "2a3e3045",
   "metadata": {},
   "outputs": [],
   "source": []
  },
  {
   "cell_type": "code",
   "execution_count": null,
   "id": "943330a6",
   "metadata": {},
   "outputs": [],
   "source": []
  },
  {
   "cell_type": "code",
   "execution_count": 27,
   "id": "62c1e89e",
   "metadata": {},
   "outputs": [
    {
     "data": {
      "text/plain": [
       "(209527, 7)"
      ]
     },
     "execution_count": 27,
     "metadata": {},
     "output_type": "execute_result"
    },
    {
     "data": {
      "application/javascript": [
       "\n",
       "            setTimeout(function() {\n",
       "                var nbb_cell_id = 27;\n",
       "                var nbb_unformatted_code = \"df.shape\";\n",
       "                var nbb_formatted_code = \"df.shape\";\n",
       "                var nbb_cells = Jupyter.notebook.get_cells();\n",
       "                for (var i = 0; i < nbb_cells.length; ++i) {\n",
       "                    if (nbb_cells[i].input_prompt_number == nbb_cell_id) {\n",
       "                        if (nbb_cells[i].get_text() == nbb_unformatted_code) {\n",
       "                             nbb_cells[i].set_text(nbb_formatted_code);\n",
       "                        }\n",
       "                        break;\n",
       "                    }\n",
       "                }\n",
       "            }, 500);\n",
       "            "
      ],
      "text/plain": [
       "<IPython.core.display.Javascript object>"
      ]
     },
     "metadata": {},
     "output_type": "display_data"
    }
   ],
   "source": [
    "df.shape"
   ]
  },
  {
   "cell_type": "code",
   "execution_count": null,
   "id": "31d55dcd",
   "metadata": {},
   "outputs": [],
   "source": []
  },
  {
   "cell_type": "code",
   "execution_count": null,
   "id": "2c0e38f5",
   "metadata": {},
   "outputs": [],
   "source": []
  },
  {
   "cell_type": "code",
   "execution_count": null,
   "id": "dde075ca",
   "metadata": {},
   "outputs": [],
   "source": []
  }
 ],
 "metadata": {
  "kernelspec": {
   "display_name": "Python 3 (ipykernel)",
   "language": "python",
   "name": "python3"
  },
  "language_info": {
   "codemirror_mode": {
    "name": "ipython",
    "version": 3
   },
   "file_extension": ".py",
   "mimetype": "text/x-python",
   "name": "python",
   "nbconvert_exporter": "python",
   "pygments_lexer": "ipython3",
   "version": "3.10.9"
  }
 },
 "nbformat": 4,
 "nbformat_minor": 5
}
